{
 "cells": [
  {
   "cell_type": "code",
   "execution_count": 34,
   "metadata": {},
   "outputs": [],
   "source": [
    "import pandas as pd\n",
    "from raceplotly.plots import barplot\n",
    "\n",
    "\n",
    "data = pd.read_csv('data/dpt2020.csv', sep=';')\n",
    "data.head()\n",
    "# concatenate duplicates prenoms\n",
    "grouped_df = data.groupby(['prenoms', 'annee'], as_index=False).sum()\n"
   ]
  },
  {
   "cell_type": "code",
   "execution_count": 39,
   "metadata": {},
   "outputs": [
    {
     "data": {
      "application/vnd.plotly.v1+json": {
       "config": {
        "plotlyServerURL": "https://plot.ly"
       },
       "data": [
        {
         "cliponaxis": false,
         "hoverinfo": "all",
         "marker": {
          "color": [
           "rgb(81, 243, 41)",
           "rgb(254, 227, 251)",
           "rgb(201, 149, 51)",
           "rgb(32, 38, 98)",
           "rgb(26, 162, 48)",
           "rgb(105, 92, 73)",
           "rgb(34, 110, 205)",
           "rgb(94, 7, 121)",
           "rgb(5, 58, 159)",
           "rgb(173, 217, 47)"
          ]
         },
         "orientation": "h",
         "textangle": 0,
         "textposition": "outside",
         "texttemplate": "%{y}<br>%{x:.4s}",
         "type": "bar",
         "x": [
          6696,
          6919,
          6980,
          7259,
          7461,
          8058,
          9052,
          13981,
          14100,
          49752
         ],
         "y": [
          "LOUISE",
          "HENRI",
          "GERMAINE",
          "JOSEPH",
          "PIERRE",
          "MARGUERITE",
          "LOUIS",
          "JEANNE",
          "JEAN",
          "MARIE"
         ]
        }
       ],
       "frames": [
        {
         "data": [
          {
           "cliponaxis": false,
           "hoverinfo": "all",
           "hovertemplate": "<extra></extra>",
           "marker": {
            "color": [
             "rgb(81, 243, 41)",
             "rgb(254, 227, 251)",
             "rgb(201, 149, 51)",
             "rgb(32, 38, 98)",
             "rgb(26, 162, 48)",
             "rgb(105, 92, 73)",
             "rgb(34, 110, 205)",
             "rgb(94, 7, 121)",
             "rgb(5, 58, 159)",
             "rgb(173, 217, 47)"
            ]
           },
           "orientation": "h",
           "textangle": 0,
           "textposition": "outside",
           "texttemplate": "%{y}<br>%{x:.4s}",
           "type": "bar",
           "x": [
            6696,
            6919,
            6980,
            7259,
            7461,
            8058,
            9052,
            13981,
            14100,
            49752
           ],
           "y": [
            "LOUISE",
            "HENRI",
            "GERMAINE",
            "JOSEPH",
            "PIERRE",
            "MARGUERITE",
            "LOUIS",
            "JEANNE",
            "JEAN",
            "MARIE"
           ]
          }
         ],
         "layout": {
          "bargap": 0.15,
          "font": {
           "size": 14
          },
          "plot_bgcolor": "#FFFFFF",
          "title": {
           "text": "Top 10 prenoms"
          },
          "xaxis": {
           "range": [
            0,
            53596
           ],
           "showline": true,
           "visible": true
          },
          "yaxis": {
           "showline": false,
           "visible": true
          }
         },
         "name": "1900"
        },
        {
         "data": [
          {
           "cliponaxis": false,
           "hoverinfo": "all",
           "hovertemplate": "<extra></extra>",
           "marker": {
            "color": [
             "rgb(254, 227, 251)",
             "rgb(36, 203, 129)",
             "rgb(201, 149, 51)",
             "rgb(32, 38, 98)",
             "rgb(26, 162, 48)",
             "rgb(105, 92, 73)",
             "rgb(34, 110, 205)",
             "rgb(94, 7, 121)",
             "rgb(5, 58, 159)",
             "rgb(173, 217, 47)"
            ]
           },
           "orientation": "h",
           "textangle": 0,
           "textposition": "outside",
           "texttemplate": "%{y}<br>%{x:.4s}",
           "type": "bar",
           "x": [
            7468,
            7582,
            7688,
            7899,
            8458,
            9009,
            10061,
            14963,
            15638,
            53177
           ],
           "y": [
            "HENRI",
            "MARCEL",
            "GERMAINE",
            "JOSEPH",
            "PIERRE",
            "MARGUERITE",
            "LOUIS",
            "JEANNE",
            "JEAN",
            "MARIE"
           ]
          }
         ],
         "layout": {
          "bargap": 0.15,
          "font": {
           "size": 14
          },
          "plot_bgcolor": "#FFFFFF",
          "title": {
           "text": "Top 10 prenoms"
          },
          "xaxis": {
           "range": [
            0,
            53596
           ],
           "showline": true,
           "visible": true
          },
          "yaxis": {
           "showline": false,
           "visible": true
          }
         },
         "name": "1901"
        },
        {
         "data": [
          {
           "cliponaxis": false,
           "hoverinfo": "all",
           "hovertemplate": "<extra></extra>",
           "marker": {
            "color": [
             "rgb(32, 38, 98)",
             "rgb(254, 227, 251)",
             "rgb(36, 203, 129)",
             "rgb(201, 149, 51)",
             "rgb(26, 162, 48)",
             "rgb(105, 92, 73)",
             "rgb(34, 110, 205)",
             "rgb(94, 7, 121)",
             "rgb(5, 58, 159)",
             "rgb(173, 217, 47)"
            ]
           },
           "orientation": "h",
           "textangle": 0,
           "textposition": "outside",
           "texttemplate": "%{y}<br>%{x:.4s}",
           "type": "bar",
           "x": [
            7947,
            8026,
            8187,
            8335,
            8983,
            9101,
            10436,
            14927,
            16370,
            52889
           ],
           "y": [
            "JOSEPH",
            "HENRI",
            "MARCEL",
            "GERMAINE",
            "PIERRE",
            "MARGUERITE",
            "LOUIS",
            "JEANNE",
            "JEAN",
            "MARIE"
           ]
          }
         ],
         "layout": {
          "bargap": 0.15,
          "font": {
           "size": 14
          },
          "plot_bgcolor": "#FFFFFF",
          "title": {
           "text": "Top 10 prenoms"
          },
          "xaxis": {
           "range": [
            0,
            53596
           ],
           "showline": true,
           "visible": true
          },
          "yaxis": {
           "showline": false,
           "visible": true
          }
         },
         "name": "1902"
        },
        {
         "data": [
          {
           "cliponaxis": false,
           "hoverinfo": "all",
           "hovertemplate": "<extra></extra>",
           "marker": {
            "color": [
             "rgb(201, 149, 51)",
             "rgb(32, 38, 98)",
             "rgb(254, 227, 251)",
             "rgb(36, 203, 129)",
             "rgb(105, 92, 73)",
             "rgb(26, 162, 48)",
             "rgb(34, 110, 205)",
             "rgb(94, 7, 121)",
             "rgb(5, 58, 159)",
             "rgb(173, 217, 47)"
            ]
           },
           "orientation": "h",
           "textangle": 0,
           "textposition": "outside",
           "texttemplate": "%{y}<br>%{x:.4s}",
           "type": "bar",
           "x": [
            7934,
            8068,
            8139,
            8600,
            8846,
            9080,
            9988,
            15017,
            16535,
            51443
           ],
           "y": [
            "GERMAINE",
            "JOSEPH",
            "HENRI",
            "MARCEL",
            "MARGUERITE",
            "PIERRE",
            "LOUIS",
            "JEANNE",
            "JEAN",
            "MARIE"
           ]
          }
         ],
         "layout": {
          "bargap": 0.15,
          "font": {
           "size": 14
          },
          "plot_bgcolor": "#FFFFFF",
          "title": {
           "text": "Top 10 prenoms"
          },
          "xaxis": {
           "range": [
            0,
            53596
           ],
           "showline": true,
           "visible": true
          },
          "yaxis": {
           "showline": false,
           "visible": true
          }
         },
         "name": "1903"
        },
        {
         "data": [
          {
           "cliponaxis": false,
           "hoverinfo": "all",
           "hovertemplate": "<extra></extra>",
           "marker": {
            "color": [
             "rgb(254, 227, 251)",
             "rgb(32, 38, 98)",
             "rgb(201, 149, 51)",
             "rgb(36, 203, 129)",
             "rgb(105, 92, 73)",
             "rgb(26, 162, 48)",
             "rgb(34, 110, 205)",
             "rgb(94, 7, 121)",
             "rgb(5, 58, 159)",
             "rgb(173, 217, 47)"
            ]
           },
           "orientation": "h",
           "textangle": 0,
           "textposition": "outside",
           "texttemplate": "%{y}<br>%{x:.4s}",
           "type": "bar",
           "x": [
            8078,
            8120,
            8260,
            8874,
            9003,
            9220,
            10415,
            14909,
            16944,
            51075
           ],
           "y": [
            "HENRI",
            "JOSEPH",
            "GERMAINE",
            "MARCEL",
            "MARGUERITE",
            "PIERRE",
            "LOUIS",
            "JEANNE",
            "JEAN",
            "MARIE"
           ]
          }
         ],
         "layout": {
          "bargap": 0.15,
          "font": {
           "size": 14
          },
          "plot_bgcolor": "#FFFFFF",
          "title": {
           "text": "Top 10 prenoms"
          },
          "xaxis": {
           "range": [
            0,
            53596
           ],
           "showline": true,
           "visible": true
          },
          "yaxis": {
           "showline": false,
           "visible": true
          }
         },
         "name": "1904"
        },
        {
         "data": [
          {
           "cliponaxis": false,
           "hoverinfo": "all",
           "hovertemplate": "<extra></extra>",
           "marker": {
            "color": [
             "rgb(32, 38, 98)",
             "rgb(254, 227, 251)",
             "rgb(56, 202, 194)",
             "rgb(105, 92, 73)",
             "rgb(36, 203, 129)",
             "rgb(26, 162, 48)",
             "rgb(34, 110, 205)",
             "rgb(94, 7, 121)",
             "rgb(5, 58, 159)",
             "rgb(173, 217, 47)"
            ]
           },
           "orientation": "h",
           "textangle": 0,
           "textposition": "outside",
           "texttemplate": "%{y}<br>%{x:.4s}",
           "type": "bar",
           "x": [
            8202,
            8392,
            8440,
            9058,
            9251,
            9438,
            10525,
            15114,
            18001,
            49898
           ],
           "y": [
            "JOSEPH",
            "HENRI",
            "ANDRÉ",
            "MARGUERITE",
            "MARCEL",
            "PIERRE",
            "LOUIS",
            "JEANNE",
            "JEAN",
            "MARIE"
           ]
          }
         ],
         "layout": {
          "bargap": 0.15,
          "font": {
           "size": 14
          },
          "plot_bgcolor": "#FFFFFF",
          "title": {
           "text": "Top 10 prenoms"
          },
          "xaxis": {
           "range": [
            0,
            53596
           ],
           "showline": true,
           "visible": true
          },
          "yaxis": {
           "showline": false,
           "visible": true
          }
         },
         "name": "1905"
        },
        {
         "data": [
          {
           "cliponaxis": false,
           "hoverinfo": "all",
           "hovertemplate": "<extra></extra>",
           "marker": {
            "color": [
             "rgb(32, 38, 98)",
             "rgb(254, 227, 251)",
             "rgb(56, 202, 194)",
             "rgb(105, 92, 73)",
             "rgb(36, 203, 129)",
             "rgb(26, 162, 48)",
             "rgb(34, 110, 205)",
             "rgb(94, 7, 121)",
             "rgb(5, 58, 159)",
             "rgb(173, 217, 47)"
            ]
           },
           "orientation": "h",
           "textangle": 0,
           "textposition": "outside",
           "texttemplate": "%{y}<br>%{x:.4s}",
           "type": "bar",
           "x": [
            8249,
            8719,
            9039,
            9248,
            9755,
            9864,
            10649,
            15493,
            18522,
            49365
           ],
           "y": [
            "JOSEPH",
            "HENRI",
            "ANDRÉ",
            "MARGUERITE",
            "MARCEL",
            "PIERRE",
            "LOUIS",
            "JEANNE",
            "JEAN",
            "MARIE"
           ]
          }
         ],
         "layout": {
          "bargap": 0.15,
          "font": {
           "size": 14
          },
          "plot_bgcolor": "#FFFFFF",
          "title": {
           "text": "Top 10 prenoms"
          },
          "xaxis": {
           "range": [
            0,
            53596
           ],
           "showline": true,
           "visible": true
          },
          "yaxis": {
           "showline": false,
           "visible": true
          }
         },
         "name": "1906"
        },
        {
         "data": [
          {
           "cliponaxis": false,
           "hoverinfo": "all",
           "hovertemplate": "<extra></extra>",
           "marker": {
            "color": [
             "rgb(112, 122, 23)",
             "rgb(254, 227, 251)",
             "rgb(105, 92, 73)",
             "rgb(56, 202, 194)",
             "rgb(36, 203, 129)",
             "rgb(26, 162, 48)",
             "rgb(34, 110, 205)",
             "rgb(94, 7, 121)",
             "rgb(5, 58, 159)",
             "rgb(173, 217, 47)"
            ]
           },
           "orientation": "h",
           "textangle": 0,
           "textposition": "outside",
           "texttemplate": "%{y}<br>%{x:.4s}",
           "type": "bar",
           "x": [
            8110,
            8842,
            9040,
            9381,
            10072,
            10079,
            10847,
            14698,
            18475,
            46889
           ],
           "y": [
            "RENÉ",
            "HENRI",
            "MARGUERITE",
            "ANDRÉ",
            "MARCEL",
            "PIERRE",
            "LOUIS",
            "JEANNE",
            "JEAN",
            "MARIE"
           ]
          }
         ],
         "layout": {
          "bargap": 0.15,
          "font": {
           "size": 14
          },
          "plot_bgcolor": "#FFFFFF",
          "title": {
           "text": "Top 10 prenoms"
          },
          "xaxis": {
           "range": [
            0,
            53596
           ],
           "showline": true,
           "visible": true
          },
          "yaxis": {
           "showline": false,
           "visible": true
          }
         },
         "name": "1907"
        },
        {
         "data": [
          {
           "cliponaxis": false,
           "hoverinfo": "all",
           "hovertemplate": "<extra></extra>",
           "marker": {
            "color": [
             "rgb(32, 38, 98)",
             "rgb(254, 227, 251)",
             "rgb(105, 92, 73)",
             "rgb(56, 202, 194)",
             "rgb(26, 162, 48)",
             "rgb(36, 203, 129)",
             "rgb(34, 110, 205)",
             "rgb(94, 7, 121)",
             "rgb(5, 58, 159)",
             "rgb(173, 217, 47)"
            ]
           },
           "orientation": "h",
           "textangle": 0,
           "textposition": "outside",
           "texttemplate": "%{y}<br>%{x:.4s}",
           "type": "bar",
           "x": [
            8649,
            9146,
            9205,
            10473,
            10783,
            10848,
            11086,
            15312,
            19941,
            48298
           ],
           "y": [
            "JOSEPH",
            "HENRI",
            "MARGUERITE",
            "ANDRÉ",
            "PIERRE",
            "MARCEL",
            "LOUIS",
            "JEANNE",
            "JEAN",
            "MARIE"
           ]
          }
         ],
         "layout": {
          "bargap": 0.15,
          "font": {
           "size": 14
          },
          "plot_bgcolor": "#FFFFFF",
          "title": {
           "text": "Top 10 prenoms"
          },
          "xaxis": {
           "range": [
            0,
            53596
           ],
           "showline": true,
           "visible": true
          },
          "yaxis": {
           "showline": false,
           "visible": true
          }
         },
         "name": "1908"
        },
        {
         "data": [
          {
           "cliponaxis": false,
           "hoverinfo": "all",
           "hovertemplate": "<extra></extra>",
           "marker": {
            "color": [
             "rgb(112, 122, 23)",
             "rgb(105, 92, 73)",
             "rgb(254, 227, 251)",
             "rgb(36, 203, 129)",
             "rgb(26, 162, 48)",
             "rgb(34, 110, 205)",
             "rgb(56, 202, 194)",
             "rgb(94, 7, 121)",
             "rgb(5, 58, 159)",
             "rgb(173, 217, 47)"
            ]
           },
           "orientation": "h",
           "textangle": 0,
           "textposition": "outside",
           "texttemplate": "%{y}<br>%{x:.4s}",
           "type": "bar",
           "x": [
            8826,
            8867,
            9230,
            10841,
            10909,
            10987,
            11025,
            15853,
            20156,
            47157
           ],
           "y": [
            "RENÉ",
            "MARGUERITE",
            "HENRI",
            "MARCEL",
            "PIERRE",
            "LOUIS",
            "ANDRÉ",
            "JEANNE",
            "JEAN",
            "MARIE"
           ]
          }
         ],
         "layout": {
          "bargap": 0.15,
          "font": {
           "size": 14
          },
          "plot_bgcolor": "#FFFFFF",
          "title": {
           "text": "Top 10 prenoms"
          },
          "xaxis": {
           "range": [
            0,
            53596
           ],
           "showline": true,
           "visible": true
          },
          "yaxis": {
           "showline": false,
           "visible": true
          }
         },
         "name": "1909"
        },
        {
         "data": [
          {
           "cliponaxis": false,
           "hoverinfo": "all",
           "hovertemplate": "<extra></extra>",
           "marker": {
            "color": [
             "rgb(105, 92, 73)",
             "rgb(112, 122, 23)",
             "rgb(254, 227, 251)",
             "rgb(36, 203, 129)",
             "rgb(26, 162, 48)",
             "rgb(34, 110, 205)",
             "rgb(56, 202, 194)",
             "rgb(94, 7, 121)",
             "rgb(5, 58, 159)",
             "rgb(173, 217, 47)"
            ]
           },
           "orientation": "h",
           "textangle": 0,
           "textposition": "outside",
           "texttemplate": "%{y}<br>%{x:.4s}",
           "type": "bar",
           "x": [
            9023,
            9108,
            9354,
            11086,
            11161,
            11295,
            11762,
            15896,
            20710,
            46066
           ],
           "y": [
            "MARGUERITE",
            "RENÉ",
            "HENRI",
            "MARCEL",
            "PIERRE",
            "LOUIS",
            "ANDRÉ",
            "JEANNE",
            "JEAN",
            "MARIE"
           ]
          }
         ],
         "layout": {
          "bargap": 0.15,
          "font": {
           "size": 14
          },
          "plot_bgcolor": "#FFFFFF",
          "title": {
           "text": "Top 10 prenoms"
          },
          "xaxis": {
           "range": [
            0,
            53596
           ],
           "showline": true,
           "visible": true
          },
          "yaxis": {
           "showline": false,
           "visible": true
          }
         },
         "name": "1910"
        },
        {
         "data": [
          {
           "cliponaxis": false,
           "hoverinfo": "all",
           "hovertemplate": "<extra></extra>",
           "marker": {
            "color": [
             "rgb(105, 92, 73)",
             "rgb(254, 227, 251)",
             "rgb(112, 122, 23)",
             "rgb(34, 110, 205)",
             "rgb(36, 203, 129)",
             "rgb(26, 162, 48)",
             "rgb(56, 202, 194)",
             "rgb(94, 7, 121)",
             "rgb(5, 58, 159)",
             "rgb(173, 217, 47)"
            ]
           },
           "orientation": "h",
           "textangle": 0,
           "textposition": "outside",
           "texttemplate": "%{y}<br>%{x:.4s}",
           "type": "bar",
           "x": [
            8404,
            8700,
            9228,
            10510,
            10743,
            10994,
            11966,
            14757,
            20054,
            43037
           ],
           "y": [
            "MARGUERITE",
            "HENRI",
            "RENÉ",
            "LOUIS",
            "MARCEL",
            "PIERRE",
            "ANDRÉ",
            "JEANNE",
            "JEAN",
            "MARIE"
           ]
          }
         ],
         "layout": {
          "bargap": 0.15,
          "font": {
           "size": 14
          },
          "plot_bgcolor": "#FFFFFF",
          "title": {
           "text": "Top 10 prenoms"
          },
          "xaxis": {
           "range": [
            0,
            53596
           ],
           "showline": true,
           "visible": true
          },
          "yaxis": {
           "showline": false,
           "visible": true
          }
         },
         "name": "1911"
        },
        {
         "data": [
          {
           "cliponaxis": false,
           "hoverinfo": "all",
           "hovertemplate": "<extra></extra>",
           "marker": {
            "color": [
             "rgb(32, 38, 98)",
             "rgb(254, 227, 251)",
             "rgb(112, 122, 23)",
             "rgb(34, 110, 205)",
             "rgb(36, 203, 129)",
             "rgb(26, 162, 48)",
             "rgb(56, 202, 194)",
             "rgb(94, 7, 121)",
             "rgb(5, 58, 159)",
             "rgb(173, 217, 47)"
            ]
           },
           "orientation": "h",
           "textangle": 0,
           "textposition": "outside",
           "texttemplate": "%{y}<br>%{x:.4s}",
           "type": "bar",
           "x": [
            8490,
            9489,
            9965,
            11144,
            11360,
            11924,
            12889,
            15519,
            21652,
            44425
           ],
           "y": [
            "JOSEPH",
            "HENRI",
            "RENÉ",
            "LOUIS",
            "MARCEL",
            "PIERRE",
            "ANDRÉ",
            "JEANNE",
            "JEAN",
            "MARIE"
           ]
          }
         ],
         "layout": {
          "bargap": 0.15,
          "font": {
           "size": 14
          },
          "plot_bgcolor": "#FFFFFF",
          "title": {
           "text": "Top 10 prenoms"
          },
          "xaxis": {
           "range": [
            0,
            53596
           ],
           "showline": true,
           "visible": true
          },
          "yaxis": {
           "showline": false,
           "visible": true
          }
         },
         "name": "1912"
        },
        {
         "data": [
          {
           "cliponaxis": false,
           "hoverinfo": "all",
           "hovertemplate": "<extra></extra>",
           "marker": {
            "color": [
             "rgb(105, 92, 73)",
             "rgb(254, 227, 251)",
             "rgb(112, 122, 23)",
             "rgb(34, 110, 205)",
             "rgb(36, 203, 129)",
             "rgb(26, 162, 48)",
             "rgb(56, 202, 194)",
             "rgb(94, 7, 121)",
             "rgb(5, 58, 159)",
             "rgb(173, 217, 47)"
            ]
           },
           "orientation": "h",
           "textangle": 0,
           "textposition": "outside",
           "texttemplate": "%{y}<br>%{x:.4s}",
           "type": "bar",
           "x": [
            8285,
            9375,
            10192,
            10881,
            11640,
            12218,
            12828,
            15347,
            21901,
            43418
           ],
           "y": [
            "MARGUERITE",
            "HENRI",
            "RENÉ",
            "LOUIS",
            "MARCEL",
            "PIERRE",
            "ANDRÉ",
            "JEANNE",
            "JEAN",
            "MARIE"
           ]
          }
         ],
         "layout": {
          "bargap": 0.15,
          "font": {
           "size": 14
          },
          "plot_bgcolor": "#FFFFFF",
          "title": {
           "text": "Top 10 prenoms"
          },
          "xaxis": {
           "range": [
            0,
            53596
           ],
           "showline": true,
           "visible": true
          },
          "yaxis": {
           "showline": false,
           "visible": true
          }
         },
         "name": "1913"
        },
        {
         "data": [
          {
           "cliponaxis": false,
           "hoverinfo": "all",
           "hovertemplate": "<extra></extra>",
           "marker": {
            "color": [
             "rgb(176, 163, 149)",
             "rgb(254, 227, 251)",
             "rgb(112, 122, 23)",
             "rgb(34, 110, 205)",
             "rgb(36, 203, 129)",
             "rgb(26, 162, 48)",
             "rgb(56, 202, 194)",
             "rgb(94, 7, 121)",
             "rgb(5, 58, 159)",
             "rgb(173, 217, 47)"
            ]
           },
           "orientation": "h",
           "textangle": 0,
           "textposition": "outside",
           "texttemplate": "%{y}<br>%{x:.4s}",
           "type": "bar",
           "x": [
            8472,
            9298,
            9762,
            10577,
            10813,
            12307,
            12564,
            15368,
            22088,
            43006
           ],
           "y": [
            "MADELEINE",
            "HENRI",
            "RENÉ",
            "LOUIS",
            "MARCEL",
            "PIERRE",
            "ANDRÉ",
            "JEANNE",
            "JEAN",
            "MARIE"
           ]
          }
         ],
         "layout": {
          "bargap": 0.15,
          "font": {
           "size": 14
          },
          "plot_bgcolor": "#FFFFFF",
          "title": {
           "text": "Top 10 prenoms"
          },
          "xaxis": {
           "range": [
            0,
            53596
           ],
           "showline": true,
           "visible": true
          },
          "yaxis": {
           "showline": false,
           "visible": true
          }
         },
         "name": "1914"
        },
        {
         "data": [
          {
           "cliponaxis": false,
           "hoverinfo": "all",
           "hovertemplate": "<extra></extra>",
           "marker": {
            "color": [
             "rgb(32, 38, 98)",
             "rgb(254, 227, 251)",
             "rgb(112, 122, 23)",
             "rgb(36, 203, 129)",
             "rgb(34, 110, 205)",
             "rgb(56, 202, 194)",
             "rgb(26, 162, 48)",
             "rgb(94, 7, 121)",
             "rgb(5, 58, 159)",
             "rgb(173, 217, 47)"
            ]
           },
           "orientation": "h",
           "textangle": 0,
           "textposition": "outside",
           "texttemplate": "%{y}<br>%{x:.4s}",
           "type": "bar",
           "x": [
            5932,
            5953,
            6004,
            6501,
            7239,
            7667,
            7772,
            9642,
            14354,
            27222
           ],
           "y": [
            "JOSEPH",
            "HENRI",
            "RENÉ",
            "MARCEL",
            "LOUIS",
            "ANDRÉ",
            "PIERRE",
            "JEANNE",
            "JEAN",
            "MARIE"
           ]
          }
         ],
         "layout": {
          "bargap": 0.15,
          "font": {
           "size": 14
          },
          "plot_bgcolor": "#FFFFFF",
          "title": {
           "text": "Top 10 prenoms"
          },
          "xaxis": {
           "range": [
            0,
            53596
           ],
           "showline": true,
           "visible": true
          },
          "yaxis": {
           "showline": false,
           "visible": true
          }
         },
         "name": "1915"
        },
        {
         "data": [
          {
           "cliponaxis": false,
           "hoverinfo": "all",
           "hovertemplate": "<extra></extra>",
           "marker": {
            "color": [
             "rgb(224, 165, 10)",
             "rgb(254, 227, 251)",
             "rgb(112, 122, 23)",
             "rgb(34, 110, 205)",
             "rgb(36, 203, 129)",
             "rgb(26, 162, 48)",
             "rgb(56, 202, 194)",
             "rgb(94, 7, 121)",
             "rgb(5, 58, 159)",
             "rgb(173, 217, 47)"
            ]
           },
           "orientation": "h",
           "textangle": 0,
           "textposition": "outside",
           "texttemplate": "%{y}<br>%{x:.4s}",
           "type": "bar",
           "x": [
            4546,
            5008,
            5157,
            5425,
            5701,
            6063,
            6692,
            7612,
            11281,
            20128
           ],
           "y": [
            "GEORGES",
            "HENRI",
            "RENÉ",
            "LOUIS",
            "MARCEL",
            "PIERRE",
            "ANDRÉ",
            "JEANNE",
            "JEAN",
            "MARIE"
           ]
          }
         ],
         "layout": {
          "bargap": 0.15,
          "font": {
           "size": 14
          },
          "plot_bgcolor": "#FFFFFF",
          "title": {
           "text": "Top 10 prenoms"
          },
          "xaxis": {
           "range": [
            0,
            53596
           ],
           "showline": true,
           "visible": true
          },
          "yaxis": {
           "showline": false,
           "visible": true
          }
         },
         "name": "1916"
        },
        {
         "data": [
          {
           "cliponaxis": false,
           "hoverinfo": "all",
           "hovertemplate": "<extra></extra>",
           "marker": {
            "color": [
             "rgb(224, 165, 10)",
             "rgb(254, 227, 251)",
             "rgb(34, 110, 205)",
             "rgb(112, 122, 23)",
             "rgb(36, 203, 129)",
             "rgb(26, 162, 48)",
             "rgb(56, 202, 194)",
             "rgb(94, 7, 121)",
             "rgb(5, 58, 159)",
             "rgb(173, 217, 47)"
            ]
           },
           "orientation": "h",
           "textangle": 0,
           "textposition": "outside",
           "texttemplate": "%{y}<br>%{x:.4s}",
           "type": "bar",
           "x": [
            5190,
            5404,
            5894,
            6013,
            6423,
            6753,
            7826,
            8102,
            12453,
            20657
           ],
           "y": [
            "GEORGES",
            "HENRI",
            "LOUIS",
            "RENÉ",
            "MARCEL",
            "PIERRE",
            "ANDRÉ",
            "JEANNE",
            "JEAN",
            "MARIE"
           ]
          }
         ],
         "layout": {
          "bargap": 0.15,
          "font": {
           "size": 14
          },
          "plot_bgcolor": "#FFFFFF",
          "title": {
           "text": "Top 10 prenoms"
          },
          "xaxis": {
           "range": [
            0,
            53596
           ],
           "showline": true,
           "visible": true
          },
          "yaxis": {
           "showline": false,
           "visible": true
          }
         },
         "name": "1917"
        },
        {
         "data": [
          {
           "cliponaxis": false,
           "hoverinfo": "all",
           "hovertemplate": "<extra></extra>",
           "marker": {
            "color": [
             "rgb(224, 165, 10)",
             "rgb(254, 227, 251)",
             "rgb(34, 110, 205)",
             "rgb(112, 122, 23)",
             "rgb(36, 203, 129)",
             "rgb(26, 162, 48)",
             "rgb(94, 7, 121)",
             "rgb(56, 202, 194)",
             "rgb(5, 58, 159)",
             "rgb(173, 217, 47)"
            ]
           },
           "orientation": "h",
           "textangle": 0,
           "textposition": "outside",
           "texttemplate": "%{y}<br>%{x:.4s}",
           "type": "bar",
           "x": [
            6016,
            6185,
            6546,
            7242,
            7701,
            7800,
            8998,
            9218,
            14546,
            22731
           ],
           "y": [
            "GEORGES",
            "HENRI",
            "LOUIS",
            "RENÉ",
            "MARCEL",
            "PIERRE",
            "JEANNE",
            "ANDRÉ",
            "JEAN",
            "MARIE"
           ]
          }
         ],
         "layout": {
          "bargap": 0.15,
          "font": {
           "size": 14
          },
          "plot_bgcolor": "#FFFFFF",
          "title": {
           "text": "Top 10 prenoms"
          },
          "xaxis": {
           "range": [
            0,
            53596
           ],
           "showline": true,
           "visible": true
          },
          "yaxis": {
           "showline": false,
           "visible": true
          }
         },
         "name": "1918"
        },
        {
         "data": [
          {
           "cliponaxis": false,
           "hoverinfo": "all",
           "hovertemplate": "<extra></extra>",
           "marker": {
            "color": [
             "rgb(224, 165, 10)",
             "rgb(254, 227, 251)",
             "rgb(34, 110, 205)",
             "rgb(112, 122, 23)",
             "rgb(26, 162, 48)",
             "rgb(36, 203, 129)",
             "rgb(94, 7, 121)",
             "rgb(56, 202, 194)",
             "rgb(5, 58, 159)",
             "rgb(173, 217, 47)"
            ]
           },
           "orientation": "h",
           "textangle": 0,
           "textposition": "outside",
           "texttemplate": "%{y}<br>%{x:.4s}",
           "type": "bar",
           "x": [
            6779,
            6848,
            7123,
            8635,
            8660,
            8702,
            10036,
            10378,
            16331,
            24118
           ],
           "y": [
            "GEORGES",
            "HENRI",
            "LOUIS",
            "RENÉ",
            "PIERRE",
            "MARCEL",
            "JEANNE",
            "ANDRÉ",
            "JEAN",
            "MARIE"
           ]
          }
         ],
         "layout": {
          "bargap": 0.15,
          "font": {
           "size": 14
          },
          "plot_bgcolor": "#FFFFFF",
          "title": {
           "text": "Top 10 prenoms"
          },
          "xaxis": {
           "range": [
            0,
            53596
           ],
           "showline": true,
           "visible": true
          },
          "yaxis": {
           "showline": false,
           "visible": true
          }
         },
         "name": "1919"
        },
        {
         "data": [
          {
           "cliponaxis": false,
           "hoverinfo": "all",
           "hovertemplate": "<extra></extra>",
           "marker": {
            "color": [
             "rgb(254, 227, 251)",
             "rgb(34, 110, 205)",
             "rgb(126, 217, 51)",
             "rgb(36, 203, 129)",
             "rgb(112, 122, 23)",
             "rgb(26, 162, 48)",
             "rgb(94, 7, 121)",
             "rgb(56, 202, 194)",
             "rgb(5, 58, 159)",
             "rgb(173, 217, 47)"
            ]
           },
           "orientation": "h",
           "textangle": 0,
           "textposition": "outside",
           "texttemplate": "%{y}<br>%{x:.4s}",
           "type": "bar",
           "x": [
            11254,
            11595,
            12160,
            14514,
            15030,
            15648,
            16727,
            18292,
            28890,
            38714
           ],
           "y": [
            "HENRI",
            "LOUIS",
            "ROGER",
            "MARCEL",
            "RENÉ",
            "PIERRE",
            "JEANNE",
            "ANDRÉ",
            "JEAN",
            "MARIE"
           ]
          }
         ],
         "layout": {
          "bargap": 0.15,
          "font": {
           "size": 14
          },
          "plot_bgcolor": "#FFFFFF",
          "title": {
           "text": "Top 10 prenoms"
          },
          "xaxis": {
           "range": [
            0,
            53596
           ],
           "showline": true,
           "visible": true
          },
          "yaxis": {
           "showline": false,
           "visible": true
          }
         },
         "name": "1920"
        },
        {
         "data": [
          {
           "cliponaxis": false,
           "hoverinfo": "all",
           "hovertemplate": "<extra></extra>",
           "marker": {
            "color": [
             "rgb(117, 197, 73)",
             "rgb(34, 110, 205)",
             "rgb(126, 217, 51)",
             "rgb(36, 203, 129)",
             "rgb(112, 122, 23)",
             "rgb(26, 162, 48)",
             "rgb(94, 7, 121)",
             "rgb(56, 202, 194)",
             "rgb(5, 58, 159)",
             "rgb(173, 217, 47)"
            ]
           },
           "orientation": "h",
           "textangle": 0,
           "textposition": "outside",
           "texttemplate": "%{y}<br>%{x:.4s}",
           "type": "bar",
           "x": [
            10919,
            11016,
            12394,
            13679,
            14562,
            15735,
            16062,
            18117,
            29011,
            37206
           ],
           "y": [
            "ROBERT",
            "LOUIS",
            "ROGER",
            "MARCEL",
            "RENÉ",
            "PIERRE",
            "JEANNE",
            "ANDRÉ",
            "JEAN",
            "MARIE"
           ]
          }
         ],
         "layout": {
          "bargap": 0.15,
          "font": {
           "size": 14
          },
          "plot_bgcolor": "#FFFFFF",
          "title": {
           "text": "Top 10 prenoms"
          },
          "xaxis": {
           "range": [
            0,
            53596
           ],
           "showline": true,
           "visible": true
          },
          "yaxis": {
           "showline": false,
           "visible": true
          }
         },
         "name": "1921"
        },
        {
         "data": [
          {
           "cliponaxis": false,
           "hoverinfo": "all",
           "hovertemplate": "<extra></extra>",
           "marker": {
            "color": [
             "rgb(34, 110, 205)",
             "rgb(117, 197, 73)",
             "rgb(126, 217, 51)",
             "rgb(36, 203, 129)",
             "rgb(112, 122, 23)",
             "rgb(94, 7, 121)",
             "rgb(26, 162, 48)",
             "rgb(56, 202, 194)",
             "rgb(5, 58, 159)",
             "rgb(173, 217, 47)"
            ]
           },
           "orientation": "h",
           "textangle": 0,
           "textposition": "outside",
           "texttemplate": "%{y}<br>%{x:.4s}",
           "type": "bar",
           "x": [
            10353,
            10555,
            12224,
            12848,
            13838,
            14678,
            15088,
            17437,
            28523,
            34563
           ],
           "y": [
            "LOUIS",
            "ROBERT",
            "ROGER",
            "MARCEL",
            "RENÉ",
            "JEANNE",
            "PIERRE",
            "ANDRÉ",
            "JEAN",
            "MARIE"
           ]
          }
         ],
         "layout": {
          "bargap": 0.15,
          "font": {
           "size": 14
          },
          "plot_bgcolor": "#FFFFFF",
          "title": {
           "text": "Top 10 prenoms"
          },
          "xaxis": {
           "range": [
            0,
            53596
           ],
           "showline": true,
           "visible": true
          },
          "yaxis": {
           "showline": false,
           "visible": true
          }
         },
         "name": "1922"
        },
        {
         "data": [
          {
           "cliponaxis": false,
           "hoverinfo": "all",
           "hovertemplate": "<extra></extra>",
           "marker": {
            "color": [
             "rgb(224, 165, 10)",
             "rgb(117, 197, 73)",
             "rgb(36, 203, 129)",
             "rgb(126, 217, 51)",
             "rgb(112, 122, 23)",
             "rgb(94, 7, 121)",
             "rgb(26, 162, 48)",
             "rgb(56, 202, 194)",
             "rgb(5, 58, 159)",
             "rgb(173, 217, 47)"
            ]
           },
           "orientation": "h",
           "textangle": 0,
           "textposition": "outside",
           "texttemplate": "%{y}<br>%{x:.4s}",
           "type": "bar",
           "x": [
            9749,
            10836,
            12452,
            12592,
            13810,
            13844,
            15524,
            17391,
            29306,
            33848
           ],
           "y": [
            "GEORGES",
            "ROBERT",
            "MARCEL",
            "ROGER",
            "RENÉ",
            "JEANNE",
            "PIERRE",
            "ANDRÉ",
            "JEAN",
            "MARIE"
           ]
          }
         ],
         "layout": {
          "bargap": 0.15,
          "font": {
           "size": 14
          },
          "plot_bgcolor": "#FFFFFF",
          "title": {
           "text": "Top 10 prenoms"
          },
          "xaxis": {
           "range": [
            0,
            53596
           ],
           "showline": true,
           "visible": true
          },
          "yaxis": {
           "showline": false,
           "visible": true
          }
         },
         "name": "1923"
        },
        {
         "data": [
          {
           "cliponaxis": false,
           "hoverinfo": "all",
           "hovertemplate": "<extra></extra>",
           "marker": {
            "color": [
             "rgb(34, 110, 205)",
             "rgb(117, 197, 73)",
             "rgb(36, 203, 129)",
             "rgb(126, 217, 51)",
             "rgb(94, 7, 121)",
             "rgb(112, 122, 23)",
             "rgb(26, 162, 48)",
             "rgb(56, 202, 194)",
             "rgb(5, 58, 159)",
             "rgb(173, 217, 47)"
            ]
           },
           "orientation": "h",
           "textangle": 0,
           "textposition": "outside",
           "texttemplate": "%{y}<br>%{x:.4s}",
           "type": "bar",
           "x": [
            9378,
            10807,
            11986,
            12704,
            13203,
            13649,
            15723,
            16985,
            29780,
            32671
           ],
           "y": [
            "LOUIS",
            "ROBERT",
            "MARCEL",
            "ROGER",
            "JEANNE",
            "RENÉ",
            "PIERRE",
            "ANDRÉ",
            "JEAN",
            "MARIE"
           ]
          }
         ],
         "layout": {
          "bargap": 0.15,
          "font": {
           "size": 14
          },
          "plot_bgcolor": "#FFFFFF",
          "title": {
           "text": "Top 10 prenoms"
          },
          "xaxis": {
           "range": [
            0,
            53596
           ],
           "showline": true,
           "visible": true
          },
          "yaxis": {
           "showline": false,
           "visible": true
          }
         },
         "name": "1924"
        },
        {
         "data": [
          {
           "cliponaxis": false,
           "hoverinfo": "all",
           "hovertemplate": "<extra></extra>",
           "marker": {
            "color": [
             "rgb(224, 165, 10)",
             "rgb(117, 197, 73)",
             "rgb(36, 203, 129)",
             "rgb(94, 7, 121)",
             "rgb(126, 217, 51)",
             "rgb(112, 122, 23)",
             "rgb(26, 162, 48)",
             "rgb(56, 202, 194)",
             "rgb(5, 58, 159)",
             "rgb(173, 217, 47)"
            ]
           },
           "orientation": "h",
           "textangle": 0,
           "textposition": "outside",
           "texttemplate": "%{y}<br>%{x:.4s}",
           "type": "bar",
           "x": [
            9297,
            11193,
            11773,
            12301,
            13539,
            14092,
            16098,
            17614,
            31192,
            32031
           ],
           "y": [
            "GEORGES",
            "ROBERT",
            "MARCEL",
            "JEANNE",
            "ROGER",
            "RENÉ",
            "PIERRE",
            "ANDRÉ",
            "JEAN",
            "MARIE"
           ]
          }
         ],
         "layout": {
          "bargap": 0.15,
          "font": {
           "size": 14
          },
          "plot_bgcolor": "#FFFFFF",
          "title": {
           "text": "Top 10 prenoms"
          },
          "xaxis": {
           "range": [
            0,
            53596
           ],
           "showline": true,
           "visible": true
          },
          "yaxis": {
           "showline": false,
           "visible": true
          }
         },
         "name": "1925"
        },
        {
         "data": [
          {
           "cliponaxis": false,
           "hoverinfo": "all",
           "hovertemplate": "<extra></extra>",
           "marker": {
            "color": [
             "rgb(124, 203, 225)",
             "rgb(94, 7, 121)",
             "rgb(36, 203, 129)",
             "rgb(117, 197, 73)",
             "rgb(126, 217, 51)",
             "rgb(112, 122, 23)",
             "rgb(26, 162, 48)",
             "rgb(56, 202, 194)",
             "rgb(173, 217, 47)",
             "rgb(5, 58, 159)"
            ]
           },
           "orientation": "h",
           "textangle": 0,
           "textposition": "outside",
           "texttemplate": "%{y}<br>%{x:.4s}",
           "type": "bar",
           "x": [
            9748,
            11405,
            11561,
            11585,
            13410,
            14129,
            16259,
            17513,
            31377,
            31529
           ],
           "y": [
            "JACQUELINE",
            "JEANNE",
            "MARCEL",
            "ROBERT",
            "ROGER",
            "RENÉ",
            "PIERRE",
            "ANDRÉ",
            "MARIE",
            "JEAN"
           ]
          }
         ],
         "layout": {
          "bargap": 0.15,
          "font": {
           "size": 14
          },
          "plot_bgcolor": "#FFFFFF",
          "title": {
           "text": "Top 10 prenoms"
          },
          "xaxis": {
           "range": [
            0,
            53596
           ],
           "showline": true,
           "visible": true
          },
          "yaxis": {
           "showline": false,
           "visible": true
          }
         },
         "name": "1926"
        },
        {
         "data": [
          {
           "cliponaxis": false,
           "hoverinfo": "all",
           "hovertemplate": "<extra></extra>",
           "marker": {
            "color": [
             "rgb(124, 203, 225)",
             "rgb(94, 7, 121)",
             "rgb(36, 203, 129)",
             "rgb(117, 197, 73)",
             "rgb(126, 217, 51)",
             "rgb(112, 122, 23)",
             "rgb(26, 162, 48)",
             "rgb(56, 202, 194)",
             "rgb(173, 217, 47)",
             "rgb(5, 58, 159)"
            ]
           },
           "orientation": "h",
           "textangle": 0,
           "textposition": "outside",
           "texttemplate": "%{y}<br>%{x:.4s}",
           "type": "bar",
           "x": [
            10200,
            10486,
            11063,
            11444,
            13208,
            13716,
            16392,
            17371,
            29582,
            31451
           ],
           "y": [
            "JACQUELINE",
            "JEANNE",
            "MARCEL",
            "ROBERT",
            "ROGER",
            "RENÉ",
            "PIERRE",
            "ANDRÉ",
            "MARIE",
            "JEAN"
           ]
          }
         ],
         "layout": {
          "bargap": 0.15,
          "font": {
           "size": 14
          },
          "plot_bgcolor": "#FFFFFF",
          "title": {
           "text": "Top 10 prenoms"
          },
          "xaxis": {
           "range": [
            0,
            53596
           ],
           "showline": true,
           "visible": true
          },
          "yaxis": {
           "showline": false,
           "visible": true
          }
         },
         "name": "1927"
        },
        {
         "data": [
          {
           "cliponaxis": false,
           "hoverinfo": "all",
           "hovertemplate": "<extra></extra>",
           "marker": {
            "color": [
             "rgb(238, 197, 180)",
             "rgb(124, 203, 225)",
             "rgb(36, 203, 129)",
             "rgb(117, 197, 73)",
             "rgb(126, 217, 51)",
             "rgb(112, 122, 23)",
             "rgb(26, 162, 48)",
             "rgb(56, 202, 194)",
             "rgb(173, 217, 47)",
             "rgb(5, 58, 159)"
            ]
           },
           "orientation": "h",
           "textangle": 0,
           "textposition": "outside",
           "texttemplate": "%{y}<br>%{x:.4s}",
           "type": "bar",
           "x": [
            10006,
            10536,
            11054,
            11293,
            12996,
            13640,
            16309,
            17737,
            28850,
            32112
           ],
           "y": [
            "JACQUES",
            "JACQUELINE",
            "MARCEL",
            "ROBERT",
            "ROGER",
            "RENÉ",
            "PIERRE",
            "ANDRÉ",
            "MARIE",
            "JEAN"
           ]
          }
         ],
         "layout": {
          "bargap": 0.15,
          "font": {
           "size": 14
          },
          "plot_bgcolor": "#FFFFFF",
          "title": {
           "text": "Top 10 prenoms"
          },
          "xaxis": {
           "range": [
            0,
            53596
           ],
           "showline": true,
           "visible": true
          },
          "yaxis": {
           "showline": false,
           "visible": true
          }
         },
         "name": "1928"
        },
        {
         "data": [
          {
           "cliponaxis": false,
           "hoverinfo": "all",
           "hovertemplate": "<extra></extra>",
           "marker": {
            "color": [
             "rgb(238, 197, 180)",
             "rgb(36, 203, 129)",
             "rgb(124, 203, 225)",
             "rgb(117, 197, 73)",
             "rgb(126, 217, 51)",
             "rgb(112, 122, 23)",
             "rgb(26, 162, 48)",
             "rgb(56, 202, 194)",
             "rgb(173, 217, 47)",
             "rgb(5, 58, 159)"
            ]
           },
           "orientation": "h",
           "textangle": 0,
           "textposition": "outside",
           "texttemplate": "%{y}<br>%{x:.4s}",
           "type": "bar",
           "x": [
            10445,
            10553,
            10579,
            11012,
            12585,
            13265,
            15921,
            17316,
            27168,
            32076
           ],
           "y": [
            "JACQUES",
            "MARCEL",
            "JACQUELINE",
            "ROBERT",
            "ROGER",
            "RENÉ",
            "PIERRE",
            "ANDRÉ",
            "MARIE",
            "JEAN"
           ]
          }
         ],
         "layout": {
          "bargap": 0.15,
          "font": {
           "size": 14
          },
          "plot_bgcolor": "#FFFFFF",
          "title": {
           "text": "Top 10 prenoms"
          },
          "xaxis": {
           "range": [
            0,
            53596
           ],
           "showline": true,
           "visible": true
          },
          "yaxis": {
           "showline": false,
           "visible": true
          }
         },
         "name": "1929"
        },
        {
         "data": [
          {
           "cliponaxis": false,
           "hoverinfo": "all",
           "hovertemplate": "<extra></extra>",
           "marker": {
            "color": [
             "rgb(206, 23, 218)",
             "rgb(238, 197, 180)",
             "rgb(124, 203, 225)",
             "rgb(126, 217, 51)",
             "rgb(64, 10, 51)",
             "rgb(112, 122, 23)",
             "rgb(26, 162, 48)",
             "rgb(56, 202, 194)",
             "rgb(173, 217, 47)",
             "rgb(5, 58, 159)"
            ]
           },
           "orientation": "h",
           "textangle": 0,
           "textposition": "outside",
           "texttemplate": "%{y}<br>%{x:.4s}",
           "type": "bar",
           "x": [
            10995,
            11320,
            11447,
            12519,
            12703,
            13305,
            16480,
            17072,
            28047,
            33850
           ],
           "y": [
            "JEANNINE",
            "JACQUES",
            "JACQUELINE",
            "ROGER",
            "MICHEL",
            "RENÉ",
            "PIERRE",
            "ANDRÉ",
            "MARIE",
            "JEAN"
           ]
          }
         ],
         "layout": {
          "bargap": 0.15,
          "font": {
           "size": 14
          },
          "plot_bgcolor": "#FFFFFF",
          "title": {
           "text": "Top 10 prenoms"
          },
          "xaxis": {
           "range": [
            0,
            53596
           ],
           "showline": true,
           "visible": true
          },
          "yaxis": {
           "showline": false,
           "visible": true
          }
         },
         "name": "1930"
        },
        {
         "data": [
          {
           "cliponaxis": false,
           "hoverinfo": "all",
           "hovertemplate": "<extra></extra>",
           "marker": {
            "color": [
             "rgb(150, 132, 121)",
             "rgb(238, 197, 180)",
             "rgb(124, 203, 225)",
             "rgb(126, 217, 51)",
             "rgb(112, 122, 23)",
             "rgb(64, 10, 51)",
             "rgb(26, 162, 48)",
             "rgb(56, 202, 194)",
             "rgb(173, 217, 47)",
             "rgb(5, 58, 159)"
            ]
           },
           "orientation": "h",
           "textangle": 0,
           "textposition": "outside",
           "texttemplate": "%{y}<br>%{x:.4s}",
           "type": "bar",
           "x": [
            10916,
            11475,
            11613,
            12124,
            12511,
            13453,
            16074,
            17115,
            27615,
            33468
           ],
           "y": [
            "CLAUDE",
            "JACQUES",
            "JACQUELINE",
            "ROGER",
            "RENÉ",
            "MICHEL",
            "PIERRE",
            "ANDRÉ",
            "MARIE",
            "JEAN"
           ]
          }
         ],
         "layout": {
          "bargap": 0.15,
          "font": {
           "size": 14
          },
          "plot_bgcolor": "#FFFFFF",
          "title": {
           "text": "Top 10 prenoms"
          },
          "xaxis": {
           "range": [
            0,
            53596
           ],
           "showline": true,
           "visible": true
          },
          "yaxis": {
           "showline": false,
           "visible": true
          }
         },
         "name": "1931"
        },
        {
         "data": [
          {
           "cliponaxis": false,
           "hoverinfo": "all",
           "hovertemplate": "<extra></extra>",
           "marker": {
            "color": [
             "rgb(238, 197, 180)",
             "rgb(124, 203, 225)",
             "rgb(150, 132, 121)",
             "rgb(126, 217, 51)",
             "rgb(112, 122, 23)",
             "rgb(64, 10, 51)",
             "rgb(26, 162, 48)",
             "rgb(56, 202, 194)",
             "rgb(173, 217, 47)",
             "rgb(5, 58, 159)"
            ]
           },
           "orientation": "h",
           "textangle": 0,
           "textposition": "outside",
           "texttemplate": "%{y}<br>%{x:.4s}",
           "type": "bar",
           "x": [
            11541,
            11634,
            11700,
            11726,
            12093,
            14075,
            15697,
            16954,
            26907,
            33836
           ],
           "y": [
            "JACQUES",
            "JACQUELINE",
            "CLAUDE",
            "ROGER",
            "RENÉ",
            "MICHEL",
            "PIERRE",
            "ANDRÉ",
            "MARIE",
            "JEAN"
           ]
          }
         ],
         "layout": {
          "bargap": 0.15,
          "font": {
           "size": 14
          },
          "plot_bgcolor": "#FFFFFF",
          "title": {
           "text": "Top 10 prenoms"
          },
          "xaxis": {
           "range": [
            0,
            53596
           ],
           "showline": true,
           "visible": true
          },
          "yaxis": {
           "showline": false,
           "visible": true
          }
         },
         "name": "1932"
        },
        {
         "data": [
          {
           "cliponaxis": false,
           "hoverinfo": "all",
           "hovertemplate": "<extra></extra>",
           "marker": {
            "color": [
             "rgb(126, 217, 51)",
             "rgb(238, 197, 180)",
             "rgb(112, 122, 23)",
             "rgb(124, 203, 225)",
             "rgb(150, 132, 121)",
             "rgb(64, 10, 51)",
             "rgb(26, 162, 48)",
             "rgb(56, 202, 194)",
             "rgb(173, 217, 47)",
             "rgb(5, 58, 159)"
            ]
           },
           "orientation": "h",
           "textangle": 0,
           "textposition": "outside",
           "texttemplate": "%{y}<br>%{x:.4s}",
           "type": "bar",
           "x": [
            10234,
            11064,
            11140,
            11190,
            12601,
            14417,
            14882,
            15797,
            25227,
            32865
           ],
           "y": [
            "ROGER",
            "JACQUES",
            "RENÉ",
            "JACQUELINE",
            "CLAUDE",
            "MICHEL",
            "PIERRE",
            "ANDRÉ",
            "MARIE",
            "JEAN"
           ]
          }
         ],
         "layout": {
          "bargap": 0.15,
          "font": {
           "size": 14
          },
          "plot_bgcolor": "#FFFFFF",
          "title": {
           "text": "Top 10 prenoms"
          },
          "xaxis": {
           "range": [
            0,
            53596
           ],
           "showline": true,
           "visible": true
          },
          "yaxis": {
           "showline": false,
           "visible": true
          }
         },
         "name": "1933"
        },
        {
         "data": [
          {
           "cliponaxis": false,
           "hoverinfo": "all",
           "hovertemplate": "<extra></extra>",
           "marker": {
            "color": [
             "rgb(112, 122, 23)",
             "rgb(238, 197, 180)",
             "rgb(29, 31, 99)",
             "rgb(124, 203, 225)",
             "rgb(150, 132, 121)",
             "rgb(26, 162, 48)",
             "rgb(56, 202, 194)",
             "rgb(64, 10, 51)",
             "rgb(173, 217, 47)",
             "rgb(5, 58, 159)"
            ]
           },
           "orientation": "h",
           "textangle": 0,
           "textposition": "outside",
           "texttemplate": "%{y}<br>%{x:.4s}",
           "type": "bar",
           "x": [
            10732,
            11169,
            11576,
            11765,
            14386,
            14681,
            15454,
            15675,
            25009,
            33528
           ],
           "y": [
            "RENÉ",
            "JACQUES",
            "MONIQUE",
            "JACQUELINE",
            "CLAUDE",
            "PIERRE",
            "ANDRÉ",
            "MICHEL",
            "MARIE",
            "JEAN"
           ]
          }
         ],
         "layout": {
          "bargap": 0.15,
          "font": {
           "size": 14
          },
          "plot_bgcolor": "#FFFFFF",
          "title": {
           "text": "Top 10 prenoms"
          },
          "xaxis": {
           "range": [
            0,
            53596
           ],
           "showline": true,
           "visible": true
          },
          "yaxis": {
           "showline": false,
           "visible": true
          }
         },
         "name": "1934"
        },
        {
         "data": [
          {
           "cliponaxis": false,
           "hoverinfo": "all",
           "hovertemplate": "<extra></extra>",
           "marker": {
            "color": [
             "rgb(112, 122, 23)",
             "rgb(124, 203, 225)",
             "rgb(238, 197, 180)",
             "rgb(29, 31, 99)",
             "rgb(56, 202, 194)",
             "rgb(26, 162, 48)",
             "rgb(150, 132, 121)",
             "rgb(64, 10, 51)",
             "rgb(173, 217, 47)",
             "rgb(5, 58, 159)"
            ]
           },
           "orientation": "h",
           "textangle": 0,
           "textposition": "outside",
           "texttemplate": "%{y}<br>%{x:.4s}",
           "type": "bar",
           "x": [
            9965,
            10807,
            10900,
            11848,
            13989,
            14162,
            14531,
            15749,
            23730,
            32702
           ],
           "y": [
            "RENÉ",
            "JACQUELINE",
            "JACQUES",
            "MONIQUE",
            "ANDRÉ",
            "PIERRE",
            "CLAUDE",
            "MICHEL",
            "MARIE",
            "JEAN"
           ]
          }
         ],
         "layout": {
          "bargap": 0.15,
          "font": {
           "size": 14
          },
          "plot_bgcolor": "#FFFFFF",
          "title": {
           "text": "Top 10 prenoms"
          },
          "xaxis": {
           "range": [
            0,
            53596
           ],
           "showline": true,
           "visible": true
          },
          "yaxis": {
           "showline": false,
           "visible": true
          }
         },
         "name": "1935"
        },
        {
         "data": [
          {
           "cliponaxis": false,
           "hoverinfo": "all",
           "hovertemplate": "<extra></extra>",
           "marker": {
            "color": [
             "rgb(112, 122, 23)",
             "rgb(124, 203, 225)",
             "rgb(238, 197, 180)",
             "rgb(29, 31, 99)",
             "rgb(56, 202, 194)",
             "rgb(26, 162, 48)",
             "rgb(64, 10, 51)",
             "rgb(150, 132, 121)",
             "rgb(173, 217, 47)",
             "rgb(5, 58, 159)"
            ]
           },
           "orientation": "h",
           "textangle": 0,
           "textposition": "outside",
           "texttemplate": "%{y}<br>%{x:.4s}",
           "type": "bar",
           "x": [
            9502,
            10368,
            10534,
            12496,
            13212,
            13439,
            15881,
            16513,
            23335,
            33334
           ],
           "y": [
            "RENÉ",
            "JACQUELINE",
            "JACQUES",
            "MONIQUE",
            "ANDRÉ",
            "PIERRE",
            "MICHEL",
            "CLAUDE",
            "MARIE",
            "JEAN"
           ]
          }
         ],
         "layout": {
          "bargap": 0.15,
          "font": {
           "size": 14
          },
          "plot_bgcolor": "#FFFFFF",
          "title": {
           "text": "Top 10 prenoms"
          },
          "xaxis": {
           "range": [
            0,
            53596
           ],
           "showline": true,
           "visible": true
          },
          "yaxis": {
           "showline": false,
           "visible": true
          }
         },
         "name": "1936"
        },
        {
         "data": [
          {
           "cliponaxis": false,
           "hoverinfo": "all",
           "hovertemplate": "<extra></extra>",
           "marker": {
            "color": [
             "rgb(58, 44, 1)",
             "rgb(124, 203, 225)",
             "rgb(238, 197, 180)",
             "rgb(56, 202, 194)",
             "rgb(26, 162, 48)",
             "rgb(29, 31, 99)",
             "rgb(150, 132, 121)",
             "rgb(64, 10, 51)",
             "rgb(173, 217, 47)",
             "rgb(5, 58, 159)"
            ]
           },
           "orientation": "h",
           "textangle": 0,
           "textposition": "outside",
           "texttemplate": "%{y}<br>%{x:.4s}",
           "type": "bar",
           "x": [
            9129,
            9953,
            10357,
            12642,
            12870,
            13234,
            15814,
            16355,
            22920,
            33704
           ],
           "y": [
            "BERNARD",
            "JACQUELINE",
            "JACQUES",
            "ANDRÉ",
            "PIERRE",
            "MONIQUE",
            "CLAUDE",
            "MICHEL",
            "MARIE",
            "JEAN"
           ]
          }
         ],
         "layout": {
          "bargap": 0.15,
          "font": {
           "size": 14
          },
          "plot_bgcolor": "#FFFFFF",
          "title": {
           "text": "Top 10 prenoms"
          },
          "xaxis": {
           "range": [
            0,
            53596
           ],
           "showline": true,
           "visible": true
          },
          "yaxis": {
           "showline": false,
           "visible": true
          }
         },
         "name": "1937"
        },
        {
         "data": [
          {
           "cliponaxis": false,
           "hoverinfo": "all",
           "hovertemplate": "<extra></extra>",
           "marker": {
            "color": [
             "rgb(58, 44, 1)",
             "rgb(124, 203, 225)",
             "rgb(238, 197, 180)",
             "rgb(56, 202, 194)",
             "rgb(26, 162, 48)",
             "rgb(29, 31, 99)",
             "rgb(150, 132, 121)",
             "rgb(64, 10, 51)",
             "rgb(173, 217, 47)",
             "rgb(5, 58, 159)"
            ]
           },
           "orientation": "h",
           "textangle": 0,
           "textposition": "outside",
           "texttemplate": "%{y}<br>%{x:.4s}",
           "type": "bar",
           "x": [
            9568,
            10231,
            10368,
            12037,
            12460,
            14078,
            15162,
            16847,
            23334,
            35384
           ],
           "y": [
            "BERNARD",
            "JACQUELINE",
            "JACQUES",
            "ANDRÉ",
            "PIERRE",
            "MONIQUE",
            "CLAUDE",
            "MICHEL",
            "MARIE",
            "JEAN"
           ]
          }
         ],
         "layout": {
          "bargap": 0.15,
          "font": {
           "size": 14
          },
          "plot_bgcolor": "#FFFFFF",
          "title": {
           "text": "Top 10 prenoms"
          },
          "xaxis": {
           "range": [
            0,
            53596
           ],
           "showline": true,
           "visible": true
          },
          "yaxis": {
           "showline": false,
           "visible": true
          }
         },
         "name": "1938"
        },
        {
         "data": [
          {
           "cliponaxis": false,
           "hoverinfo": "all",
           "hovertemplate": "<extra></extra>",
           "marker": {
            "color": [
             "rgb(58, 44, 1)",
             "rgb(124, 203, 225)",
             "rgb(238, 197, 180)",
             "rgb(56, 202, 194)",
             "rgb(26, 162, 48)",
             "rgb(29, 31, 99)",
             "rgb(150, 132, 121)",
             "rgb(64, 10, 51)",
             "rgb(173, 217, 47)",
             "rgb(5, 58, 159)"
            ]
           },
           "orientation": "h",
           "textangle": 0,
           "textposition": "outside",
           "texttemplate": "%{y}<br>%{x:.4s}",
           "type": "bar",
           "x": [
            9303,
            9595,
            10149,
            11349,
            11895,
            14039,
            14950,
            17140,
            23864,
            37325
           ],
           "y": [
            "BERNARD",
            "JACQUELINE",
            "JACQUES",
            "ANDRÉ",
            "PIERRE",
            "MONIQUE",
            "CLAUDE",
            "MICHEL",
            "MARIE",
            "JEAN"
           ]
          }
         ],
         "layout": {
          "bargap": 0.15,
          "font": {
           "size": 14
          },
          "plot_bgcolor": "#FFFFFF",
          "title": {
           "text": "Top 10 prenoms"
          },
          "xaxis": {
           "range": [
            0,
            53596
           ],
           "showline": true,
           "visible": true
          },
          "yaxis": {
           "showline": false,
           "visible": true
          }
         },
         "name": "1939"
        },
        {
         "data": [
          {
           "cliponaxis": false,
           "hoverinfo": "all",
           "hovertemplate": "<extra></extra>",
           "marker": {
            "color": [
             "rgb(38, 181, 95)",
             "rgb(58, 44, 1)",
             "rgb(238, 197, 180)",
             "rgb(26, 162, 48)",
             "rgb(56, 202, 194)",
             "rgb(29, 31, 99)",
             "rgb(150, 132, 121)",
             "rgb(64, 10, 51)",
             "rgb(173, 217, 47)",
             "rgb(5, 58, 159)"
            ]
           },
           "orientation": "h",
           "textangle": 0,
           "textposition": "outside",
           "texttemplate": "%{y}<br>%{x:.4s}",
           "type": "bar",
           "x": [
            8442,
            8633,
            9329,
            9992,
            10063,
            12528,
            13177,
            16367,
            22534,
            34920
           ],
           "y": [
            "NICOLE",
            "BERNARD",
            "JACQUES",
            "PIERRE",
            "ANDRÉ",
            "MONIQUE",
            "CLAUDE",
            "MICHEL",
            "MARIE",
            "JEAN"
           ]
          }
         ],
         "layout": {
          "bargap": 0.15,
          "font": {
           "size": 14
          },
          "plot_bgcolor": "#FFFFFF",
          "title": {
           "text": "Top 10 prenoms"
          },
          "xaxis": {
           "range": [
            0,
            53596
           ],
           "showline": true,
           "visible": true
          },
          "yaxis": {
           "showline": false,
           "visible": true
          }
         },
         "name": "1940"
        },
        {
         "data": [
          {
           "cliponaxis": false,
           "hoverinfo": "all",
           "hovertemplate": "<extra></extra>",
           "marker": {
            "color": [
             "rgb(38, 181, 95)",
             "rgb(58, 44, 1)",
             "rgb(26, 162, 48)",
             "rgb(238, 197, 180)",
             "rgb(56, 202, 194)",
             "rgb(150, 132, 121)",
             "rgb(29, 31, 99)",
             "rgb(64, 10, 51)",
             "rgb(173, 217, 47)",
             "rgb(5, 58, 159)"
            ]
           },
           "orientation": "h",
           "textangle": 0,
           "textposition": "outside",
           "texttemplate": "%{y}<br>%{x:.4s}",
           "type": "bar",
           "x": [
            8661,
            8715,
            9037,
            9059,
            9106,
            11554,
            11865,
            16137,
            20662,
            33336
           ],
           "y": [
            "NICOLE",
            "BERNARD",
            "PIERRE",
            "JACQUES",
            "ANDRÉ",
            "CLAUDE",
            "MONIQUE",
            "MICHEL",
            "MARIE",
            "JEAN"
           ]
          }
         ],
         "layout": {
          "bargap": 0.15,
          "font": {
           "size": 14
          },
          "plot_bgcolor": "#FFFFFF",
          "title": {
           "text": "Top 10 prenoms"
          },
          "xaxis": {
           "range": [
            0,
            53596
           ],
           "showline": true,
           "visible": true
          },
          "yaxis": {
           "showline": false,
           "visible": true
          }
         },
         "name": "1941"
        },
        {
         "data": [
          {
           "cliponaxis": false,
           "hoverinfo": "all",
           "hovertemplate": "<extra></extra>",
           "marker": {
            "color": [
             "rgb(26, 162, 48)",
             "rgb(56, 202, 194)",
             "rgb(238, 197, 180)",
             "rgb(38, 181, 95)",
             "rgb(58, 44, 1)",
             "rgb(150, 132, 121)",
             "rgb(29, 31, 99)",
             "rgb(64, 10, 51)",
             "rgb(173, 217, 47)",
             "rgb(5, 58, 159)"
            ]
           },
           "orientation": "h",
           "textangle": 0,
           "textposition": "outside",
           "texttemplate": "%{y}<br>%{x:.4s}",
           "type": "bar",
           "x": [
            9683,
            9790,
            10025,
            10186,
            10248,
            11474,
            12546,
            18704,
            22664,
            37569
           ],
           "y": [
            "PIERRE",
            "ANDRÉ",
            "JACQUES",
            "NICOLE",
            "BERNARD",
            "CLAUDE",
            "MONIQUE",
            "MICHEL",
            "MARIE",
            "JEAN"
           ]
          }
         ],
         "layout": {
          "bargap": 0.15,
          "font": {
           "size": 14
          },
          "plot_bgcolor": "#FFFFFF",
          "title": {
           "text": "Top 10 prenoms"
          },
          "xaxis": {
           "range": [
            0,
            53596
           ],
           "showline": true,
           "visible": true
          },
          "yaxis": {
           "showline": false,
           "visible": true
          }
         },
         "name": "1942"
        },
        {
         "data": [
          {
           "cliponaxis": false,
           "hoverinfo": "all",
           "hovertemplate": "<extra></extra>",
           "marker": {
            "color": [
             "rgb(238, 197, 180)",
             "rgb(38, 181, 95)",
             "rgb(95, 159, 92)",
             "rgb(150, 132, 121)",
             "rgb(235, 67, 118)",
             "rgb(58, 44, 1)",
             "rgb(29, 31, 99)",
             "rgb(64, 10, 51)",
             "rgb(173, 217, 47)",
             "rgb(5, 58, 159)"
            ]
           },
           "orientation": "h",
           "textangle": 0,
           "textposition": "outside",
           "texttemplate": "%{y}<br>%{x:.4s}",
           "type": "bar",
           "x": [
            10638,
            11062,
            11193,
            11494,
            11524,
            11805,
            13234,
            20722,
            24473,
            40802
           ],
           "y": [
            "JACQUES",
            "NICOLE",
            "GÉRARD",
            "CLAUDE",
            "DANIEL",
            "BERNARD",
            "MONIQUE",
            "MICHEL",
            "MARIE",
            "JEAN"
           ]
          }
         ],
         "layout": {
          "bargap": 0.15,
          "font": {
           "size": 14
          },
          "plot_bgcolor": "#FFFFFF",
          "title": {
           "text": "Top 10 prenoms"
          },
          "xaxis": {
           "range": [
            0,
            53596
           ],
           "showline": true,
           "visible": true
          },
          "yaxis": {
           "showline": false,
           "visible": true
          }
         },
         "name": "1943"
        },
        {
         "data": [
          {
           "cliponaxis": false,
           "hoverinfo": "all",
           "hovertemplate": "<extra></extra>",
           "marker": {
            "color": [
             "rgb(150, 132, 121)",
             "rgb(238, 197, 180)",
             "rgb(38, 181, 95)",
             "rgb(95, 159, 92)",
             "rgb(58, 44, 1)",
             "rgb(235, 67, 118)",
             "rgb(29, 31, 99)",
             "rgb(64, 10, 51)",
             "rgb(173, 217, 47)",
             "rgb(5, 58, 159)"
            ]
           },
           "orientation": "h",
           "textangle": 0,
           "textposition": "outside",
           "texttemplate": "%{y}<br>%{x:.4s}",
           "type": "bar",
           "x": [
            10737,
            10760,
            11056,
            11899,
            11957,
            12254,
            12882,
            20880,
            25414,
            40156
           ],
           "y": [
            "CLAUDE",
            "JACQUES",
            "NICOLE",
            "GÉRARD",
            "BERNARD",
            "DANIEL",
            "MONIQUE",
            "MICHEL",
            "MARIE",
            "JEAN"
           ]
          }
         ],
         "layout": {
          "bargap": 0.15,
          "font": {
           "size": 14
          },
          "plot_bgcolor": "#FFFFFF",
          "title": {
           "text": "Top 10 prenoms"
          },
          "xaxis": {
           "range": [
            0,
            53596
           ],
           "showline": true,
           "visible": true
          },
          "yaxis": {
           "showline": false,
           "visible": true
          }
         },
         "name": "1944"
        },
        {
         "data": [
          {
           "cliponaxis": false,
           "hoverinfo": "all",
           "hovertemplate": "<extra></extra>",
           "marker": {
            "color": [
             "rgb(238, 197, 180)",
             "rgb(38, 181, 95)",
             "rgb(71, 195, 214)",
             "rgb(29, 31, 99)",
             "rgb(58, 44, 1)",
             "rgb(95, 159, 92)",
             "rgb(235, 67, 118)",
             "rgb(64, 10, 51)",
             "rgb(173, 217, 47)",
             "rgb(5, 58, 159)"
            ]
           },
           "orientation": "h",
           "textangle": 0,
           "textposition": "outside",
           "texttemplate": "%{y}<br>%{x:.4s}",
           "type": "bar",
           "x": [
            10796,
            11038,
            11549,
            11782,
            11918,
            12404,
            13227,
            21007,
            25454,
            40809
           ],
           "y": [
            "JACQUES",
            "NICOLE",
            "ALAIN",
            "MONIQUE",
            "BERNARD",
            "GÉRARD",
            "DANIEL",
            "MICHEL",
            "MARIE",
            "JEAN"
           ]
          }
         ],
         "layout": {
          "bargap": 0.15,
          "font": {
           "size": 14
          },
          "plot_bgcolor": "#FFFFFF",
          "title": {
           "text": "Top 10 prenoms"
          },
          "xaxis": {
           "range": [
            0,
            53596
           ],
           "showline": true,
           "visible": true
          },
          "yaxis": {
           "showline": false,
           "visible": true
          }
         },
         "name": "1945"
        },
        {
         "data": [
          {
           "cliponaxis": false,
           "hoverinfo": "all",
           "hovertemplate": "<extra></extra>",
           "marker": {
            "color": [
             "rgb(238, 197, 180)",
             "rgb(38, 181, 95)",
             "rgb(29, 31, 99)",
             "rgb(58, 44, 1)",
             "rgb(95, 159, 92)",
             "rgb(71, 195, 214)",
             "rgb(235, 67, 118)",
             "rgb(173, 217, 47)",
             "rgb(64, 10, 51)",
             "rgb(5, 58, 159)"
            ]
           },
           "orientation": "h",
           "textangle": 0,
           "textposition": "outside",
           "texttemplate": "%{y}<br>%{x:.4s}",
           "type": "bar",
           "x": [
            15407,
            15555,
            16897,
            18536,
            19233,
            19783,
            20818,
            31416,
            31886,
            53596
           ],
           "y": [
            "JACQUES",
            "NICOLE",
            "MONIQUE",
            "BERNARD",
            "GÉRARD",
            "ALAIN",
            "DANIEL",
            "MARIE",
            "MICHEL",
            "JEAN"
           ]
          }
         ],
         "layout": {
          "bargap": 0.15,
          "font": {
           "size": 14
          },
          "plot_bgcolor": "#FFFFFF",
          "title": {
           "text": "Top 10 prenoms"
          },
          "xaxis": {
           "range": [
            0,
            53596
           ],
           "showline": true,
           "visible": true
          },
          "yaxis": {
           "showline": false,
           "visible": true
          }
         },
         "name": "1946"
        },
        {
         "data": [
          {
           "cliponaxis": false,
           "hoverinfo": "all",
           "hovertemplate": "<extra></extra>",
           "marker": {
            "color": [
             "rgb(178, 120, 151)",
             "rgb(38, 181, 95)",
             "rgb(29, 31, 99)",
             "rgb(95, 159, 92)",
             "rgb(58, 44, 1)",
             "rgb(235, 67, 118)",
             "rgb(71, 195, 214)",
             "rgb(64, 10, 51)",
             "rgb(173, 217, 47)",
             "rgb(5, 58, 159)"
            ]
           },
           "orientation": "h",
           "textangle": 0,
           "textposition": "outside",
           "texttemplate": "%{y}<br>%{x:.4s}",
           "type": "bar",
           "x": [
            15268,
            15840,
            16706,
            19705,
            19827,
            21347,
            22781,
            32585,
            33131,
            51420
           ],
           "y": [
            "CHRISTIAN",
            "NICOLE",
            "MONIQUE",
            "GÉRARD",
            "BERNARD",
            "DANIEL",
            "ALAIN",
            "MICHEL",
            "MARIE",
            "JEAN"
           ]
          }
         ],
         "layout": {
          "bargap": 0.15,
          "font": {
           "size": 14
          },
          "plot_bgcolor": "#FFFFFF",
          "title": {
           "text": "Top 10 prenoms"
          },
          "xaxis": {
           "range": [
            0,
            53596
           ],
           "showline": true,
           "visible": true
          },
          "yaxis": {
           "showline": false,
           "visible": true
          }
         },
         "name": "1947"
        },
        {
         "data": [
          {
           "cliponaxis": false,
           "hoverinfo": "all",
           "hovertemplate": "<extra></extra>",
           "marker": {
            "color": [
             "rgb(138, 143, 81)",
             "rgb(29, 31, 99)",
             "rgb(178, 120, 151)",
             "rgb(58, 44, 1)",
             "rgb(95, 159, 92)",
             "rgb(235, 67, 118)",
             "rgb(71, 195, 214)",
             "rgb(173, 217, 47)",
             "rgb(64, 10, 51)",
             "rgb(5, 58, 159)"
            ]
           },
           "orientation": "h",
           "textangle": 0,
           "textposition": "outside",
           "texttemplate": "%{y}<br>%{x:.4s}",
           "type": "bar",
           "x": [
            15235,
            16001,
            16248,
            19221,
            19869,
            20302,
            23648,
            31189,
            32273,
            46281
           ],
           "y": [
            "FRANÇOISE",
            "MONIQUE",
            "CHRISTIAN",
            "BERNARD",
            "GÉRARD",
            "DANIEL",
            "ALAIN",
            "MARIE",
            "MICHEL",
            "JEAN"
           ]
          }
         ],
         "layout": {
          "bargap": 0.15,
          "font": {
           "size": 14
          },
          "plot_bgcolor": "#FFFFFF",
          "title": {
           "text": "Top 10 prenoms"
          },
          "xaxis": {
           "range": [
            0,
            53596
           ],
           "showline": true,
           "visible": true
          },
          "yaxis": {
           "showline": false,
           "visible": true
          }
         },
         "name": "1948"
        },
        {
         "data": [
          {
           "cliponaxis": false,
           "hoverinfo": "all",
           "hovertemplate": "<extra></extra>",
           "marker": {
            "color": [
             "rgb(29, 31, 99)",
             "rgb(138, 143, 81)",
             "rgb(178, 120, 151)",
             "rgb(58, 44, 1)",
             "rgb(235, 67, 118)",
             "rgb(95, 159, 92)",
             "rgb(71, 195, 214)",
             "rgb(64, 10, 51)",
             "rgb(173, 217, 47)",
             "rgb(5, 58, 159)"
            ]
           },
           "orientation": "h",
           "textangle": 0,
           "textposition": "outside",
           "texttemplate": "%{y}<br>%{x:.4s}",
           "type": "bar",
           "x": [
            15218,
            15260,
            17300,
            19105,
            19231,
            20010,
            23472,
            30449,
            30545,
            42873
           ],
           "y": [
            "MONIQUE",
            "FRANÇOISE",
            "CHRISTIAN",
            "BERNARD",
            "DANIEL",
            "GÉRARD",
            "ALAIN",
            "MICHEL",
            "MARIE",
            "JEAN"
           ]
          }
         ],
         "layout": {
          "bargap": 0.15,
          "font": {
           "size": 14
          },
          "plot_bgcolor": "#FFFFFF",
          "title": {
           "text": "Top 10 prenoms"
          },
          "xaxis": {
           "range": [
            0,
            53596
           ],
           "showline": true,
           "visible": true
          },
          "yaxis": {
           "showline": false,
           "visible": true
          }
         },
         "name": "1949"
        },
        {
         "data": [
          {
           "cliponaxis": false,
           "hoverinfo": "all",
           "hovertemplate": "<extra></extra>",
           "marker": {
            "color": [
             "rgb(138, 143, 81)",
             "rgb(121, 75, 57)",
             "rgb(178, 120, 151)",
             "rgb(235, 67, 118)",
             "rgb(58, 44, 1)",
             "rgb(95, 159, 92)",
             "rgb(71, 195, 214)",
             "rgb(64, 10, 51)",
             "rgb(173, 217, 47)",
             "rgb(5, 58, 159)"
            ]
           },
           "orientation": "h",
           "textangle": 0,
           "textposition": "outside",
           "texttemplate": "%{y}<br>%{x:.4s}",
           "type": "bar",
           "x": [
            14733,
            16286,
            17040,
            18225,
            18354,
            18624,
            24048,
            27957,
            28298,
            38370
           ],
           "y": [
            "FRANÇOISE",
            "MARTINE",
            "CHRISTIAN",
            "DANIEL",
            "BERNARD",
            "GÉRARD",
            "ALAIN",
            "MICHEL",
            "MARIE",
            "JEAN"
           ]
          }
         ],
         "layout": {
          "bargap": 0.15,
          "font": {
           "size": 14
          },
          "plot_bgcolor": "#FFFFFF",
          "title": {
           "text": "Top 10 prenoms"
          },
          "xaxis": {
           "range": [
            0,
            53596
           ],
           "showline": true,
           "visible": true
          },
          "yaxis": {
           "showline": false,
           "visible": true
          }
         },
         "name": "1950"
        },
        {
         "data": [
          {
           "cliponaxis": false,
           "hoverinfo": "all",
           "hovertemplate": "<extra></extra>",
           "marker": {
            "color": [
             "rgb(9, 228, 167)",
             "rgb(235, 67, 118)",
             "rgb(178, 120, 151)",
             "rgb(95, 159, 92)",
             "rgb(58, 44, 1)",
             "rgb(121, 75, 57)",
             "rgb(71, 195, 214)",
             "rgb(64, 10, 51)",
             "rgb(173, 217, 47)",
             "rgb(5, 58, 159)"
            ]
           },
           "orientation": "h",
           "textangle": 0,
           "textposition": "outside",
           "texttemplate": "%{y}<br>%{x:.4s}",
           "type": "bar",
           "x": [
            15253,
            16403,
            16679,
            16681,
            16984,
            19005,
            23032,
            25136,
            25276,
            35312
           ],
           "y": [
            "DOMINIQUE",
            "DANIEL",
            "CHRISTIAN",
            "GÉRARD",
            "BERNARD",
            "MARTINE",
            "ALAIN",
            "MICHEL",
            "MARIE",
            "JEAN"
           ]
          }
         ],
         "layout": {
          "bargap": 0.15,
          "font": {
           "size": 14
          },
          "plot_bgcolor": "#FFFFFF",
          "title": {
           "text": "Top 10 prenoms"
          },
          "xaxis": {
           "range": [
            0,
            53596
           ],
           "showline": true,
           "visible": true
          },
          "yaxis": {
           "showline": false,
           "visible": true
          }
         },
         "name": "1951"
        },
        {
         "data": [
          {
           "cliponaxis": false,
           "hoverinfo": "all",
           "hovertemplate": "<extra></extra>",
           "marker": {
            "color": [
             "rgb(95, 159, 92)",
             "rgb(26, 41, 171)",
             "rgb(178, 120, 151)",
             "rgb(58, 44, 1)",
             "rgb(9, 228, 167)",
             "rgb(121, 75, 57)",
             "rgb(71, 195, 214)",
             "rgb(64, 10, 51)",
             "rgb(173, 217, 47)",
             "rgb(5, 58, 159)"
            ]
           },
           "orientation": "h",
           "textangle": 0,
           "textposition": "outside",
           "texttemplate": "%{y}<br>%{x:.4s}",
           "type": "bar",
           "x": [
            15964,
            16096,
            16142,
            17879,
            18948,
            20605,
            21917,
            23767,
            25833,
            34016
           ],
           "y": [
            "GÉRARD",
            "PATRICK",
            "CHRISTIAN",
            "BERNARD",
            "DOMINIQUE",
            "MARTINE",
            "ALAIN",
            "MICHEL",
            "MARIE",
            "JEAN"
           ]
          }
         ],
         "layout": {
          "bargap": 0.15,
          "font": {
           "size": 14
          },
          "plot_bgcolor": "#FFFFFF",
          "title": {
           "text": "Top 10 prenoms"
          },
          "xaxis": {
           "range": [
            0,
            53596
           ],
           "showline": true,
           "visible": true
          },
          "yaxis": {
           "showline": false,
           "visible": true
          }
         },
         "name": "1952"
        },
        {
         "data": [
          {
           "cliponaxis": false,
           "hoverinfo": "all",
           "hovertemplate": "<extra></extra>",
           "marker": {
            "color": [
             "rgb(95, 159, 92)",
             "rgb(58, 44, 1)",
             "rgb(178, 120, 151)",
             "rgb(26, 41, 171)",
             "rgb(9, 228, 167)",
             "rgb(71, 195, 214)",
             "rgb(64, 10, 51)",
             "rgb(121, 75, 57)",
             "rgb(173, 217, 47)",
             "rgb(5, 58, 159)"
            ]
           },
           "orientation": "h",
           "textangle": 0,
           "textposition": "outside",
           "texttemplate": "%{y}<br>%{x:.4s}",
           "type": "bar",
           "x": [
            14505,
            15706,
            16820,
            18446,
            18479,
            21297,
            22352,
            22390,
            22729,
            29372
           ],
           "y": [
            "GÉRARD",
            "BERNARD",
            "CHRISTIAN",
            "PATRICK",
            "DOMINIQUE",
            "ALAIN",
            "MICHEL",
            "MARTINE",
            "MARIE",
            "JEAN"
           ]
          }
         ],
         "layout": {
          "bargap": 0.15,
          "font": {
           "size": 14
          },
          "plot_bgcolor": "#FFFFFF",
          "title": {
           "text": "Top 10 prenoms"
          },
          "xaxis": {
           "range": [
            0,
            53596
           ],
           "showline": true,
           "visible": true
          },
          "yaxis": {
           "showline": false,
           "visible": true
          }
         },
         "name": "1953"
        },
        {
         "data": [
          {
           "cliponaxis": false,
           "hoverinfo": "all",
           "hovertemplate": "<extra></extra>",
           "marker": {
            "color": [
             "rgb(58, 44, 1)",
             "rgb(180, 249, 153)",
             "rgb(178, 120, 151)",
             "rgb(9, 228, 167)",
             "rgb(71, 195, 214)",
             "rgb(26, 41, 171)",
             "rgb(64, 10, 51)",
             "rgb(121, 75, 57)",
             "rgb(173, 217, 47)",
             "rgb(5, 58, 159)"
            ]
           },
           "orientation": "h",
           "textangle": 0,
           "textposition": "outside",
           "texttemplate": "%{y}<br>%{x:.4s}",
           "type": "bar",
           "x": [
            14502,
            14869,
            17078,
            19722,
            20318,
            20728,
            21380,
            22821,
            23607,
            28594
           ],
           "y": [
            "BERNARD",
            "PHILIPPE",
            "CHRISTIAN",
            "DOMINIQUE",
            "ALAIN",
            "PATRICK",
            "MICHEL",
            "MARTINE",
            "MARIE",
            "JEAN"
           ]
          }
         ],
         "layout": {
          "bargap": 0.15,
          "font": {
           "size": 14
          },
          "plot_bgcolor": "#FFFFFF",
          "title": {
           "text": "Top 10 prenoms"
          },
          "xaxis": {
           "range": [
            0,
            53596
           ],
           "showline": true,
           "visible": true
          },
          "yaxis": {
           "showline": false,
           "visible": true
          }
         },
         "name": "1954"
        },
        {
         "data": [
          {
           "cliponaxis": false,
           "hoverinfo": "all",
           "hovertemplate": "<extra></extra>",
           "marker": {
            "color": [
             "rgb(58, 44, 1)",
             "rgb(178, 120, 151)",
             "rgb(180, 249, 153)",
             "rgb(71, 195, 214)",
             "rgb(173, 217, 47)",
             "rgb(26, 41, 171)",
             "rgb(121, 75, 57)",
             "rgb(9, 228, 167)",
             "rgb(64, 10, 51)",
             "rgb(5, 58, 159)"
            ]
           },
           "orientation": "h",
           "textangle": 0,
           "textposition": "outside",
           "texttemplate": "%{y}<br>%{x:.4s}",
           "type": "bar",
           "x": [
            13297,
            17299,
            17624,
            19868,
            20090,
            20313,
            20840,
            21272,
            21551,
            24887
           ],
           "y": [
            "BERNARD",
            "CHRISTIAN",
            "PHILIPPE",
            "ALAIN",
            "MARIE",
            "PATRICK",
            "MARTINE",
            "DOMINIQUE",
            "MICHEL",
            "JEAN"
           ]
          }
         ],
         "layout": {
          "bargap": 0.15,
          "font": {
           "size": 14
          },
          "plot_bgcolor": "#FFFFFF",
          "title": {
           "text": "Top 10 prenoms"
          },
          "xaxis": {
           "range": [
            0,
            53596
           ],
           "showline": true,
           "visible": true
          },
          "yaxis": {
           "showline": false,
           "visible": true
          }
         },
         "name": "1955"
        },
        {
         "data": [
          {
           "cliponaxis": false,
           "hoverinfo": "all",
           "hovertemplate": "<extra></extra>",
           "marker": {
            "color": [
             "rgb(156, 248, 12)",
             "rgb(178, 120, 151)",
             "rgb(71, 195, 214)",
             "rgb(180, 249, 153)",
             "rgb(121, 75, 57)",
             "rgb(173, 217, 47)",
             "rgb(64, 10, 51)",
             "rgb(26, 41, 171)",
             "rgb(9, 228, 167)",
             "rgb(5, 58, 159)"
            ]
           },
           "orientation": "h",
           "textangle": 0,
           "textposition": "outside",
           "texttemplate": "%{y}<br>%{x:.4s}",
           "type": "bar",
           "x": [
            14070,
            15941,
            18527,
            18834,
            19420,
            19690,
            20436,
            21352,
            21570,
            23958
           ],
           "y": [
            "CATHERINE",
            "CHRISTIAN",
            "ALAIN",
            "PHILIPPE",
            "MARTINE",
            "MARIE",
            "MICHEL",
            "PATRICK",
            "DOMINIQUE",
            "JEAN"
           ]
          }
         ],
         "layout": {
          "bargap": 0.15,
          "font": {
           "size": 14
          },
          "plot_bgcolor": "#FFFFFF",
          "title": {
           "text": "Top 10 prenoms"
          },
          "xaxis": {
           "range": [
            0,
            53596
           ],
           "showline": true,
           "visible": true
          },
          "yaxis": {
           "showline": false,
           "visible": true
          }
         },
         "name": "1956"
        },
        {
         "data": [
          {
           "cliponaxis": false,
           "hoverinfo": "all",
           "hovertemplate": "<extra></extra>",
           "marker": {
            "color": [
             "rgb(156, 248, 12)",
             "rgb(170, 128, 20)",
             "rgb(71, 195, 214)",
             "rgb(121, 75, 57)",
             "rgb(173, 217, 47)",
             "rgb(64, 10, 51)",
             "rgb(180, 249, 153)",
             "rgb(26, 41, 171)",
             "rgb(9, 228, 167)",
             "rgb(5, 58, 159)"
            ]
           },
           "orientation": "h",
           "textangle": 0,
           "textposition": "outside",
           "texttemplate": "%{y}<br>%{x:.4s}",
           "type": "bar",
           "x": [
            15429,
            15476,
            17564,
            17832,
            18311,
            19030,
            20745,
            21064,
            21518,
            22231
           ],
           "y": [
            "CATHERINE",
            "BRIGITTE",
            "ALAIN",
            "MARTINE",
            "MARIE",
            "MICHEL",
            "PHILIPPE",
            "PATRICK",
            "DOMINIQUE",
            "JEAN"
           ]
          }
         ],
         "layout": {
          "bargap": 0.15,
          "font": {
           "size": 14
          },
          "plot_bgcolor": "#FFFFFF",
          "title": {
           "text": "Top 10 prenoms"
          },
          "xaxis": {
           "range": [
            0,
            53596
           ],
           "showline": true,
           "visible": true
          },
          "yaxis": {
           "showline": false,
           "visible": true
          }
         },
         "name": "1957"
        },
        {
         "data": [
          {
           "cliponaxis": false,
           "hoverinfo": "all",
           "hovertemplate": "<extra></extra>",
           "marker": {
            "color": [
             "rgb(71, 195, 214)",
             "rgb(156, 248, 12)",
             "rgb(121, 75, 57)",
             "rgb(170, 128, 20)",
             "rgb(64, 10, 51)",
             "rgb(173, 217, 47)",
             "rgb(26, 41, 171)",
             "rgb(9, 228, 167)",
             "rgb(5, 58, 159)",
             "rgb(180, 249, 153)"
            ]
           },
           "orientation": "h",
           "textangle": 0,
           "textposition": "outside",
           "texttemplate": "%{y}<br>%{x:.4s}",
           "type": "bar",
           "x": [
            16058,
            16418,
            17075,
            17145,
            17719,
            18199,
            19910,
            20829,
            21176,
            22111
           ],
           "y": [
            "ALAIN",
            "CATHERINE",
            "MARTINE",
            "BRIGITTE",
            "MICHEL",
            "MARIE",
            "PATRICK",
            "DOMINIQUE",
            "JEAN",
            "PHILIPPE"
           ]
          }
         ],
         "layout": {
          "bargap": 0.15,
          "font": {
           "size": 14
          },
          "plot_bgcolor": "#FFFFFF",
          "title": {
           "text": "Top 10 prenoms"
          },
          "xaxis": {
           "range": [
            0,
            53596
           ],
           "showline": true,
           "visible": true
          },
          "yaxis": {
           "showline": false,
           "visible": true
          }
         },
         "name": "1958"
        },
        {
         "data": [
          {
           "cliponaxis": false,
           "hoverinfo": "all",
           "hovertemplate": "<extra></extra>",
           "marker": {
            "color": [
             "rgb(178, 16, 132)",
             "rgb(71, 195, 214)",
             "rgb(64, 10, 51)",
             "rgb(173, 217, 47)",
             "rgb(156, 248, 12)",
             "rgb(170, 128, 20)",
             "rgb(9, 228, 167)",
             "rgb(26, 41, 171)",
             "rgb(5, 58, 159)",
             "rgb(180, 249, 153)"
            ]
           },
           "orientation": "h",
           "textangle": 0,
           "textposition": "outside",
           "texttemplate": "%{y}<br>%{x:.4s}",
           "type": "bar",
           "x": [
            15454,
            16387,
            16426,
            16692,
            16801,
            18166,
            19739,
            20022,
            20223,
            23436
           ],
           "y": [
            "SYLVIE",
            "ALAIN",
            "MICHEL",
            "MARIE",
            "CATHERINE",
            "BRIGITTE",
            "DOMINIQUE",
            "PATRICK",
            "JEAN",
            "PHILIPPE"
           ]
          }
         ],
         "layout": {
          "bargap": 0.15,
          "font": {
           "size": 14
          },
          "plot_bgcolor": "#FFFFFF",
          "title": {
           "text": "Top 10 prenoms"
          },
          "xaxis": {
           "range": [
            0,
            53596
           ],
           "showline": true,
           "visible": true
          },
          "yaxis": {
           "showline": false,
           "visible": true
          }
         },
         "name": "1959"
        },
        {
         "data": [
          {
           "cliponaxis": false,
           "hoverinfo": "all",
           "hovertemplate": "<extra></extra>",
           "marker": {
            "color": [
             "rgb(173, 217, 47)",
             "rgb(126, 176, 70)",
             "rgb(71, 195, 214)",
             "rgb(178, 16, 132)",
             "rgb(5, 58, 159)",
             "rgb(126, 39, 29)",
             "rgb(156, 248, 12)",
             "rgb(9, 228, 167)",
             "rgb(26, 41, 171)",
             "rgb(180, 249, 153)"
            ]
           },
           "orientation": "h",
           "textangle": 0,
           "textposition": "outside",
           "texttemplate": "%{y}<br>%{x:.4s}",
           "type": "bar",
           "x": [
            15074,
            15156,
            15274,
            17655,
            17666,
            17779,
            18045,
            18437,
            18521,
            24762
           ],
           "y": [
            "MARIE",
            "CHRISTINE",
            "ALAIN",
            "SYLVIE",
            "JEAN",
            "PASCAL",
            "CATHERINE",
            "DOMINIQUE",
            "PATRICK",
            "PHILIPPE"
           ]
          }
         ],
         "layout": {
          "bargap": 0.15,
          "font": {
           "size": 14
          },
          "plot_bgcolor": "#FFFFFF",
          "title": {
           "text": "Top 10 prenoms"
          },
          "xaxis": {
           "range": [
            0,
            53596
           ],
           "showline": true,
           "visible": true
          },
          "yaxis": {
           "showline": false,
           "visible": true
          }
         },
         "name": "1960"
        },
        {
         "data": [
          {
           "cliponaxis": false,
           "hoverinfo": "all",
           "hovertemplate": "<extra></extra>",
           "marker": {
            "color": [
             "rgb(183, 194, 188)",
             "rgb(126, 176, 70)",
             "rgb(5, 58, 159)",
             "rgb(26, 41, 171)",
             "rgb(48, 214, 9)",
             "rgb(9, 228, 167)",
             "rgb(156, 248, 12)",
             "rgb(178, 16, 132)",
             "rgb(126, 39, 29)",
             "rgb(180, 249, 153)"
            ]
           },
           "orientation": "h",
           "textangle": 0,
           "textposition": "outside",
           "texttemplate": "%{y}<br>%{x:.4s}",
           "type": "bar",
           "x": [
            14501,
            15576,
            16176,
            17699,
            17891,
            18502,
            19007,
            19190,
            19892,
            24971
           ],
           "y": [
            "THIERRY",
            "CHRISTINE",
            "JEAN",
            "PATRICK",
            "ERIC",
            "DOMINIQUE",
            "CATHERINE",
            "SYLVIE",
            "PASCAL",
            "PHILIPPE"
           ]
          }
         ],
         "layout": {
          "bargap": 0.15,
          "font": {
           "size": 14
          },
          "plot_bgcolor": "#FFFFFF",
          "title": {
           "text": "Top 10 prenoms"
          },
          "xaxis": {
           "range": [
            0,
            53596
           ],
           "showline": true,
           "visible": true
          },
          "yaxis": {
           "showline": false,
           "visible": true
          }
         },
         "name": "1961"
        },
        {
         "data": [
          {
           "cliponaxis": false,
           "hoverinfo": "all",
           "hovertemplate": "<extra></extra>",
           "marker": {
            "color": [
             "rgb(126, 176, 70)",
             "rgb(183, 194, 188)",
             "rgb(83, 56, 92)",
             "rgb(26, 41, 171)",
             "rgb(9, 228, 167)",
             "rgb(48, 214, 9)",
             "rgb(156, 248, 12)",
             "rgb(178, 16, 132)",
             "rgb(126, 39, 29)",
             "rgb(180, 249, 153)"
            ]
           },
           "orientation": "h",
           "textangle": 0,
           "textposition": "outside",
           "texttemplate": "%{y}<br>%{x:.4s}",
           "type": "bar",
           "x": [
            14768,
            15742,
            15825,
            16246,
            17303,
            17907,
            19710,
            20827,
            21254,
            24926
           ],
           "y": [
            "CHRISTINE",
            "THIERRY",
            "ISABELLE",
            "PATRICK",
            "DOMINIQUE",
            "ERIC",
            "CATHERINE",
            "SYLVIE",
            "PASCAL",
            "PHILIPPE"
           ]
          }
         ],
         "layout": {
          "bargap": 0.15,
          "font": {
           "size": 14
          },
          "plot_bgcolor": "#FFFFFF",
          "title": {
           "text": "Top 10 prenoms"
          },
          "xaxis": {
           "range": [
            0,
            53596
           ],
           "showline": true,
           "visible": true
          },
          "yaxis": {
           "showline": false,
           "visible": true
          }
         },
         "name": "1962"
        },
        {
         "data": [
          {
           "cliponaxis": false,
           "hoverinfo": "all",
           "hovertemplate": "<extra></extra>",
           "marker": {
            "color": [
             "rgb(126, 176, 70)",
             "rgb(114, 83, 21)",
             "rgb(26, 41, 171)",
             "rgb(83, 56, 92)",
             "rgb(183, 194, 188)",
             "rgb(156, 248, 12)",
             "rgb(48, 214, 9)",
             "rgb(126, 39, 29)",
             "rgb(178, 16, 132)",
             "rgb(180, 249, 153)"
            ]
           },
           "orientation": "h",
           "textangle": 0,
           "textposition": "outside",
           "texttemplate": "%{y}<br>%{x:.4s}",
           "type": "bar",
           "x": [
            16115,
            16207,
            17213,
            17556,
            19021,
            19903,
            20044,
            20641,
            25669,
            26210
           ],
           "y": [
            "CHRISTINE",
            "VÉRONIQUE",
            "PATRICK",
            "ISABELLE",
            "THIERRY",
            "CATHERINE",
            "ERIC",
            "PASCAL",
            "SYLVIE",
            "PHILIPPE"
           ]
          }
         ],
         "layout": {
          "bargap": 0.15,
          "font": {
           "size": 14
          },
          "plot_bgcolor": "#FFFFFF",
          "title": {
           "text": "Top 10 prenoms"
          },
          "xaxis": {
           "range": [
            0,
            53596
           ],
           "showline": true,
           "visible": true
          },
          "yaxis": {
           "showline": false,
           "visible": true
          }
         },
         "name": "1963"
        },
        {
         "data": [
          {
           "cliponaxis": false,
           "hoverinfo": "all",
           "hovertemplate": "<extra></extra>",
           "marker": {
            "color": [
             "rgb(126, 176, 70)",
             "rgb(26, 41, 171)",
             "rgb(126, 39, 29)",
             "rgb(156, 248, 12)",
             "rgb(48, 214, 9)",
             "rgb(83, 56, 92)",
             "rgb(146, 235, 21)",
             "rgb(183, 194, 188)",
             "rgb(180, 249, 153)",
             "rgb(178, 16, 132)"
            ]
           },
           "orientation": "h",
           "textangle": 0,
           "textposition": "outside",
           "texttemplate": "%{y}<br>%{x:.4s}",
           "type": "bar",
           "x": [
            16041,
            16109,
            17846,
            18594,
            19971,
            21521,
            22192,
            25518,
            26024,
            27554
           ],
           "y": [
            "CHRISTINE",
            "PATRICK",
            "PASCAL",
            "CATHERINE",
            "ERIC",
            "ISABELLE",
            "NATHALIE",
            "THIERRY",
            "PHILIPPE",
            "SYLVIE"
           ]
          }
         ],
         "layout": {
          "bargap": 0.15,
          "font": {
           "size": 14
          },
          "plot_bgcolor": "#FFFFFF",
          "title": {
           "text": "Top 10 prenoms"
          },
          "xaxis": {
           "range": [
            0,
            53596
           ],
           "showline": true,
           "visible": true
          },
          "yaxis": {
           "showline": false,
           "visible": true
          }
         },
         "name": "1964"
        },
        {
         "data": [
          {
           "cliponaxis": false,
           "hoverinfo": "all",
           "hovertemplate": "<extra></extra>",
           "marker": {
            "color": [
             "rgb(101, 127, 96)",
             "rgb(220, 62, 85)",
             "rgb(156, 248, 12)",
             "rgb(126, 39, 29)",
             "rgb(48, 214, 9)",
             "rgb(83, 56, 92)",
             "rgb(180, 249, 153)",
             "rgb(183, 194, 188)",
             "rgb(178, 16, 132)",
             "rgb(146, 235, 21)"
            ]
           },
           "orientation": "h",
           "textangle": 0,
           "textposition": "outside",
           "texttemplate": "%{y}<br>%{x:.4s}",
           "type": "bar",
           "x": [
            15233,
            16303,
            16446,
            17528,
            20138,
            23977,
            24165,
            24542,
            24641,
            30294
           ],
           "y": [
            "LAURENT",
            "VALÉRIE",
            "CATHERINE",
            "PASCAL",
            "ERIC",
            "ISABELLE",
            "PHILIPPE",
            "THIERRY",
            "SYLVIE",
            "NATHALIE"
           ]
          }
         ],
         "layout": {
          "bargap": 0.15,
          "font": {
           "size": 14
          },
          "plot_bgcolor": "#FFFFFF",
          "title": {
           "text": "Top 10 prenoms"
          },
          "xaxis": {
           "range": [
            0,
            53596
           ],
           "showline": true,
           "visible": true
          },
          "yaxis": {
           "showline": false,
           "visible": true
          }
         },
         "name": "1965"
        },
        {
         "data": [
          {
           "cliponaxis": false,
           "hoverinfo": "all",
           "hovertemplate": "<extra></extra>",
           "marker": {
            "color": [
             "rgb(101, 127, 96)",
             "rgb(126, 39, 29)",
             "rgb(48, 214, 9)",
             "rgb(183, 194, 188)",
             "rgb(220, 62, 85)",
             "rgb(178, 16, 132)",
             "rgb(143, 232, 163)",
             "rgb(180, 249, 153)",
             "rgb(83, 56, 92)",
             "rgb(146, 235, 21)"
            ]
           },
           "orientation": "h",
           "textangle": 0,
           "textposition": "outside",
           "texttemplate": "%{y}<br>%{x:.4s}",
           "type": "bar",
           "x": [
            16012,
            16716,
            18201,
            19355,
            20267,
            20312,
            20675,
            22739,
            23230,
            31413
           ],
           "y": [
            "LAURENT",
            "PASCAL",
            "ERIC",
            "THIERRY",
            "VALÉRIE",
            "SYLVIE",
            "CHRISTOPHE",
            "PHILIPPE",
            "ISABELLE",
            "NATHALIE"
           ]
          }
         ],
         "layout": {
          "bargap": 0.15,
          "font": {
           "size": 14
          },
          "plot_bgcolor": "#FFFFFF",
          "title": {
           "text": "Top 10 prenoms"
          },
          "xaxis": {
           "range": [
            0,
            53596
           ],
           "showline": true,
           "visible": true
          },
          "yaxis": {
           "showline": false,
           "visible": true
          }
         },
         "name": "1966"
        },
        {
         "data": [
          {
           "cliponaxis": false,
           "hoverinfo": "all",
           "hovertemplate": "<extra></extra>",
           "marker": {
            "color": [
             "rgb(126, 39, 29)",
             "rgb(183, 194, 188)",
             "rgb(48, 214, 9)",
             "rgb(178, 16, 132)",
             "rgb(101, 127, 96)",
             "rgb(180, 249, 153)",
             "rgb(83, 56, 92)",
             "rgb(143, 232, 163)",
             "rgb(220, 62, 85)",
             "rgb(146, 235, 21)"
            ]
           },
           "orientation": "h",
           "textangle": 0,
           "textposition": "outside",
           "texttemplate": "%{y}<br>%{x:.4s}",
           "type": "bar",
           "x": [
            15392,
            15755,
            16712,
            17324,
            17456,
            21232,
            21633,
            21727,
            22460,
            29235
           ],
           "y": [
            "PASCAL",
            "THIERRY",
            "ERIC",
            "SYLVIE",
            "LAURENT",
            "PHILIPPE",
            "ISABELLE",
            "CHRISTOPHE",
            "VALÉRIE",
            "NATHALIE"
           ]
          }
         ],
         "layout": {
          "bargap": 0.15,
          "font": {
           "size": 14
          },
          "plot_bgcolor": "#FFFFFF",
          "title": {
           "text": "Top 10 prenoms"
          },
          "xaxis": {
           "range": [
            0,
            53596
           ],
           "showline": true,
           "visible": true
          },
          "yaxis": {
           "showline": false,
           "visible": true
          }
         },
         "name": "1967"
        },
        {
         "data": [
          {
           "cliponaxis": false,
           "hoverinfo": "all",
           "hovertemplate": "<extra></extra>",
           "marker": {
            "color": [
             "rgb(94, 110, 93)",
             "rgb(203, 7, 236)",
             "rgb(48, 214, 9)",
             "rgb(178, 16, 132)",
             "rgb(180, 249, 153)",
             "rgb(101, 127, 96)",
             "rgb(83, 56, 92)",
             "rgb(143, 232, 163)",
             "rgb(220, 62, 85)",
             "rgb(146, 235, 21)"
            ]
           },
           "orientation": "h",
           "textangle": 0,
           "textposition": "outside",
           "texttemplate": "%{y}<br>%{x:.4s}",
           "type": "bar",
           "x": [
            14059,
            14737,
            16256,
            17150,
            18528,
            19234,
            20479,
            21471,
            21763,
            28589
           ],
           "y": [
            "FRÉDÉRIC",
            "STÉPHANE",
            "ERIC",
            "SYLVIE",
            "PHILIPPE",
            "LAURENT",
            "ISABELLE",
            "CHRISTOPHE",
            "VALÉRIE",
            "NATHALIE"
           ]
          }
         ],
         "layout": {
          "bargap": 0.15,
          "font": {
           "size": 14
          },
          "plot_bgcolor": "#FFFFFF",
          "title": {
           "text": "Top 10 prenoms"
          },
          "xaxis": {
           "range": [
            0,
            53596
           ],
           "showline": true,
           "visible": true
          },
          "yaxis": {
           "showline": false,
           "visible": true
          }
         },
         "name": "1968"
        },
        {
         "data": [
          {
           "cliponaxis": false,
           "hoverinfo": "all",
           "hovertemplate": "<extra></extra>",
           "marker": {
            "color": [
             "rgb(48, 214, 9)",
             "rgb(178, 16, 132)",
             "rgb(152, 175, 89)",
             "rgb(180, 249, 153)",
             "rgb(203, 7, 236)",
             "rgb(83, 56, 92)",
             "rgb(101, 127, 96)",
             "rgb(220, 62, 85)",
             "rgb(143, 232, 163)",
             "rgb(146, 235, 21)"
            ]
           },
           "orientation": "h",
           "textangle": 0,
           "textposition": "outside",
           "texttemplate": "%{y}<br>%{x:.4s}",
           "type": "bar",
           "x": [
            14086,
            14465,
            15209,
            16040,
            17699,
            18846,
            19829,
            22558,
            22640,
            28363
           ],
           "y": [
            "ERIC",
            "SYLVIE",
            "SANDRINE",
            "PHILIPPE",
            "STÉPHANE",
            "ISABELLE",
            "LAURENT",
            "VALÉRIE",
            "CHRISTOPHE",
            "NATHALIE"
           ]
          }
         ],
         "layout": {
          "bargap": 0.15,
          "font": {
           "size": 14
          },
          "plot_bgcolor": "#FFFFFF",
          "title": {
           "text": "Top 10 prenoms"
          },
          "xaxis": {
           "range": [
            0,
            53596
           ],
           "showline": true,
           "visible": true
          },
          "yaxis": {
           "showline": false,
           "visible": true
          }
         },
         "name": "1969"
        },
        {
         "data": [
          {
           "cliponaxis": false,
           "hoverinfo": "all",
           "hovertemplate": "<extra></extra>",
           "marker": {
            "color": [
             "rgb(94, 110, 93)",
             "rgb(143, 145, 22)",
             "rgb(83, 56, 92)",
             "rgb(152, 175, 89)",
             "rgb(35, 165, 31)",
             "rgb(220, 62, 85)",
             "rgb(101, 127, 96)",
             "rgb(203, 7, 236)",
             "rgb(143, 232, 163)",
             "rgb(146, 235, 21)"
            ]
           },
           "orientation": "h",
           "textangle": 0,
           "textposition": "outside",
           "texttemplate": "%{y}<br>%{x:.4s}",
           "type": "bar",
           "x": [
            14196,
            14459,
            16543,
            18040,
            18459,
            19392,
            19957,
            21807,
            21852,
            26217
           ],
           "y": [
            "FRÉDÉRIC",
            "OLIVIER",
            "ISABELLE",
            "SANDRINE",
            "DAVID",
            "VALÉRIE",
            "LAURENT",
            "STÉPHANE",
            "CHRISTOPHE",
            "NATHALIE"
           ]
          }
         ],
         "layout": {
          "bargap": 0.15,
          "font": {
           "size": 14
          },
          "plot_bgcolor": "#FFFFFF",
          "title": {
           "text": "Top 10 prenoms"
          },
          "xaxis": {
           "range": [
            0,
            53596
           ],
           "showline": true,
           "visible": true
          },
          "yaxis": {
           "showline": false,
           "visible": true
          }
         },
         "name": "1970"
        },
        {
         "data": [
          {
           "cliponaxis": false,
           "hoverinfo": "all",
           "hovertemplate": "<extra></extra>",
           "marker": {
            "color": [
             "rgb(94, 110, 93)",
             "rgb(143, 145, 22)",
             "rgb(220, 62, 85)",
             "rgb(35, 165, 31)",
             "rgb(83, 56, 92)",
             "rgb(101, 127, 96)",
             "rgb(152, 175, 89)",
             "rgb(143, 232, 163)",
             "rgb(146, 235, 21)",
             "rgb(203, 7, 236)"
            ]
           },
           "orientation": "h",
           "textangle": 0,
           "textposition": "outside",
           "texttemplate": "%{y}<br>%{x:.4s}",
           "type": "bar",
           "x": [
            13967,
            15529,
            16843,
            17265,
            17480,
            19724,
            20848,
            22098,
            22679,
            23350
           ],
           "y": [
            "FRÉDÉRIC",
            "OLIVIER",
            "VALÉRIE",
            "DAVID",
            "ISABELLE",
            "LAURENT",
            "SANDRINE",
            "CHRISTOPHE",
            "NATHALIE",
            "STÉPHANE"
           ]
          }
         ],
         "layout": {
          "bargap": 0.15,
          "font": {
           "size": 14
          },
          "plot_bgcolor": "#FFFFFF",
          "title": {
           "text": "Top 10 prenoms"
          },
          "xaxis": {
           "range": [
            0,
            53596
           ],
           "showline": true,
           "visible": true
          },
          "yaxis": {
           "showline": false,
           "visible": true
          }
         },
         "name": "1971"
        },
        {
         "data": [
          {
           "cliponaxis": false,
           "hoverinfo": "all",
           "hovertemplate": "<extra></extra>",
           "marker": {
            "color": [
             "rgb(94, 110, 93)",
             "rgb(220, 62, 85)",
             "rgb(143, 145, 22)",
             "rgb(101, 127, 96)",
             "rgb(83, 56, 92)",
             "rgb(146, 235, 21)",
             "rgb(35, 165, 31)",
             "rgb(152, 175, 89)",
             "rgb(203, 7, 236)",
             "rgb(143, 232, 163)"
            ]
           },
           "orientation": "h",
           "textangle": 0,
           "textposition": "outside",
           "texttemplate": "%{y}<br>%{x:.4s}",
           "type": "bar",
           "x": [
            13915,
            14567,
            15121,
            16051,
            16500,
            19199,
            19695,
            19885,
            20989,
            21157
           ],
           "y": [
            "FRÉDÉRIC",
            "VALÉRIE",
            "OLIVIER",
            "LAURENT",
            "ISABELLE",
            "NATHALIE",
            "DAVID",
            "SANDRINE",
            "STÉPHANE",
            "CHRISTOPHE"
           ]
          }
         ],
         "layout": {
          "bargap": 0.15,
          "font": {
           "size": 14
          },
          "plot_bgcolor": "#FFFFFF",
          "title": {
           "text": "Top 10 prenoms"
          },
          "xaxis": {
           "range": [
            0,
            53596
           ],
           "showline": true,
           "visible": true
          },
          "yaxis": {
           "showline": false,
           "visible": true
          }
         },
         "name": "1972"
        },
        {
         "data": [
          {
           "cliponaxis": false,
           "hoverinfo": "all",
           "hovertemplate": "<extra></extra>",
           "marker": {
            "color": [
             "rgb(101, 127, 96)",
             "rgb(143, 145, 22)",
             "rgb(83, 56, 92)",
             "rgb(9, 198, 27)",
             "rgb(146, 235, 21)",
             "rgb(152, 175, 89)",
             "rgb(94, 110, 93)",
             "rgb(35, 165, 31)",
             "rgb(203, 7, 236)",
             "rgb(143, 232, 163)"
            ]
           },
           "orientation": "h",
           "textangle": 0,
           "textposition": "outside",
           "texttemplate": "%{y}<br>%{x:.4s}",
           "type": "bar",
           "x": [
            14058,
            14171,
            14488,
            14948,
            16920,
            17607,
            18194,
            19069,
            19205,
            21069
           ],
           "y": [
            "LAURENT",
            "OLIVIER",
            "ISABELLE",
            "SÉBASTIEN",
            "NATHALIE",
            "SANDRINE",
            "FRÉDÉRIC",
            "DAVID",
            "STÉPHANE",
            "CHRISTOPHE"
           ]
          }
         ],
         "layout": {
          "bargap": 0.15,
          "font": {
           "size": 14
          },
          "plot_bgcolor": "#FFFFFF",
          "title": {
           "text": "Top 10 prenoms"
          },
          "xaxis": {
           "range": [
            0,
            53596
           ],
           "showline": true,
           "visible": true
          },
          "yaxis": {
           "showline": false,
           "visible": true
          }
         },
         "name": "1973"
        },
        {
         "data": [
          {
           "cliponaxis": false,
           "hoverinfo": "all",
           "hovertemplate": "<extra></extra>",
           "marker": {
            "color": [
             "rgb(143, 145, 22)",
             "rgb(179, 51, 40)",
             "rgb(146, 235, 21)",
             "rgb(152, 175, 89)",
             "rgb(9, 198, 27)",
             "rgb(94, 110, 93)",
             "rgb(143, 232, 163)",
             "rgb(35, 165, 31)",
             "rgb(203, 7, 236)",
             "rgb(41, 247, 14)"
            ]
           },
           "orientation": "h",
           "textangle": 0,
           "textposition": "outside",
           "texttemplate": "%{y}<br>%{x:.4s}",
           "type": "bar",
           "x": [
            12149,
            13070,
            13944,
            15702,
            16224,
            16581,
            17310,
            17885,
            18526,
            23522
           ],
           "y": [
            "OLIVIER",
            "JEROME",
            "NATHALIE",
            "SANDRINE",
            "SÉBASTIEN",
            "FRÉDÉRIC",
            "CHRISTOPHE",
            "DAVID",
            "STÉPHANE",
            "STÉPHANIE"
           ]
          }
         ],
         "layout": {
          "bargap": 0.15,
          "font": {
           "size": 14
          },
          "plot_bgcolor": "#FFFFFF",
          "title": {
           "text": "Top 10 prenoms"
          },
          "xaxis": {
           "range": [
            0,
            53596
           ],
           "showline": true,
           "visible": true
          },
          "yaxis": {
           "showline": false,
           "visible": true
          }
         },
         "name": "1974"
        },
        {
         "data": [
          {
           "cliponaxis": false,
           "hoverinfo": "all",
           "hovertemplate": "<extra></extra>",
           "marker": {
            "color": [
             "rgb(101, 127, 96)",
             "rgb(146, 235, 21)",
             "rgb(179, 51, 40)",
             "rgb(152, 175, 89)",
             "rgb(143, 232, 163)",
             "rgb(203, 7, 236)",
             "rgb(35, 165, 31)",
             "rgb(94, 110, 93)",
             "rgb(9, 198, 27)",
             "rgb(41, 247, 14)"
            ]
           },
           "orientation": "h",
           "textangle": 0,
           "textposition": "outside",
           "texttemplate": "%{y}<br>%{x:.4s}",
           "type": "bar",
           "x": [
            10672,
            10955,
            11447,
            13935,
            14449,
            15361,
            15501,
            15972,
            16770,
            19596
           ],
           "y": [
            "LAURENT",
            "NATHALIE",
            "JEROME",
            "SANDRINE",
            "CHRISTOPHE",
            "STÉPHANE",
            "DAVID",
            "FRÉDÉRIC",
            "SÉBASTIEN",
            "STÉPHANIE"
           ]
          }
         ],
         "layout": {
          "bargap": 0.15,
          "font": {
           "size": 14
          },
          "plot_bgcolor": "#FFFFFF",
          "title": {
           "text": "Top 10 prenoms"
          },
          "xaxis": {
           "range": [
            0,
            53596
           ],
           "showline": true,
           "visible": true
          },
          "yaxis": {
           "showline": false,
           "visible": true
          }
         },
         "name": "1975"
        },
        {
         "data": [
          {
           "cliponaxis": false,
           "hoverinfo": "all",
           "hovertemplate": "<extra></extra>",
           "marker": {
            "color": [
             "rgb(146, 235, 21)",
             "rgb(164, 243, 62)",
             "rgb(199, 3, 228)",
             "rgb(152, 175, 89)",
             "rgb(203, 7, 236)",
             "rgb(143, 232, 163)",
             "rgb(94, 110, 93)",
             "rgb(35, 165, 31)",
             "rgb(41, 247, 14)",
             "rgb(9, 198, 27)"
            ]
           },
           "orientation": "h",
           "textangle": 0,
           "textposition": "outside",
           "texttemplate": "%{y}<br>%{x:.4s}",
           "type": "bar",
           "x": [
            9342,
            10238,
            10625,
            12084,
            12484,
            13106,
            14352,
            14684,
            16695,
            19287
           ],
           "y": [
            "NATHALIE",
            "NICOLAS",
            "CÉLINE",
            "SANDRINE",
            "STÉPHANE",
            "CHRISTOPHE",
            "FRÉDÉRIC",
            "DAVID",
            "STÉPHANIE",
            "SÉBASTIEN"
           ]
          }
         ],
         "layout": {
          "bargap": 0.15,
          "font": {
           "size": 14
          },
          "plot_bgcolor": "#FFFFFF",
          "title": {
           "text": "Top 10 prenoms"
          },
          "xaxis": {
           "range": [
            0,
            53596
           ],
           "showline": true,
           "visible": true
          },
          "yaxis": {
           "showline": false,
           "visible": true
          }
         },
         "name": "1976"
        },
        {
         "data": [
          {
           "cliponaxis": false,
           "hoverinfo": "all",
           "hovertemplate": "<extra></extra>",
           "marker": {
            "color": [
             "rgb(179, 51, 40)",
             "rgb(152, 175, 89)",
             "rgb(203, 7, 236)",
             "rgb(143, 232, 163)",
             "rgb(199, 3, 228)",
             "rgb(94, 110, 93)",
             "rgb(35, 165, 31)",
             "rgb(41, 247, 14)",
             "rgb(164, 243, 62)",
             "rgb(9, 198, 27)"
            ]
           },
           "orientation": "h",
           "textangle": 0,
           "textposition": "outside",
           "texttemplate": "%{y}<br>%{x:.4s}",
           "type": "bar",
           "x": [
            9649,
            11061,
            11096,
            11865,
            12017,
            12081,
            13575,
            15054,
            15229,
            19467
           ],
           "y": [
            "JEROME",
            "SANDRINE",
            "STÉPHANE",
            "CHRISTOPHE",
            "CÉLINE",
            "FRÉDÉRIC",
            "DAVID",
            "STÉPHANIE",
            "NICOLAS",
            "SÉBASTIEN"
           ]
          }
         ],
         "layout": {
          "bargap": 0.15,
          "font": {
           "size": 14
          },
          "plot_bgcolor": "#FFFFFF",
          "title": {
           "text": "Top 10 prenoms"
          },
          "xaxis": {
           "range": [
            0,
            53596
           ],
           "showline": true,
           "visible": true
          },
          "yaxis": {
           "showline": false,
           "visible": true
          }
         },
         "name": "1977"
        },
        {
         "data": [
          {
           "cliponaxis": false,
           "hoverinfo": "all",
           "hovertemplate": "<extra></extra>",
           "marker": {
            "color": [
             "rgb(179, 51, 40)",
             "rgb(172, 89, 126)",
             "rgb(181, 178, 124)",
             "rgb(143, 232, 163)",
             "rgb(94, 110, 93)",
             "rgb(41, 247, 14)",
             "rgb(199, 3, 228)",
             "rgb(35, 165, 31)",
             "rgb(164, 243, 62)",
             "rgb(9, 198, 27)"
            ]
           },
           "orientation": "h",
           "textangle": 0,
           "textposition": "outside",
           "texttemplate": "%{y}<br>%{x:.4s}",
           "type": "bar",
           "x": [
            9212,
            9313,
            9479,
            10362,
            10373,
            12080,
            12131,
            12235,
            13537,
            19101
           ],
           "y": [
            "JEROME",
            "CEDRIC",
            "VIRGINIE",
            "CHRISTOPHE",
            "FRÉDÉRIC",
            "STÉPHANIE",
            "CÉLINE",
            "DAVID",
            "NICOLAS",
            "SÉBASTIEN"
           ]
          }
         ],
         "layout": {
          "bargap": 0.15,
          "font": {
           "size": 14
          },
          "plot_bgcolor": "#FFFFFF",
          "title": {
           "text": "Top 10 prenoms"
          },
          "xaxis": {
           "range": [
            0,
            53596
           ],
           "showline": true,
           "visible": true
          },
          "yaxis": {
           "showline": false,
           "visible": true
          }
         },
         "name": "1978"
        },
        {
         "data": [
          {
           "cliponaxis": false,
           "hoverinfo": "all",
           "hovertemplate": "<extra></extra>",
           "marker": {
            "color": [
             "rgb(181, 178, 124)",
             "rgb(172, 89, 126)",
             "rgb(94, 110, 93)",
             "rgb(143, 232, 163)",
             "rgb(41, 247, 14)",
             "rgb(35, 165, 31)",
             "rgb(30, 90, 214)",
             "rgb(164, 243, 62)",
             "rgb(199, 3, 228)",
             "rgb(9, 198, 27)"
            ]
           },
           "orientation": "h",
           "textangle": 0,
           "textposition": "outside",
           "texttemplate": "%{y}<br>%{x:.4s}",
           "type": "bar",
           "x": [
            8827,
            9052,
            9522,
            9629,
            10604,
            11084,
            11145,
            13171,
            13705,
            17501
           ],
           "y": [
            "VIRGINIE",
            "CEDRIC",
            "FRÉDÉRIC",
            "CHRISTOPHE",
            "STÉPHANIE",
            "DAVID",
            "JULIEN",
            "NICOLAS",
            "CÉLINE",
            "SÉBASTIEN"
           ]
          }
         ],
         "layout": {
          "bargap": 0.15,
          "font": {
           "size": 14
          },
          "plot_bgcolor": "#FFFFFF",
          "title": {
           "text": "Top 10 prenoms"
          },
          "xaxis": {
           "range": [
            0,
            53596
           ],
           "showline": true,
           "visible": true
          },
          "yaxis": {
           "showline": false,
           "visible": true
          }
         },
         "name": "1979"
        },
        {
         "data": [
          {
           "cliponaxis": false,
           "hoverinfo": "all",
           "hovertemplate": "<extra></extra>",
           "marker": {
            "color": [
             "rgb(41, 247, 14)",
             "rgb(143, 232, 163)",
             "rgb(181, 178, 124)",
             "rgb(35, 165, 31)",
             "rgb(245, 80, 65)",
             "rgb(106, 100, 5)",
             "rgb(199, 3, 228)",
             "rgb(30, 90, 214)",
             "rgb(9, 198, 27)",
             "rgb(164, 243, 62)"
            ]
           },
           "orientation": "h",
           "textangle": 0,
           "textposition": "outside",
           "texttemplate": "%{y}<br>%{x:.4s}",
           "type": "bar",
           "x": [
            9319,
            9479,
            9948,
            10194,
            11196,
            11586,
            12852,
            13895,
            16477,
            21805
           ],
           "y": [
            "STÉPHANIE",
            "CHRISTOPHE",
            "VIRGINIE",
            "DAVID",
            "AURÉLIE",
            "EMILIE",
            "CÉLINE",
            "JULIEN",
            "SÉBASTIEN",
            "NICOLAS"
           ]
          }
         ],
         "layout": {
          "bargap": 0.15,
          "font": {
           "size": 14
          },
          "plot_bgcolor": "#FFFFFF",
          "title": {
           "text": "Top 10 prenoms"
          },
          "xaxis": {
           "range": [
            0,
            53596
           ],
           "showline": true,
           "visible": true
          },
          "yaxis": {
           "showline": false,
           "visible": true
          }
         },
         "name": "1980"
        },
        {
         "data": [
          {
           "cliponaxis": false,
           "hoverinfo": "all",
           "hovertemplate": "<extra></extra>",
           "marker": {
            "color": [
             "rgb(41, 247, 14)",
             "rgb(55, 191, 111)",
             "rgb(181, 178, 124)",
             "rgb(35, 165, 31)",
             "rgb(106, 100, 5)",
             "rgb(245, 80, 65)",
             "rgb(199, 3, 228)",
             "rgb(9, 198, 27)",
             "rgb(30, 90, 214)",
             "rgb(164, 243, 62)"
            ]
           },
           "orientation": "h",
           "textangle": 0,
           "textposition": "outside",
           "texttemplate": "%{y}<br>%{x:.4s}",
           "type": "bar",
           "x": [
            8525,
            8839,
            8891,
            9777,
            10808,
            12363,
            12504,
            14653,
            15059,
            20826
           ],
           "y": [
            "STÉPHANIE",
            "GUILLAUME",
            "VIRGINIE",
            "DAVID",
            "EMILIE",
            "AURÉLIE",
            "CÉLINE",
            "SÉBASTIEN",
            "JULIEN",
            "NICOLAS"
           ]
          }
         ],
         "layout": {
          "bargap": 0.15,
          "font": {
           "size": 14
          },
          "plot_bgcolor": "#FFFFFF",
          "title": {
           "text": "Top 10 prenoms"
          },
          "xaxis": {
           "range": [
            0,
            53596
           ],
           "showline": true,
           "visible": true
          },
          "yaxis": {
           "showline": false,
           "visible": true
          }
         },
         "name": "1981"
        },
        {
         "data": [
          {
           "cliponaxis": false,
           "hoverinfo": "all",
           "hovertemplate": "<extra></extra>",
           "marker": {
            "color": [
             "rgb(41, 247, 14)",
             "rgb(55, 191, 111)",
             "rgb(130, 160, 122)",
             "rgb(35, 165, 31)",
             "rgb(106, 100, 5)",
             "rgb(199, 3, 228)",
             "rgb(9, 198, 27)",
             "rgb(245, 80, 65)",
             "rgb(30, 90, 214)",
             "rgb(164, 243, 62)"
            ]
           },
           "orientation": "h",
           "textangle": 0,
           "textposition": "outside",
           "texttemplate": "%{y}<br>%{x:.4s}",
           "type": "bar",
           "x": [
            8035,
            8256,
            8385,
            9262,
            10356,
            11213,
            13549,
            13677,
            16446,
            17800
           ],
           "y": [
            "STÉPHANIE",
            "GUILLAUME",
            "LAETITIA",
            "DAVID",
            "EMILIE",
            "CÉLINE",
            "SÉBASTIEN",
            "AURÉLIE",
            "JULIEN",
            "NICOLAS"
           ]
          }
         ],
         "layout": {
          "bargap": 0.15,
          "font": {
           "size": 14
          },
          "plot_bgcolor": "#FFFFFF",
          "title": {
           "text": "Top 10 prenoms"
          },
          "xaxis": {
           "range": [
            0,
            53596
           ],
           "showline": true,
           "visible": true
          },
          "yaxis": {
           "showline": false,
           "visible": true
          }
         },
         "name": "1982"
        },
        {
         "data": [
          {
           "cliponaxis": false,
           "hoverinfo": "all",
           "hovertemplate": "<extra></extra>",
           "marker": {
            "color": [
             "rgb(41, 247, 14)",
             "rgb(96, 149, 84)",
             "rgb(219, 238, 134)",
             "rgb(199, 3, 228)",
             "rgb(55, 191, 111)",
             "rgb(106, 100, 5)",
             "rgb(9, 198, 27)",
             "rgb(245, 80, 65)",
             "rgb(164, 243, 62)",
             "rgb(30, 90, 214)"
            ]
           },
           "orientation": "h",
           "textangle": 0,
           "textposition": "outside",
           "texttemplate": "%{y}<br>%{x:.4s}",
           "type": "bar",
           "x": [
            7997,
            8119,
            8318,
            9221,
            9246,
            10331,
            11550,
            13927,
            14541,
            16335
           ],
           "y": [
            "STÉPHANIE",
            "ELODIE",
            "JULIE",
            "CÉLINE",
            "GUILLAUME",
            "EMILIE",
            "SÉBASTIEN",
            "AURÉLIE",
            "NICOLAS",
            "JULIEN"
           ]
          }
         ],
         "layout": {
          "bargap": 0.15,
          "font": {
           "size": 14
          },
          "plot_bgcolor": "#FFFFFF",
          "title": {
           "text": "Top 10 prenoms"
          },
          "xaxis": {
           "range": [
            0,
            53596
           ],
           "showline": true,
           "visible": true
          },
          "yaxis": {
           "showline": false,
           "visible": true
          }
         },
         "name": "1983"
        },
        {
         "data": [
          {
           "cliponaxis": false,
           "hoverinfo": "all",
           "hovertemplate": "<extra></extra>",
           "marker": {
            "color": [
             "rgb(183, 128, 200)",
             "rgb(219, 238, 134)",
             "rgb(96, 149, 84)",
             "rgb(199, 3, 228)",
             "rgb(55, 191, 111)",
             "rgb(106, 100, 5)",
             "rgb(9, 198, 27)",
             "rgb(245, 80, 65)",
             "rgb(164, 243, 62)",
             "rgb(30, 90, 214)"
            ]
           },
           "orientation": "h",
           "textangle": 0,
           "textposition": "outside",
           "texttemplate": "%{y}<br>%{x:.4s}",
           "type": "bar",
           "x": [
            8290,
            8449,
            8840,
            8998,
            9381,
            9717,
            10399,
            12889,
            13584,
            15229
           ],
           "y": [
            "AUDREY",
            "JULIE",
            "ELODIE",
            "CÉLINE",
            "GUILLAUME",
            "EMILIE",
            "SÉBASTIEN",
            "AURÉLIE",
            "NICOLAS",
            "JULIEN"
           ]
          }
         ],
         "layout": {
          "bargap": 0.15,
          "font": {
           "size": 14
          },
          "plot_bgcolor": "#FFFFFF",
          "title": {
           "text": "Top 10 prenoms"
          },
          "xaxis": {
           "range": [
            0,
            53596
           ],
           "showline": true,
           "visible": true
          },
          "yaxis": {
           "showline": false,
           "visible": true
          }
         },
         "name": "1984"
        },
        {
         "data": [
          {
           "cliponaxis": false,
           "hoverinfo": "all",
           "hovertemplate": "<extra></extra>",
           "marker": {
            "color": [
             "rgb(173, 217, 47)",
             "rgb(68, 117, 18)",
             "rgb(180, 23, 22)",
             "rgb(55, 191, 111)",
             "rgb(219, 238, 134)",
             "rgb(9, 198, 27)",
             "rgb(106, 100, 5)",
             "rgb(245, 80, 65)",
             "rgb(164, 243, 62)",
             "rgb(30, 90, 214)"
            ]
           },
           "orientation": "h",
           "textangle": 0,
           "textposition": "outside",
           "texttemplate": "%{y}<br>%{x:.4s}",
           "type": "bar",
           "x": [
            7871,
            8059,
            8542,
            8572,
            8734,
            8857,
            11382,
            12573,
            13842,
            17027
           ],
           "y": [
            "MARIE",
            "ANTHONY",
            "JONATHAN",
            "GUILLAUME",
            "JULIE",
            "SÉBASTIEN",
            "EMILIE",
            "AURÉLIE",
            "NICOLAS",
            "JULIEN"
           ]
          }
         ],
         "layout": {
          "bargap": 0.15,
          "font": {
           "size": 14
          },
          "plot_bgcolor": "#FFFFFF",
          "title": {
           "text": "Top 10 prenoms"
          },
          "xaxis": {
           "range": [
            0,
            53596
           ],
           "showline": true,
           "visible": true
          },
          "yaxis": {
           "showline": false,
           "visible": true
          }
         },
         "name": "1985"
        },
        {
         "data": [
          {
           "cliponaxis": false,
           "hoverinfo": "all",
           "hovertemplate": "<extra></extra>",
           "marker": {
            "color": [
             "rgb(9, 198, 27)",
             "rgb(41, 247, 14)",
             "rgb(96, 149, 84)",
             "rgb(11, 188, 241)",
             "rgb(219, 238, 134)",
             "rgb(55, 191, 111)",
             "rgb(106, 100, 5)",
             "rgb(245, 80, 65)",
             "rgb(164, 243, 62)",
             "rgb(30, 90, 214)"
            ]
           },
           "orientation": "h",
           "textangle": 0,
           "textposition": "outside",
           "texttemplate": "%{y}<br>%{x:.4s}",
           "type": "bar",
           "x": [
            8154,
            8428,
            8513,
            8741,
            8968,
            9086,
            9303,
            11317,
            12505,
            15330
           ],
           "y": [
            "SÉBASTIEN",
            "STÉPHANIE",
            "ELODIE",
            "ALEXANDRE",
            "JULIE",
            "GUILLAUME",
            "EMILIE",
            "AURÉLIE",
            "NICOLAS",
            "JULIEN"
           ]
          }
         ],
         "layout": {
          "bargap": 0.15,
          "font": {
           "size": 14
          },
          "plot_bgcolor": "#FFFFFF",
          "title": {
           "text": "Top 10 prenoms"
          },
          "xaxis": {
           "range": [
            0,
            53596
           ],
           "showline": true,
           "visible": true
          },
          "yaxis": {
           "showline": false,
           "visible": true
          }
         },
         "name": "1986"
        },
        {
         "data": [
          {
           "cliponaxis": false,
           "hoverinfo": "all",
           "hovertemplate": "<extra></extra>",
           "marker": {
            "color": [
             "rgb(55, 191, 111)",
             "rgb(114, 30, 237)",
             "rgb(68, 117, 18)",
             "rgb(11, 188, 241)",
             "rgb(96, 149, 84)",
             "rgb(177, 249, 189)",
             "rgb(245, 80, 65)",
             "rgb(219, 238, 134)",
             "rgb(164, 243, 62)",
             "rgb(30, 90, 214)"
            ]
           },
           "orientation": "h",
           "textangle": 0,
           "textposition": "outside",
           "texttemplate": "%{y}<br>%{x:.4s}",
           "type": "bar",
           "x": [
            7994,
            8052,
            8065,
            8220,
            8953,
            9627,
            9890,
            9937,
            10911,
            13418
           ],
           "y": [
            "GUILLAUME",
            "JEREMY",
            "ANTHONY",
            "ALEXANDRE",
            "ELODIE",
            "ROMAIN",
            "AURÉLIE",
            "JULIE",
            "NICOLAS",
            "JULIEN"
           ]
          }
         ],
         "layout": {
          "bargap": 0.15,
          "font": {
           "size": 14
          },
          "plot_bgcolor": "#FFFFFF",
          "title": {
           "text": "Top 10 prenoms"
          },
          "xaxis": {
           "range": [
            0,
            53596
           ],
           "showline": true,
           "visible": true
          },
          "yaxis": {
           "showline": false,
           "visible": true
          }
         },
         "name": "1987"
        },
        {
         "data": [
          {
           "cliponaxis": false,
           "hoverinfo": "all",
           "hovertemplate": "<extra></extra>",
           "marker": {
            "color": [
             "rgb(234, 190, 241)",
             "rgb(11, 188, 241)",
             "rgb(114, 117, 176)",
             "rgb(219, 238, 134)",
             "rgb(68, 117, 18)",
             "rgb(120, 127, 210)",
             "rgb(177, 249, 189)",
             "rgb(164, 243, 62)",
             "rgb(96, 149, 84)",
             "rgb(30, 90, 214)"
            ]
           },
           "orientation": "h",
           "textangle": 0,
           "textposition": "outside",
           "texttemplate": "%{y}<br>%{x:.4s}",
           "type": "bar",
           "x": [
            8217,
            8254,
            8377,
            8682,
            9085,
            9244,
            9398,
            10749,
            11823,
            12452
           ],
           "y": [
            "THOMAS",
            "ALEXANDRE",
            "KEVIN",
            "JULIE",
            "ANTHONY",
            "LAURA",
            "ROMAIN",
            "NICOLAS",
            "ELODIE",
            "JULIEN"
           ]
          }
         ],
         "layout": {
          "bargap": 0.15,
          "font": {
           "size": 14
          },
          "plot_bgcolor": "#FFFFFF",
          "title": {
           "text": "Top 10 prenoms"
          },
          "xaxis": {
           "range": [
            0,
            53596
           ],
           "showline": true,
           "visible": true
          },
          "yaxis": {
           "showline": false,
           "visible": true
          }
         },
         "name": "1988"
        },
        {
         "data": [
          {
           "cliponaxis": false,
           "hoverinfo": "all",
           "hovertemplate": "<extra></extra>",
           "marker": {
            "color": [
             "rgb(219, 238, 134)",
             "rgb(120, 127, 210)",
             "rgb(234, 190, 241)",
             "rgb(68, 117, 18)",
             "rgb(11, 188, 241)",
             "rgb(177, 249, 189)",
             "rgb(164, 243, 62)",
             "rgb(96, 149, 84)",
             "rgb(30, 90, 214)",
             "rgb(114, 117, 176)"
            ]
           },
           "orientation": "h",
           "textangle": 0,
           "textposition": "outside",
           "texttemplate": "%{y}<br>%{x:.4s}",
           "type": "bar",
           "x": [
            8009,
            8075,
            8100,
            8283,
            8326,
            9086,
            9546,
            10480,
            10733,
            11353
           ],
           "y": [
            "JULIE",
            "LAURA",
            "THOMAS",
            "ANTHONY",
            "ALEXANDRE",
            "ROMAIN",
            "NICOLAS",
            "ELODIE",
            "JULIEN",
            "KEVIN"
           ]
          }
         ],
         "layout": {
          "bargap": 0.15,
          "font": {
           "size": 14
          },
          "plot_bgcolor": "#FFFFFF",
          "title": {
           "text": "Top 10 prenoms"
          },
          "xaxis": {
           "range": [
            0,
            53596
           ],
           "showline": true,
           "visible": true
          },
          "yaxis": {
           "showline": false,
           "visible": true
          }
         },
         "name": "1989"
        },
        {
         "data": [
          {
           "cliponaxis": false,
           "hoverinfo": "all",
           "hovertemplate": "<extra></extra>",
           "marker": {
            "color": [
             "rgb(177, 249, 189)",
             "rgb(120, 127, 210)",
             "rgb(31, 35, 95)",
             "rgb(68, 117, 18)",
             "rgb(11, 188, 241)",
             "rgb(96, 149, 84)",
             "rgb(164, 243, 62)",
             "rgb(30, 90, 214)",
             "rgb(234, 190, 241)",
             "rgb(114, 117, 176)"
            ]
           },
           "orientation": "h",
           "textangle": 0,
           "textposition": "outside",
           "texttemplate": "%{y}<br>%{x:.4s}",
           "type": "bar",
           "x": [
            7530,
            7922,
            7978,
            8090,
            8370,
            8619,
            9152,
            9415,
            9815,
            11416
           ],
           "y": [
            "ROMAIN",
            "LAURA",
            "MAXIME",
            "ANTHONY",
            "ALEXANDRE",
            "ELODIE",
            "NICOLAS",
            "JULIEN",
            "THOMAS",
            "KEVIN"
           ]
          }
         ],
         "layout": {
          "bargap": 0.15,
          "font": {
           "size": 14
          },
          "plot_bgcolor": "#FFFFFF",
          "title": {
           "text": "Top 10 prenoms"
          },
          "xaxis": {
           "range": [
            0,
            53596
           ],
           "showline": true,
           "visible": true
          },
          "yaxis": {
           "showline": false,
           "visible": true
          }
         },
         "name": "1990"
        },
        {
         "data": [
          {
           "cliponaxis": false,
           "hoverinfo": "all",
           "hovertemplate": "<extra></extra>",
           "marker": {
            "color": [
             "rgb(177, 249, 189)",
             "rgb(68, 117, 18)",
             "rgb(96, 149, 84)",
             "rgb(31, 35, 95)",
             "rgb(4, 98, 255)",
             "rgb(164, 243, 62)",
             "rgb(30, 90, 214)",
             "rgb(11, 188, 241)",
             "rgb(234, 190, 241)",
             "rgb(114, 117, 176)"
            ]
           },
           "orientation": "h",
           "textangle": 0,
           "textposition": "outside",
           "texttemplate": "%{y}<br>%{x:.4s}",
           "type": "bar",
           "x": [
            7572,
            7734,
            7912,
            8063,
            8203,
            8582,
            8799,
            8880,
            9796,
            13330
           ],
           "y": [
            "ROMAIN",
            "ANTHONY",
            "ELODIE",
            "MAXIME",
            "MARINE",
            "NICOLAS",
            "JULIEN",
            "ALEXANDRE",
            "THOMAS",
            "KEVIN"
           ]
          }
         ],
         "layout": {
          "bargap": 0.15,
          "font": {
           "size": 14
          },
          "plot_bgcolor": "#FFFFFF",
          "title": {
           "text": "Top 10 prenoms"
          },
          "xaxis": {
           "range": [
            0,
            53596
           ],
           "showline": true,
           "visible": true
          },
          "yaxis": {
           "showline": false,
           "visible": true
          }
         },
         "name": "1991"
        },
        {
         "data": [
          {
           "cliponaxis": false,
           "hoverinfo": "all",
           "hovertemplate": "<extra></extra>",
           "marker": {
            "color": [
             "rgb(68, 117, 18)",
             "rgb(173, 217, 47)",
             "rgb(4, 98, 255)",
             "rgb(120, 127, 210)",
             "rgb(30, 90, 214)",
             "rgb(164, 243, 62)",
             "rgb(11, 188, 241)",
             "rgb(31, 35, 95)",
             "rgb(234, 190, 241)",
             "rgb(114, 117, 176)"
            ]
           },
           "orientation": "h",
           "textangle": 0,
           "textposition": "outside",
           "texttemplate": "%{y}<br>%{x:.4s}",
           "type": "bar",
           "x": [
            7192,
            7289,
            7384,
            7492,
            7773,
            8341,
            8779,
            8932,
            9780,
            12648
           ],
           "y": [
            "ANTHONY",
            "MARIE",
            "MARINE",
            "LAURA",
            "JULIEN",
            "NICOLAS",
            "ALEXANDRE",
            "MAXIME",
            "THOMAS",
            "KEVIN"
           ]
          }
         ],
         "layout": {
          "bargap": 0.15,
          "font": {
           "size": 14
          },
          "plot_bgcolor": "#FFFFFF",
          "title": {
           "text": "Top 10 prenoms"
          },
          "xaxis": {
           "range": [
            0,
            53596
           ],
           "showline": true,
           "visible": true
          },
          "yaxis": {
           "showline": false,
           "visible": true
          }
         },
         "name": "1992"
        },
        {
         "data": [
          {
           "cliponaxis": false,
           "hoverinfo": "all",
           "hovertemplate": "<extra></extra>",
           "marker": {
            "color": [
             "rgb(173, 217, 47)",
             "rgb(4, 98, 255)",
             "rgb(223, 10, 138)",
             "rgb(30, 90, 214)",
             "rgb(120, 127, 210)",
             "rgb(31, 35, 95)",
             "rgb(164, 243, 62)",
             "rgb(11, 188, 241)",
             "rgb(234, 190, 241)",
             "rgb(114, 117, 176)"
            ]
           },
           "orientation": "h",
           "textangle": 0,
           "textposition": "outside",
           "texttemplate": "%{y}<br>%{x:.4s}",
           "type": "bar",
           "x": [
            6826,
            6970,
            6998,
            7248,
            7560,
            8231,
            8685,
            8956,
            8981,
            11225
           ],
           "y": [
            "MARIE",
            "MARINE",
            "CAMILLE",
            "JULIEN",
            "LAURA",
            "MAXIME",
            "NICOLAS",
            "ALEXANDRE",
            "THOMAS",
            "KEVIN"
           ]
          }
         ],
         "layout": {
          "bargap": 0.15,
          "font": {
           "size": 14
          },
          "plot_bgcolor": "#FFFFFF",
          "title": {
           "text": "Top 10 prenoms"
          },
          "xaxis": {
           "range": [
            0,
            53596
           ],
           "showline": true,
           "visible": true
          },
          "yaxis": {
           "showline": false,
           "visible": true
          }
         },
         "name": "1993"
        },
        {
         "data": [
          {
           "cliponaxis": false,
           "hoverinfo": "all",
           "hovertemplate": "<extra></extra>",
           "marker": {
            "color": [
             "rgb(30, 90, 214)",
             "rgb(173, 217, 47)",
             "rgb(216, 128, 109)",
             "rgb(223, 10, 138)",
             "rgb(31, 35, 95)",
             "rgb(120, 127, 210)",
             "rgb(234, 190, 241)",
             "rgb(11, 188, 241)",
             "rgb(164, 243, 62)",
             "rgb(114, 117, 176)"
            ]
           },
           "orientation": "h",
           "textangle": 0,
           "textposition": "outside",
           "texttemplate": "%{y}<br>%{x:.4s}",
           "type": "bar",
           "x": [
            6856,
            7223,
            7483,
            7490,
            7639,
            7929,
            8142,
            8831,
            9247,
            9865
           ],
           "y": [
            "JULIEN",
            "MARIE",
            "MANON",
            "CAMILLE",
            "MAXIME",
            "LAURA",
            "THOMAS",
            "ALEXANDRE",
            "NICOLAS",
            "KEVIN"
           ]
          }
         ],
         "layout": {
          "bargap": 0.15,
          "font": {
           "size": 14
          },
          "plot_bgcolor": "#FFFFFF",
          "title": {
           "text": "Top 10 prenoms"
          },
          "xaxis": {
           "range": [
            0,
            53596
           ],
           "showline": true,
           "visible": true
          },
          "yaxis": {
           "showline": false,
           "visible": true
          }
         },
         "name": "1994"
        },
        {
         "data": [
          {
           "cliponaxis": false,
           "hoverinfo": "all",
           "hovertemplate": "<extra></extra>",
           "marker": {
            "color": [
             "rgb(123, 182, 102)",
             "rgb(120, 127, 210)",
             "rgb(114, 117, 176)",
             "rgb(173, 217, 47)",
             "rgb(31, 35, 95)",
             "rgb(223, 10, 138)",
             "rgb(216, 128, 109)",
             "rgb(234, 190, 241)",
             "rgb(11, 188, 241)",
             "rgb(164, 243, 62)"
            ]
           },
           "orientation": "h",
           "textangle": 0,
           "textposition": "outside",
           "texttemplate": "%{y}<br>%{x:.4s}",
           "type": "bar",
           "x": [
            6973,
            7584,
            7609,
            7630,
            7703,
            7781,
            8243,
            8861,
            9012,
            9139
           ],
           "y": [
            "QUENTIN",
            "LAURA",
            "KEVIN",
            "MARIE",
            "MAXIME",
            "CAMILLE",
            "MANON",
            "THOMAS",
            "ALEXANDRE",
            "NICOLAS"
           ]
          }
         ],
         "layout": {
          "bargap": 0.15,
          "font": {
           "size": 14
          },
          "plot_bgcolor": "#FFFFFF",
          "title": {
           "text": "Top 10 prenoms"
          },
          "xaxis": {
           "range": [
            0,
            53596
           ],
           "showline": true,
           "visible": true
          },
          "yaxis": {
           "showline": false,
           "visible": true
          }
         },
         "name": "1995"
        },
        {
         "data": [
          {
           "cliponaxis": false,
           "hoverinfo": "all",
           "hovertemplate": "<extra></extra>",
           "marker": {
            "color": [
             "rgb(123, 182, 102)",
             "rgb(77, 243, 59)",
             "rgb(120, 127, 210)",
             "rgb(173, 217, 47)",
             "rgb(216, 128, 109)",
             "rgb(223, 10, 138)",
             "rgb(31, 35, 95)",
             "rgb(164, 243, 62)",
             "rgb(11, 188, 241)",
             "rgb(234, 190, 241)"
            ]
           },
           "orientation": "h",
           "textangle": 0,
           "textposition": "outside",
           "texttemplate": "%{y}<br>%{x:.4s}",
           "type": "bar",
           "x": [
            6767,
            6915,
            7424,
            7429,
            7617,
            7673,
            7767,
            8846,
            8866,
            9391
           ],
           "y": [
            "QUENTIN",
            "DYLAN",
            "LAURA",
            "MARIE",
            "MANON",
            "CAMILLE",
            "MAXIME",
            "NICOLAS",
            "ALEXANDRE",
            "THOMAS"
           ]
          }
         ],
         "layout": {
          "bargap": 0.15,
          "font": {
           "size": 14
          },
          "plot_bgcolor": "#FFFFFF",
          "title": {
           "text": "Top 10 prenoms"
          },
          "xaxis": {
           "range": [
            0,
            53596
           ],
           "showline": true,
           "visible": true
          },
          "yaxis": {
           "showline": false,
           "visible": true
          }
         },
         "name": "1996"
        },
        {
         "data": [
          {
           "cliponaxis": false,
           "hoverinfo": "all",
           "hovertemplate": "<extra></extra>",
           "marker": {
            "color": [
             "rgb(245, 181, 220)",
             "rgb(173, 217, 47)",
             "rgb(123, 182, 102)",
             "rgb(216, 128, 109)",
             "rgb(223, 10, 138)",
             "rgb(36, 105, 237)",
             "rgb(31, 35, 95)",
             "rgb(164, 243, 62)",
             "rgb(11, 188, 241)",
             "rgb(234, 190, 241)"
            ]
           },
           "orientation": "h",
           "textangle": 0,
           "textposition": "outside",
           "texttemplate": "%{y}<br>%{x:.4s}",
           "type": "bar",
           "x": [
            6516,
            6783,
            7193,
            7386,
            7478,
            7505,
            7505,
            7746,
            8193,
            9590
           ],
           "y": [
            "CHLOÉ",
            "MARIE",
            "QUENTIN",
            "MANON",
            "CAMILLE",
            "LÉA",
            "MAXIME",
            "NICOLAS",
            "ALEXANDRE",
            "THOMAS"
           ]
          }
         ],
         "layout": {
          "bargap": 0.15,
          "font": {
           "size": 14
          },
          "plot_bgcolor": "#FFFFFF",
          "title": {
           "text": "Top 10 prenoms"
          },
          "xaxis": {
           "range": [
            0,
            53596
           ],
           "showline": true,
           "visible": true
          },
          "yaxis": {
           "showline": false,
           "visible": true
          }
         },
         "name": "1997"
        },
        {
         "data": [
          {
           "cliponaxis": false,
           "hoverinfo": "all",
           "hovertemplate": "<extra></extra>",
           "marker": {
            "color": [
             "rgb(173, 217, 47)",
             "rgb(175, 243, 194)",
             "rgb(164, 243, 62)",
             "rgb(31, 35, 95)",
             "rgb(123, 182, 102)",
             "rgb(11, 188, 241)",
             "rgb(216, 128, 109)",
             "rgb(223, 10, 138)",
             "rgb(36, 105, 237)",
             "rgb(234, 190, 241)"
            ]
           },
           "orientation": "h",
           "textangle": 0,
           "textposition": "outside",
           "texttemplate": "%{y}<br>%{x:.4s}",
           "type": "bar",
           "x": [
            6860,
            6927,
            7187,
            7198,
            7502,
            7515,
            7638,
            7912,
            8144,
            9415
           ],
           "y": [
            "MARIE",
            "LUCAS",
            "NICOLAS",
            "MAXIME",
            "QUENTIN",
            "ALEXANDRE",
            "MANON",
            "CAMILLE",
            "LÉA",
            "THOMAS"
           ]
          }
         ],
         "layout": {
          "bargap": 0.15,
          "font": {
           "size": 14
          },
          "plot_bgcolor": "#FFFFFF",
          "title": {
           "text": "Top 10 prenoms"
          },
          "xaxis": {
           "range": [
            0,
            53596
           ],
           "showline": true,
           "visible": true
          },
          "yaxis": {
           "showline": false,
           "visible": true
          }
         },
         "name": "1998"
        },
        {
         "data": [
          {
           "cliponaxis": false,
           "hoverinfo": "all",
           "hovertemplate": "<extra></extra>",
           "marker": {
            "color": [
             "rgb(164, 243, 62)",
             "rgb(123, 182, 102)",
             "rgb(11, 188, 241)",
             "rgb(41, 173, 177)",
             "rgb(31, 35, 95)",
             "rgb(216, 128, 109)",
             "rgb(223, 10, 138)",
             "rgb(175, 243, 194)",
             "rgb(234, 190, 241)",
             "rgb(36, 105, 237)"
            ]
           },
           "orientation": "h",
           "textangle": 0,
           "textposition": "outside",
           "texttemplate": "%{y}<br>%{x:.4s}",
           "type": "bar",
           "x": [
            6544,
            6767,
            6955,
            7006,
            7013,
            7490,
            7582,
            8036,
            9409,
            9657
           ],
           "y": [
            "NICOLAS",
            "QUENTIN",
            "ALEXANDRE",
            "HUGO",
            "MAXIME",
            "MANON",
            "CAMILLE",
            "LUCAS",
            "THOMAS",
            "LÉA"
           ]
          }
         ],
         "layout": {
          "bargap": 0.15,
          "font": {
           "size": 14
          },
          "plot_bgcolor": "#FFFFFF",
          "title": {
           "text": "Top 10 prenoms"
          },
          "xaxis": {
           "range": [
            0,
            53596
           ],
           "showline": true,
           "visible": true
          },
          "yaxis": {
           "showline": false,
           "visible": true
          }
         },
         "name": "1999"
        },
        {
         "data": [
          {
           "cliponaxis": false,
           "hoverinfo": "all",
           "hovertemplate": "<extra></extra>",
           "marker": {
            "color": [
             "rgb(31, 35, 95)",
             "rgb(4, 8, 228)",
             "rgb(245, 181, 220)",
             "rgb(41, 173, 177)",
             "rgb(223, 10, 138)",
             "rgb(216, 128, 109)",
             "rgb(172, 242, 192)",
             "rgb(175, 243, 194)",
             "rgb(234, 190, 241)",
             "rgb(36, 105, 237)"
            ]
           },
           "orientation": "h",
           "textangle": 0,
           "textposition": "outside",
           "texttemplate": "%{y}<br>%{x:.4s}",
           "type": "bar",
           "x": [
            6830,
            6862,
            7195,
            7697,
            7721,
            7861,
            7961,
            8303,
            10452,
            10673
           ],
           "y": [
            "MAXIME",
            "EMMA",
            "CHLOÉ",
            "HUGO",
            "CAMILLE",
            "MANON",
            "THÉO",
            "LUCAS",
            "THOMAS",
            "LÉA"
           ]
          }
         ],
         "layout": {
          "bargap": 0.15,
          "font": {
           "size": 14
          },
          "plot_bgcolor": "#FFFFFF",
          "title": {
           "text": "Top 10 prenoms"
          },
          "xaxis": {
           "range": [
            0,
            53596
           ],
           "showline": true,
           "visible": true
          },
          "yaxis": {
           "showline": false,
           "visible": true
          }
         },
         "name": "2000"
        },
        {
         "data": [
          {
           "cliponaxis": false,
           "hoverinfo": "all",
           "hovertemplate": "<extra></extra>",
           "marker": {
            "color": [
             "rgb(4, 8, 228)",
             "rgb(31, 35, 95)",
             "rgb(223, 10, 138)",
             "rgb(245, 181, 220)",
             "rgb(41, 173, 177)",
             "rgb(216, 128, 109)",
             "rgb(172, 242, 192)",
             "rgb(175, 243, 194)",
             "rgb(234, 190, 241)",
             "rgb(36, 105, 237)"
            ]
           },
           "orientation": "h",
           "textangle": 0,
           "textposition": "outside",
           "texttemplate": "%{y}<br>%{x:.4s}",
           "type": "bar",
           "x": [
            6392,
            6600,
            6882,
            7036,
            7052,
            7583,
            8863,
            9041,
            10107,
            10724
           ],
           "y": [
            "EMMA",
            "MAXIME",
            "CAMILLE",
            "CHLOÉ",
            "HUGO",
            "MANON",
            "THÉO",
            "LUCAS",
            "THOMAS",
            "LÉA"
           ]
          }
         ],
         "layout": {
          "bargap": 0.15,
          "font": {
           "size": 14
          },
          "plot_bgcolor": "#FFFFFF",
          "title": {
           "text": "Top 10 prenoms"
          },
          "xaxis": {
           "range": [
            0,
            53596
           ],
           "showline": true,
           "visible": true
          },
          "yaxis": {
           "showline": false,
           "visible": true
          }
         },
         "name": "2001"
        },
        {
         "data": [
          {
           "cliponaxis": false,
           "hoverinfo": "all",
           "hovertemplate": "<extra></extra>",
           "marker": {
            "color": [
             "rgb(31, 35, 95)",
             "rgb(245, 181, 220)",
             "rgb(223, 10, 138)",
             "rgb(4, 8, 228)",
             "rgb(41, 173, 177)",
             "rgb(216, 128, 109)",
             "rgb(234, 190, 241)",
             "rgb(172, 242, 192)",
             "rgb(175, 243, 194)",
             "rgb(36, 105, 237)"
            ]
           },
           "orientation": "h",
           "textangle": 0,
           "textposition": "outside",
           "texttemplate": "%{y}<br>%{x:.4s}",
           "type": "bar",
           "x": [
            6046,
            6102,
            6107,
            6527,
            7248,
            7571,
            8160,
            8693,
            9318,
            9746
           ],
           "y": [
            "MAXIME",
            "CHLOÉ",
            "CAMILLE",
            "EMMA",
            "HUGO",
            "MANON",
            "THOMAS",
            "THÉO",
            "LUCAS",
            "LÉA"
           ]
          }
         ],
         "layout": {
          "bargap": 0.15,
          "font": {
           "size": 14
          },
          "plot_bgcolor": "#FFFFFF",
          "title": {
           "text": "Top 10 prenoms"
          },
          "xaxis": {
           "range": [
            0,
            53596
           ],
           "showline": true,
           "visible": true
          },
          "yaxis": {
           "showline": false,
           "visible": true
          }
         },
         "name": "2002"
        },
        {
         "data": [
          {
           "cliponaxis": false,
           "hoverinfo": "all",
           "hovertemplate": "<extra></extra>",
           "marker": {
            "color": [
             "rgb(223, 10, 138)",
             "rgb(245, 181, 220)",
             "rgb(4, 8, 228)",
             "rgb(27, 5, 70)",
             "rgb(234, 190, 241)",
             "rgb(216, 128, 109)",
             "rgb(41, 173, 177)",
             "rgb(172, 242, 192)",
             "rgb(175, 243, 194)",
             "rgb(36, 105, 237)"
            ]
           },
           "orientation": "h",
           "textangle": 0,
           "textposition": "outside",
           "texttemplate": "%{y}<br>%{x:.4s}",
           "type": "bar",
           "x": [
            5649,
            5797,
            6230,
            6746,
            6856,
            6920,
            7387,
            7859,
            8292,
            8983
           ],
           "y": [
            "CAMILLE",
            "CHLOÉ",
            "EMMA",
            "ENZO",
            "THOMAS",
            "MANON",
            "HUGO",
            "THÉO",
            "LUCAS",
            "LÉA"
           ]
          }
         ],
         "layout": {
          "bargap": 0.15,
          "font": {
           "size": 14
          },
          "plot_bgcolor": "#FFFFFF",
          "title": {
           "text": "Top 10 prenoms"
          },
          "xaxis": {
           "range": [
            0,
            53596
           ],
           "showline": true,
           "visible": true
          },
          "yaxis": {
           "showline": false,
           "visible": true
          }
         },
         "name": "2003"
        },
        {
         "data": [
          {
           "cliponaxis": false,
           "hoverinfo": "all",
           "hovertemplate": "<extra></extra>",
           "marker": {
            "color": [
             "rgb(223, 10, 138)",
             "rgb(252, 71, 74)",
             "rgb(41, 173, 177)",
             "rgb(216, 128, 109)",
             "rgb(234, 190, 241)",
             "rgb(172, 242, 192)",
             "rgb(4, 8, 228)",
             "rgb(175, 243, 194)",
             "rgb(36, 105, 237)",
             "rgb(27, 5, 70)"
            ]
           },
           "orientation": "h",
           "textangle": 0,
           "textposition": "outside",
           "texttemplate": "%{y}<br>%{x:.4s}",
           "type": "bar",
           "x": [
            5655,
            5711,
            6147,
            6289,
            6457,
            6495,
            6634,
            6821,
            7395,
            7961
           ],
           "y": [
            "CAMILLE",
            "MATHIS",
            "HUGO",
            "MANON",
            "THOMAS",
            "THÉO",
            "EMMA",
            "LUCAS",
            "LÉA",
            "ENZO"
           ]
          }
         ],
         "layout": {
          "bargap": 0.15,
          "font": {
           "size": 14
          },
          "plot_bgcolor": "#FFFFFF",
          "title": {
           "text": "Top 10 prenoms"
          },
          "xaxis": {
           "range": [
            0,
            53596
           ],
           "showline": true,
           "visible": true
          },
          "yaxis": {
           "showline": false,
           "visible": true
          }
         },
         "name": "2004"
        },
        {
         "data": [
          {
           "cliponaxis": false,
           "hoverinfo": "all",
           "hovertemplate": "<extra></extra>",
           "marker": {
            "color": [
             "rgb(41, 173, 177)",
             "rgb(172, 242, 192)",
             "rgb(234, 190, 241)",
             "rgb(252, 71, 74)",
             "rgb(216, 128, 109)",
             "rgb(249, 13, 130)",
             "rgb(36, 105, 237)",
             "rgb(175, 243, 194)",
             "rgb(4, 8, 228)",
             "rgb(27, 5, 70)"
            ]
           },
           "orientation": "h",
           "textangle": 0,
           "textposition": "outside",
           "texttemplate": "%{y}<br>%{x:.4s}",
           "type": "bar",
           "x": [
            5574,
            5575,
            5657,
            5778,
            5926,
            6036,
            6642,
            6815,
            7098,
            8854
           ],
           "y": [
            "HUGO",
            "THÉO",
            "THOMAS",
            "MATHIS",
            "MANON",
            "CLARA",
            "LÉA",
            "LUCAS",
            "EMMA",
            "ENZO"
           ]
          }
         ],
         "layout": {
          "bargap": 0.15,
          "font": {
           "size": 14
          },
          "plot_bgcolor": "#FFFFFF",
          "title": {
           "text": "Top 10 prenoms"
          },
          "xaxis": {
           "range": [
            0,
            53596
           ],
           "showline": true,
           "visible": true
          },
          "yaxis": {
           "showline": false,
           "visible": true
          }
         },
         "name": "2005"
        },
        {
         "data": [
          {
           "cliponaxis": false,
           "hoverinfo": "all",
           "hovertemplate": "<extra></extra>",
           "marker": {
            "color": [
             "rgb(234, 190, 241)",
             "rgb(223, 10, 138)",
             "rgb(216, 128, 109)",
             "rgb(2, 87, 189)",
             "rgb(249, 13, 130)",
             "rgb(252, 71, 74)",
             "rgb(36, 105, 237)",
             "rgb(4, 8, 228)",
             "rgb(175, 243, 194)",
             "rgb(27, 5, 70)"
            ]
           },
           "orientation": "h",
           "textangle": 0,
           "textposition": "outside",
           "texttemplate": "%{y}<br>%{x:.4s}",
           "type": "bar",
           "x": [
            5306,
            5435,
            5574,
            6045,
            6053,
            6174,
            6506,
            7104,
            7189,
            8325
           ],
           "y": [
            "THOMAS",
            "CAMILLE",
            "MANON",
            "NATHAN",
            "CLARA",
            "MATHIS",
            "LÉA",
            "EMMA",
            "LUCAS",
            "ENZO"
           ]
          }
         ],
         "layout": {
          "bargap": 0.15,
          "font": {
           "size": 14
          },
          "plot_bgcolor": "#FFFFFF",
          "title": {
           "text": "Top 10 prenoms"
          },
          "xaxis": {
           "range": [
            0,
            53596
           ],
           "showline": true,
           "visible": true
          },
          "yaxis": {
           "showline": false,
           "visible": true
          }
         },
         "name": "2006"
        },
        {
         "data": [
          {
           "cliponaxis": false,
           "hoverinfo": "all",
           "hovertemplate": "<extra></extra>",
           "marker": {
            "color": [
             "rgb(223, 10, 138)",
             "rgb(216, 128, 109)",
             "rgb(245, 181, 220)",
             "rgb(249, 13, 130)",
             "rgb(36, 105, 237)",
             "rgb(252, 71, 74)",
             "rgb(2, 87, 189)",
             "rgb(4, 8, 228)",
             "rgb(175, 243, 194)",
             "rgb(27, 5, 70)"
            ]
           },
           "orientation": "h",
           "textangle": 0,
           "textposition": "outside",
           "texttemplate": "%{y}<br>%{x:.4s}",
           "type": "bar",
           "x": [
            5052,
            5057,
            5144,
            5207,
            5831,
            5837,
            6621,
            6741,
            7445,
            7493
           ],
           "y": [
            "CAMILLE",
            "MANON",
            "CHLOÉ",
            "CLARA",
            "LÉA",
            "MATHIS",
            "NATHAN",
            "EMMA",
            "LUCAS",
            "ENZO"
           ]
          }
         ],
         "layout": {
          "bargap": 0.15,
          "font": {
           "size": 14
          },
          "plot_bgcolor": "#FFFFFF",
          "title": {
           "text": "Top 10 prenoms"
          },
          "xaxis": {
           "range": [
            0,
            53596
           ],
           "showline": true,
           "visible": true
          },
          "yaxis": {
           "showline": false,
           "visible": true
          }
         },
         "name": "2007"
        },
        {
         "data": [
          {
           "cliponaxis": false,
           "hoverinfo": "all",
           "hovertemplate": "<extra></extra>",
           "marker": {
            "color": [
             "rgb(245, 181, 220)",
             "rgb(223, 10, 138)",
             "rgb(216, 128, 109)",
             "rgb(108, 70, 182)",
             "rgb(252, 71, 74)",
             "rgb(36, 105, 237)",
             "rgb(2, 87, 189)",
             "rgb(4, 8, 228)",
             "rgb(27, 5, 70)",
             "rgb(175, 243, 194)"
            ]
           },
           "orientation": "h",
           "textangle": 0,
           "textposition": "outside",
           "texttemplate": "%{y}<br>%{x:.4s}",
           "type": "bar",
           "x": [
            5069,
            5147,
            5352,
            5472,
            5645,
            5749,
            6437,
            6767,
            6979,
            7070
           ],
           "y": [
            "CHLOÉ",
            "CAMILLE",
            "MANON",
            "JADE",
            "MATHIS",
            "LÉA",
            "NATHAN",
            "EMMA",
            "ENZO",
            "LUCAS"
           ]
          }
         ],
         "layout": {
          "bargap": 0.15,
          "font": {
           "size": 14
          },
          "plot_bgcolor": "#FFFFFF",
          "title": {
           "text": "Top 10 prenoms"
          },
          "xaxis": {
           "range": [
            0,
            53596
           ],
           "showline": true,
           "visible": true
          },
          "yaxis": {
           "showline": false,
           "visible": true
          }
         },
         "name": "2008"
        },
        {
         "data": [
          {
           "cliponaxis": false,
           "hoverinfo": "all",
           "hovertemplate": "<extra></extra>",
           "marker": {
            "color": [
             "rgb(223, 10, 138)",
             "rgb(34, 110, 205)",
             "rgb(216, 128, 109)",
             "rgb(245, 181, 220)",
             "rgb(36, 105, 237)",
             "rgb(108, 70, 182)",
             "rgb(27, 5, 70)",
             "rgb(4, 8, 228)",
             "rgb(2, 87, 189)",
             "rgb(175, 243, 194)"
            ]
           },
           "orientation": "h",
           "textangle": 0,
           "textposition": "outside",
           "texttemplate": "%{y}<br>%{x:.4s}",
           "type": "bar",
           "x": [
            4839,
            4856,
            4939,
            5022,
            5290,
            5503,
            6492,
            6588,
            7002,
            7480
           ],
           "y": [
            "CAMILLE",
            "LOUIS",
            "MANON",
            "CHLOÉ",
            "LÉA",
            "JADE",
            "ENZO",
            "EMMA",
            "NATHAN",
            "LUCAS"
           ]
          }
         ],
         "layout": {
          "bargap": 0.15,
          "font": {
           "size": 14
          },
          "plot_bgcolor": "#FFFFFF",
          "title": {
           "text": "Top 10 prenoms"
          },
          "xaxis": {
           "range": [
            0,
            53596
           ],
           "showline": true,
           "visible": true
          },
          "yaxis": {
           "showline": false,
           "visible": true
          }
         },
         "name": "2009"
        },
        {
         "data": [
          {
           "cliponaxis": false,
           "hoverinfo": "all",
           "hovertemplate": "<extra></extra>",
           "marker": {
            "color": [
             "rgb(41, 173, 177)",
             "rgb(34, 110, 205)",
             "rgb(223, 10, 138)",
             "rgb(108, 70, 182)",
             "rgb(149, 71, 36)",
             "rgb(216, 128, 109)",
             "rgb(27, 5, 70)",
             "rgb(4, 8, 228)",
             "rgb(175, 243, 194)",
             "rgb(2, 87, 189)"
            ]
           },
           "orientation": "h",
           "textangle": 0,
           "textposition": "outside",
           "texttemplate": "%{y}<br>%{x:.4s}",
           "type": "bar",
           "x": [
            4656,
            4808,
            4837,
            4844,
            4900,
            5042,
            5950,
            6402,
            6922,
            7033
           ],
           "y": [
            "HUGO",
            "LOUIS",
            "CAMILLE",
            "JADE",
            "LOLA",
            "MANON",
            "ENZO",
            "EMMA",
            "LUCAS",
            "NATHAN"
           ]
          }
         ],
         "layout": {
          "bargap": 0.15,
          "font": {
           "size": 14
          },
          "plot_bgcolor": "#FFFFFF",
          "title": {
           "text": "Top 10 prenoms"
          },
          "xaxis": {
           "range": [
            0,
            53596
           ],
           "showline": true,
           "visible": true
          },
          "yaxis": {
           "showline": false,
           "visible": true
          }
         },
         "name": "2010"
        },
        {
         "data": [
          {
           "cliponaxis": false,
           "hoverinfo": "all",
           "hovertemplate": "<extra></extra>",
           "marker": {
            "color": [
             "rgb(41, 173, 177)",
             "rgb(108, 70, 182)",
             "rgb(34, 110, 205)",
             "rgb(223, 10, 138)",
             "rgb(216, 128, 109)",
             "rgb(151, 142, 194)",
             "rgb(27, 5, 70)",
             "rgb(4, 8, 228)",
             "rgb(2, 87, 189)",
             "rgb(175, 243, 194)"
            ]
           },
           "orientation": "h",
           "textangle": 0,
           "textposition": "outside",
           "texttemplate": "%{y}<br>%{x:.4s}",
           "type": "bar",
           "x": [
            4478,
            4620,
            4645,
            4768,
            4833,
            4854,
            5410,
            5924,
            5975,
            6102
           ],
           "y": [
            "HUGO",
            "JADE",
            "LOUIS",
            "CAMILLE",
            "MANON",
            "GABRIEL",
            "ENZO",
            "EMMA",
            "NATHAN",
            "LUCAS"
           ]
          }
         ],
         "layout": {
          "bargap": 0.15,
          "font": {
           "size": 14
          },
          "plot_bgcolor": "#FFFFFF",
          "title": {
           "text": "Top 10 prenoms"
          },
          "xaxis": {
           "range": [
            0,
            53596
           ],
           "showline": true,
           "visible": true
          },
          "yaxis": {
           "showline": false,
           "visible": true
          }
         },
         "name": "2011"
        },
        {
         "data": [
          {
           "cliponaxis": false,
           "hoverinfo": "all",
           "hovertemplate": "<extra></extra>",
           "marker": {
            "color": [
             "rgb(81, 243, 41)",
             "rgb(223, 10, 138)",
             "rgb(27, 5, 70)",
             "rgb(41, 173, 177)",
             "rgb(61, 240, 6)",
             "rgb(151, 142, 194)",
             "rgb(34, 110, 205)",
             "rgb(4, 8, 228)",
             "rgb(2, 87, 189)",
             "rgb(175, 243, 194)"
            ]
           },
           "orientation": "h",
           "textangle": 0,
           "textposition": "outside",
           "texttemplate": "%{y}<br>%{x:.4s}",
           "type": "bar",
           "x": [
            4442,
            4567,
            4684,
            4700,
            4796,
            5015,
            5046,
            5183,
            5418,
            5730
           ],
           "y": [
            "LOUISE",
            "CAMILLE",
            "ENZO",
            "HUGO",
            "ETHAN",
            "GABRIEL",
            "LOUIS",
            "EMMA",
            "NATHAN",
            "LUCAS"
           ]
          }
         ],
         "layout": {
          "bargap": 0.15,
          "font": {
           "size": 14
          },
          "plot_bgcolor": "#FFFFFF",
          "title": {
           "text": "Top 10 prenoms"
          },
          "xaxis": {
           "range": [
            0,
            53596
           ],
           "showline": true,
           "visible": true
          },
          "yaxis": {
           "showline": false,
           "visible": true
          }
         },
         "name": "2012"
        },
        {
         "data": [
          {
           "cliponaxis": false,
           "hoverinfo": "all",
           "hovertemplate": "<extra></extra>",
           "marker": {
            "color": [
             "rgb(223, 10, 138)",
             "rgb(81, 243, 41)",
             "rgb(129, 171, 226)",
             "rgb(2, 87, 189)",
             "rgb(61, 240, 6)",
             "rgb(4, 8, 228)",
             "rgb(151, 142, 194)",
             "rgb(34, 110, 205)",
             "rgb(41, 173, 177)",
             "rgb(175, 243, 194)"
            ]
           },
           "orientation": "h",
           "textangle": 0,
           "textposition": "outside",
           "texttemplate": "%{y}<br>%{x:.4s}",
           "type": "bar",
           "x": [
            4392,
            4479,
            4566,
            4726,
            4734,
            4792,
            5190,
            5287,
            5400,
            5657
           ],
           "y": [
            "CAMILLE",
            "LOUISE",
            "LÉO",
            "NATHAN",
            "ETHAN",
            "EMMA",
            "GABRIEL",
            "LOUIS",
            "HUGO",
            "LUCAS"
           ]
          }
         ],
         "layout": {
          "bargap": 0.15,
          "font": {
           "size": 14
          },
          "plot_bgcolor": "#FFFFFF",
          "title": {
           "text": "Top 10 prenoms"
          },
          "xaxis": {
           "range": [
            0,
            53596
           ],
           "showline": true,
           "visible": true
          },
          "yaxis": {
           "showline": false,
           "visible": true
          }
         },
         "name": "2013"
        },
        {
         "data": [
          {
           "cliponaxis": false,
           "hoverinfo": "all",
           "hovertemplate": "<extra></extra>",
           "marker": {
            "color": [
             "rgb(61, 240, 6)",
             "rgb(4, 8, 228)",
             "rgb(21, 93, 156)",
             "rgb(81, 243, 41)",
             "rgb(147, 141, 129)",
             "rgb(108, 70, 182)",
             "rgb(41, 173, 177)",
             "rgb(34, 110, 205)",
             "rgb(151, 142, 194)",
             "rgb(175, 243, 194)"
            ]
           },
           "orientation": "h",
           "textangle": 0,
           "textposition": "outside",
           "texttemplate": "%{y}<br>%{x:.4s}",
           "type": "bar",
           "x": [
            4385,
            4498,
            4549,
            4636,
            4679,
            4691,
            4898,
            4980,
            5360,
            5471
           ],
           "y": [
            "ETHAN",
            "EMMA",
            "ADAM",
            "LOUISE",
            "JULES",
            "JADE",
            "HUGO",
            "LOUIS",
            "GABRIEL",
            "LUCAS"
           ]
          }
         ],
         "layout": {
          "bargap": 0.15,
          "font": {
           "size": 14
          },
          "plot_bgcolor": "#FFFFFF",
          "title": {
           "text": "Top 10 prenoms"
          },
          "xaxis": {
           "range": [
            0,
            53596
           ],
           "showline": true,
           "visible": true
          },
          "yaxis": {
           "showline": false,
           "visible": true
          }
         },
         "name": "2014"
        },
        {
         "data": [
          {
           "cliponaxis": false,
           "hoverinfo": "all",
           "hovertemplate": "<extra></extra>",
           "marker": {
            "color": [
             "rgb(108, 70, 182)",
             "rgb(129, 171, 226)",
             "rgb(41, 173, 177)",
             "rgb(4, 8, 228)",
             "rgb(21, 93, 156)",
             "rgb(81, 243, 41)",
             "rgb(34, 110, 205)",
             "rgb(175, 243, 194)",
             "rgb(147, 141, 129)",
             "rgb(151, 142, 194)"
            ]
           },
           "orientation": "h",
           "textangle": 0,
           "textposition": "outside",
           "texttemplate": "%{y}<br>%{x:.4s}",
           "type": "bar",
           "x": [
            4295,
            4308,
            4350,
            4400,
            4525,
            4543,
            4748,
            5018,
            5153,
            5646
           ],
           "y": [
            "JADE",
            "LÉO",
            "HUGO",
            "EMMA",
            "ADAM",
            "LOUISE",
            "LOUIS",
            "LUCAS",
            "JULES",
            "GABRIEL"
           ]
          }
         ],
         "layout": {
          "bargap": 0.15,
          "font": {
           "size": 14
          },
          "plot_bgcolor": "#FFFFFF",
          "title": {
           "text": "Top 10 prenoms"
          },
          "xaxis": {
           "range": [
            0,
            53596
           ],
           "showline": true,
           "visible": true
          },
          "yaxis": {
           "showline": false,
           "visible": true
          }
         },
         "name": "2015"
        },
        {
         "data": [
          {
           "cliponaxis": false,
           "hoverinfo": "all",
           "hovertemplate": "<extra></extra>",
           "marker": {
            "color": [
             "rgb(41, 173, 177)",
             "rgb(108, 70, 182)",
             "rgb(81, 243, 41)",
             "rgb(98, 118, 156)",
             "rgb(34, 110, 205)",
             "rgb(175, 243, 194)",
             "rgb(21, 93, 156)",
             "rgb(4, 8, 228)",
             "rgb(147, 141, 129)",
             "rgb(151, 142, 194)"
            ]
           },
           "orientation": "h",
           "textangle": 0,
           "textposition": "outside",
           "texttemplate": "%{y}<br>%{x:.4s}",
           "type": "bar",
           "x": [
            4056,
            4141,
            4174,
            4386,
            4571,
            4586,
            4650,
            4717,
            5033,
            5871
           ],
           "y": [
            "HUGO",
            "JADE",
            "LOUISE",
            "RAPHAËL",
            "LOUIS",
            "LUCAS",
            "ADAM",
            "EMMA",
            "JULES",
            "GABRIEL"
           ]
          }
         ],
         "layout": {
          "bargap": 0.15,
          "font": {
           "size": 14
          },
          "plot_bgcolor": "#FFFFFF",
          "title": {
           "text": "Top 10 prenoms"
          },
          "xaxis": {
           "range": [
            0,
            53596
           ],
           "showline": true,
           "visible": true
          },
          "yaxis": {
           "showline": false,
           "visible": true
          }
         },
         "name": "2016"
        },
        {
         "data": [
          {
           "cliponaxis": false,
           "hoverinfo": "all",
           "hovertemplate": "<extra></extra>",
           "marker": {
            "color": [
             "rgb(108, 70, 182)",
             "rgb(81, 243, 41)",
             "rgb(129, 171, 226)",
             "rgb(175, 243, 194)",
             "rgb(21, 93, 156)",
             "rgb(147, 141, 129)",
             "rgb(98, 118, 156)",
             "rgb(34, 110, 205)",
             "rgb(4, 8, 228)",
             "rgb(151, 142, 194)"
            ]
           },
           "orientation": "h",
           "textangle": 0,
           "textposition": "outside",
           "texttemplate": "%{y}<br>%{x:.4s}",
           "type": "bar",
           "x": [
            4029,
            4040,
            4055,
            4068,
            4165,
            4182,
            4186,
            4405,
            4810,
            5439
           ],
           "y": [
            "JADE",
            "LOUISE",
            "LÉO",
            "LUCAS",
            "ADAM",
            "JULES",
            "RAPHAËL",
            "LOUIS",
            "EMMA",
            "GABRIEL"
           ]
          }
         ],
         "layout": {
          "bargap": 0.15,
          "font": {
           "size": 14
          },
          "plot_bgcolor": "#FFFFFF",
          "title": {
           "text": "Top 10 prenoms"
          },
          "xaxis": {
           "range": [
            0,
            53596
           ],
           "showline": true,
           "visible": true
          },
          "yaxis": {
           "showline": false,
           "visible": true
          }
         },
         "name": "2017"
        },
        {
         "data": [
          {
           "cliponaxis": false,
           "hoverinfo": "all",
           "hovertemplate": "<extra></extra>",
           "marker": {
            "color": [
             "rgb(234, 197, 146)",
             "rgb(81, 243, 41)",
             "rgb(21, 93, 156)",
             "rgb(108, 70, 182)",
             "rgb(175, 243, 194)",
             "rgb(4, 8, 228)",
             "rgb(34, 110, 205)",
             "rgb(129, 171, 226)",
             "rgb(98, 118, 156)",
             "rgb(151, 142, 194)"
            ]
           },
           "orientation": "h",
           "textangle": 0,
           "textposition": "outside",
           "texttemplate": "%{y}<br>%{x:.4s}",
           "type": "bar",
           "x": [
            3750,
            3768,
            3885,
            3973,
            3980,
            4365,
            4410,
            4451,
            4592,
            5422
           ],
           "y": [
            "ARTHUR",
            "LOUISE",
            "ADAM",
            "JADE",
            "LUCAS",
            "EMMA",
            "LOUIS",
            "LÉO",
            "RAPHAËL",
            "GABRIEL"
           ]
          }
         ],
         "layout": {
          "bargap": 0.15,
          "font": {
           "size": 14
          },
          "plot_bgcolor": "#FFFFFF",
          "title": {
           "text": "Top 10 prenoms"
          },
          "xaxis": {
           "range": [
            0,
            53596
           ],
           "showline": true,
           "visible": true
          },
          "yaxis": {
           "showline": false,
           "visible": true
          }
         },
         "name": "2018"
        },
        {
         "data": [
          {
           "cliponaxis": false,
           "hoverinfo": "all",
           "hovertemplate": "<extra></extra>",
           "marker": {
            "color": [
             "rgb(21, 93, 156)",
             "rgb(175, 243, 194)",
             "rgb(81, 243, 41)",
             "rgb(108, 70, 182)",
             "rgb(34, 110, 205)",
             "rgb(4, 8, 228)",
             "rgb(234, 197, 146)",
             "rgb(98, 118, 156)",
             "rgb(129, 171, 226)",
             "rgb(151, 142, 194)"
            ]
           },
           "orientation": "h",
           "textangle": 0,
           "textposition": "outside",
           "texttemplate": "%{y}<br>%{x:.4s}",
           "type": "bar",
           "x": [
            3661,
            3735,
            3746,
            3818,
            3943,
            3946,
            4003,
            4458,
            4654,
            4988
           ],
           "y": [
            "ADAM",
            "LUCAS",
            "LOUISE",
            "JADE",
            "LOUIS",
            "EMMA",
            "ARTHUR",
            "RAPHAËL",
            "LÉO",
            "GABRIEL"
           ]
          }
         ],
         "layout": {
          "bargap": 0.15,
          "font": {
           "size": 14
          },
          "plot_bgcolor": "#FFFFFF",
          "title": {
           "text": "Top 10 prenoms"
          },
          "xaxis": {
           "range": [
            0,
            53596
           ],
           "showline": true,
           "visible": true
          },
          "yaxis": {
           "showline": false,
           "visible": true
          }
         },
         "name": "2019"
        },
        {
         "data": [
          {
           "cliponaxis": false,
           "hoverinfo": "all",
           "hovertemplate": "<extra></extra>",
           "marker": {
            "color": [
             "rgb(21, 93, 156)",
             "rgb(4, 8, 228)",
             "rgb(147, 141, 129)",
             "rgb(34, 110, 205)",
             "rgb(234, 197, 146)",
             "rgb(81, 243, 41)",
             "rgb(108, 70, 182)",
             "rgb(98, 118, 156)",
             "rgb(151, 142, 194)",
             "rgb(129, 171, 226)"
            ]
           },
           "orientation": "h",
           "textangle": 0,
           "textposition": "outside",
           "texttemplate": "%{y}<br>%{x:.4s}",
           "type": "bar",
           "x": [
            3376,
            3478,
            3546,
            3791,
            3797,
            3807,
            3815,
            3965,
            4410,
            4491
           ],
           "y": [
            "ADAM",
            "EMMA",
            "JULES",
            "LOUIS",
            "ARTHUR",
            "LOUISE",
            "JADE",
            "RAPHAËL",
            "GABRIEL",
            "LÉO"
           ]
          }
         ],
         "layout": {
          "bargap": 0.15,
          "font": {
           "size": 14
          },
          "plot_bgcolor": "#FFFFFF",
          "title": {
           "text": "Top 10 prenoms"
          },
          "xaxis": {
           "range": [
            0,
            53596
           ],
           "showline": true,
           "visible": true
          },
          "yaxis": {
           "showline": false,
           "visible": true
          }
         },
         "name": "2020"
        }
       ],
       "layout": {
        "bargap": 0.15,
        "font": {
         "size": 14
        },
        "plot_bgcolor": "#FFFFFF",
        "sliders": [
         {
          "active": 0,
          "currentvalue": {
           "font": {
            "size": 20
           },
           "prefix": "Date: ",
           "visible": true,
           "xanchor": "right"
          },
          "len": 0.9,
          "pad": {
           "b": 10,
           "t": 50
          },
          "steps": [
           {
            "args": [
             [
              "1900"
             ],
             {
              "frame": {
               "duration": 800,
               "redraw": false
              },
              "mode": "immediate",
              "transition": {
               "duration": 800
              }
             }
            ],
            "label": "1900",
            "method": "animate"
           },
           {
            "args": [
             [
              "1901"
             ],
             {
              "frame": {
               "duration": 800,
               "redraw": false
              },
              "mode": "immediate",
              "transition": {
               "duration": 800
              }
             }
            ],
            "label": "1901",
            "method": "animate"
           },
           {
            "args": [
             [
              "1902"
             ],
             {
              "frame": {
               "duration": 800,
               "redraw": false
              },
              "mode": "immediate",
              "transition": {
               "duration": 800
              }
             }
            ],
            "label": "1902",
            "method": "animate"
           },
           {
            "args": [
             [
              "1903"
             ],
             {
              "frame": {
               "duration": 800,
               "redraw": false
              },
              "mode": "immediate",
              "transition": {
               "duration": 800
              }
             }
            ],
            "label": "1903",
            "method": "animate"
           },
           {
            "args": [
             [
              "1904"
             ],
             {
              "frame": {
               "duration": 800,
               "redraw": false
              },
              "mode": "immediate",
              "transition": {
               "duration": 800
              }
             }
            ],
            "label": "1904",
            "method": "animate"
           },
           {
            "args": [
             [
              "1905"
             ],
             {
              "frame": {
               "duration": 800,
               "redraw": false
              },
              "mode": "immediate",
              "transition": {
               "duration": 800
              }
             }
            ],
            "label": "1905",
            "method": "animate"
           },
           {
            "args": [
             [
              "1906"
             ],
             {
              "frame": {
               "duration": 800,
               "redraw": false
              },
              "mode": "immediate",
              "transition": {
               "duration": 800
              }
             }
            ],
            "label": "1906",
            "method": "animate"
           },
           {
            "args": [
             [
              "1907"
             ],
             {
              "frame": {
               "duration": 800,
               "redraw": false
              },
              "mode": "immediate",
              "transition": {
               "duration": 800
              }
             }
            ],
            "label": "1907",
            "method": "animate"
           },
           {
            "args": [
             [
              "1908"
             ],
             {
              "frame": {
               "duration": 800,
               "redraw": false
              },
              "mode": "immediate",
              "transition": {
               "duration": 800
              }
             }
            ],
            "label": "1908",
            "method": "animate"
           },
           {
            "args": [
             [
              "1909"
             ],
             {
              "frame": {
               "duration": 800,
               "redraw": false
              },
              "mode": "immediate",
              "transition": {
               "duration": 800
              }
             }
            ],
            "label": "1909",
            "method": "animate"
           },
           {
            "args": [
             [
              "1910"
             ],
             {
              "frame": {
               "duration": 800,
               "redraw": false
              },
              "mode": "immediate",
              "transition": {
               "duration": 800
              }
             }
            ],
            "label": "1910",
            "method": "animate"
           },
           {
            "args": [
             [
              "1911"
             ],
             {
              "frame": {
               "duration": 800,
               "redraw": false
              },
              "mode": "immediate",
              "transition": {
               "duration": 800
              }
             }
            ],
            "label": "1911",
            "method": "animate"
           },
           {
            "args": [
             [
              "1912"
             ],
             {
              "frame": {
               "duration": 800,
               "redraw": false
              },
              "mode": "immediate",
              "transition": {
               "duration": 800
              }
             }
            ],
            "label": "1912",
            "method": "animate"
           },
           {
            "args": [
             [
              "1913"
             ],
             {
              "frame": {
               "duration": 800,
               "redraw": false
              },
              "mode": "immediate",
              "transition": {
               "duration": 800
              }
             }
            ],
            "label": "1913",
            "method": "animate"
           },
           {
            "args": [
             [
              "1914"
             ],
             {
              "frame": {
               "duration": 800,
               "redraw": false
              },
              "mode": "immediate",
              "transition": {
               "duration": 800
              }
             }
            ],
            "label": "1914",
            "method": "animate"
           },
           {
            "args": [
             [
              "1915"
             ],
             {
              "frame": {
               "duration": 800,
               "redraw": false
              },
              "mode": "immediate",
              "transition": {
               "duration": 800
              }
             }
            ],
            "label": "1915",
            "method": "animate"
           },
           {
            "args": [
             [
              "1916"
             ],
             {
              "frame": {
               "duration": 800,
               "redraw": false
              },
              "mode": "immediate",
              "transition": {
               "duration": 800
              }
             }
            ],
            "label": "1916",
            "method": "animate"
           },
           {
            "args": [
             [
              "1917"
             ],
             {
              "frame": {
               "duration": 800,
               "redraw": false
              },
              "mode": "immediate",
              "transition": {
               "duration": 800
              }
             }
            ],
            "label": "1917",
            "method": "animate"
           },
           {
            "args": [
             [
              "1918"
             ],
             {
              "frame": {
               "duration": 800,
               "redraw": false
              },
              "mode": "immediate",
              "transition": {
               "duration": 800
              }
             }
            ],
            "label": "1918",
            "method": "animate"
           },
           {
            "args": [
             [
              "1919"
             ],
             {
              "frame": {
               "duration": 800,
               "redraw": false
              },
              "mode": "immediate",
              "transition": {
               "duration": 800
              }
             }
            ],
            "label": "1919",
            "method": "animate"
           },
           {
            "args": [
             [
              "1920"
             ],
             {
              "frame": {
               "duration": 800,
               "redraw": false
              },
              "mode": "immediate",
              "transition": {
               "duration": 800
              }
             }
            ],
            "label": "1920",
            "method": "animate"
           },
           {
            "args": [
             [
              "1921"
             ],
             {
              "frame": {
               "duration": 800,
               "redraw": false
              },
              "mode": "immediate",
              "transition": {
               "duration": 800
              }
             }
            ],
            "label": "1921",
            "method": "animate"
           },
           {
            "args": [
             [
              "1922"
             ],
             {
              "frame": {
               "duration": 800,
               "redraw": false
              },
              "mode": "immediate",
              "transition": {
               "duration": 800
              }
             }
            ],
            "label": "1922",
            "method": "animate"
           },
           {
            "args": [
             [
              "1923"
             ],
             {
              "frame": {
               "duration": 800,
               "redraw": false
              },
              "mode": "immediate",
              "transition": {
               "duration": 800
              }
             }
            ],
            "label": "1923",
            "method": "animate"
           },
           {
            "args": [
             [
              "1924"
             ],
             {
              "frame": {
               "duration": 800,
               "redraw": false
              },
              "mode": "immediate",
              "transition": {
               "duration": 800
              }
             }
            ],
            "label": "1924",
            "method": "animate"
           },
           {
            "args": [
             [
              "1925"
             ],
             {
              "frame": {
               "duration": 800,
               "redraw": false
              },
              "mode": "immediate",
              "transition": {
               "duration": 800
              }
             }
            ],
            "label": "1925",
            "method": "animate"
           },
           {
            "args": [
             [
              "1926"
             ],
             {
              "frame": {
               "duration": 800,
               "redraw": false
              },
              "mode": "immediate",
              "transition": {
               "duration": 800
              }
             }
            ],
            "label": "1926",
            "method": "animate"
           },
           {
            "args": [
             [
              "1927"
             ],
             {
              "frame": {
               "duration": 800,
               "redraw": false
              },
              "mode": "immediate",
              "transition": {
               "duration": 800
              }
             }
            ],
            "label": "1927",
            "method": "animate"
           },
           {
            "args": [
             [
              "1928"
             ],
             {
              "frame": {
               "duration": 800,
               "redraw": false
              },
              "mode": "immediate",
              "transition": {
               "duration": 800
              }
             }
            ],
            "label": "1928",
            "method": "animate"
           },
           {
            "args": [
             [
              "1929"
             ],
             {
              "frame": {
               "duration": 800,
               "redraw": false
              },
              "mode": "immediate",
              "transition": {
               "duration": 800
              }
             }
            ],
            "label": "1929",
            "method": "animate"
           },
           {
            "args": [
             [
              "1930"
             ],
             {
              "frame": {
               "duration": 800,
               "redraw": false
              },
              "mode": "immediate",
              "transition": {
               "duration": 800
              }
             }
            ],
            "label": "1930",
            "method": "animate"
           },
           {
            "args": [
             [
              "1931"
             ],
             {
              "frame": {
               "duration": 800,
               "redraw": false
              },
              "mode": "immediate",
              "transition": {
               "duration": 800
              }
             }
            ],
            "label": "1931",
            "method": "animate"
           },
           {
            "args": [
             [
              "1932"
             ],
             {
              "frame": {
               "duration": 800,
               "redraw": false
              },
              "mode": "immediate",
              "transition": {
               "duration": 800
              }
             }
            ],
            "label": "1932",
            "method": "animate"
           },
           {
            "args": [
             [
              "1933"
             ],
             {
              "frame": {
               "duration": 800,
               "redraw": false
              },
              "mode": "immediate",
              "transition": {
               "duration": 800
              }
             }
            ],
            "label": "1933",
            "method": "animate"
           },
           {
            "args": [
             [
              "1934"
             ],
             {
              "frame": {
               "duration": 800,
               "redraw": false
              },
              "mode": "immediate",
              "transition": {
               "duration": 800
              }
             }
            ],
            "label": "1934",
            "method": "animate"
           },
           {
            "args": [
             [
              "1935"
             ],
             {
              "frame": {
               "duration": 800,
               "redraw": false
              },
              "mode": "immediate",
              "transition": {
               "duration": 800
              }
             }
            ],
            "label": "1935",
            "method": "animate"
           },
           {
            "args": [
             [
              "1936"
             ],
             {
              "frame": {
               "duration": 800,
               "redraw": false
              },
              "mode": "immediate",
              "transition": {
               "duration": 800
              }
             }
            ],
            "label": "1936",
            "method": "animate"
           },
           {
            "args": [
             [
              "1937"
             ],
             {
              "frame": {
               "duration": 800,
               "redraw": false
              },
              "mode": "immediate",
              "transition": {
               "duration": 800
              }
             }
            ],
            "label": "1937",
            "method": "animate"
           },
           {
            "args": [
             [
              "1938"
             ],
             {
              "frame": {
               "duration": 800,
               "redraw": false
              },
              "mode": "immediate",
              "transition": {
               "duration": 800
              }
             }
            ],
            "label": "1938",
            "method": "animate"
           },
           {
            "args": [
             [
              "1939"
             ],
             {
              "frame": {
               "duration": 800,
               "redraw": false
              },
              "mode": "immediate",
              "transition": {
               "duration": 800
              }
             }
            ],
            "label": "1939",
            "method": "animate"
           },
           {
            "args": [
             [
              "1940"
             ],
             {
              "frame": {
               "duration": 800,
               "redraw": false
              },
              "mode": "immediate",
              "transition": {
               "duration": 800
              }
             }
            ],
            "label": "1940",
            "method": "animate"
           },
           {
            "args": [
             [
              "1941"
             ],
             {
              "frame": {
               "duration": 800,
               "redraw": false
              },
              "mode": "immediate",
              "transition": {
               "duration": 800
              }
             }
            ],
            "label": "1941",
            "method": "animate"
           },
           {
            "args": [
             [
              "1942"
             ],
             {
              "frame": {
               "duration": 800,
               "redraw": false
              },
              "mode": "immediate",
              "transition": {
               "duration": 800
              }
             }
            ],
            "label": "1942",
            "method": "animate"
           },
           {
            "args": [
             [
              "1943"
             ],
             {
              "frame": {
               "duration": 800,
               "redraw": false
              },
              "mode": "immediate",
              "transition": {
               "duration": 800
              }
             }
            ],
            "label": "1943",
            "method": "animate"
           },
           {
            "args": [
             [
              "1944"
             ],
             {
              "frame": {
               "duration": 800,
               "redraw": false
              },
              "mode": "immediate",
              "transition": {
               "duration": 800
              }
             }
            ],
            "label": "1944",
            "method": "animate"
           },
           {
            "args": [
             [
              "1945"
             ],
             {
              "frame": {
               "duration": 800,
               "redraw": false
              },
              "mode": "immediate",
              "transition": {
               "duration": 800
              }
             }
            ],
            "label": "1945",
            "method": "animate"
           },
           {
            "args": [
             [
              "1946"
             ],
             {
              "frame": {
               "duration": 800,
               "redraw": false
              },
              "mode": "immediate",
              "transition": {
               "duration": 800
              }
             }
            ],
            "label": "1946",
            "method": "animate"
           },
           {
            "args": [
             [
              "1947"
             ],
             {
              "frame": {
               "duration": 800,
               "redraw": false
              },
              "mode": "immediate",
              "transition": {
               "duration": 800
              }
             }
            ],
            "label": "1947",
            "method": "animate"
           },
           {
            "args": [
             [
              "1948"
             ],
             {
              "frame": {
               "duration": 800,
               "redraw": false
              },
              "mode": "immediate",
              "transition": {
               "duration": 800
              }
             }
            ],
            "label": "1948",
            "method": "animate"
           },
           {
            "args": [
             [
              "1949"
             ],
             {
              "frame": {
               "duration": 800,
               "redraw": false
              },
              "mode": "immediate",
              "transition": {
               "duration": 800
              }
             }
            ],
            "label": "1949",
            "method": "animate"
           },
           {
            "args": [
             [
              "1950"
             ],
             {
              "frame": {
               "duration": 800,
               "redraw": false
              },
              "mode": "immediate",
              "transition": {
               "duration": 800
              }
             }
            ],
            "label": "1950",
            "method": "animate"
           },
           {
            "args": [
             [
              "1951"
             ],
             {
              "frame": {
               "duration": 800,
               "redraw": false
              },
              "mode": "immediate",
              "transition": {
               "duration": 800
              }
             }
            ],
            "label": "1951",
            "method": "animate"
           },
           {
            "args": [
             [
              "1952"
             ],
             {
              "frame": {
               "duration": 800,
               "redraw": false
              },
              "mode": "immediate",
              "transition": {
               "duration": 800
              }
             }
            ],
            "label": "1952",
            "method": "animate"
           },
           {
            "args": [
             [
              "1953"
             ],
             {
              "frame": {
               "duration": 800,
               "redraw": false
              },
              "mode": "immediate",
              "transition": {
               "duration": 800
              }
             }
            ],
            "label": "1953",
            "method": "animate"
           },
           {
            "args": [
             [
              "1954"
             ],
             {
              "frame": {
               "duration": 800,
               "redraw": false
              },
              "mode": "immediate",
              "transition": {
               "duration": 800
              }
             }
            ],
            "label": "1954",
            "method": "animate"
           },
           {
            "args": [
             [
              "1955"
             ],
             {
              "frame": {
               "duration": 800,
               "redraw": false
              },
              "mode": "immediate",
              "transition": {
               "duration": 800
              }
             }
            ],
            "label": "1955",
            "method": "animate"
           },
           {
            "args": [
             [
              "1956"
             ],
             {
              "frame": {
               "duration": 800,
               "redraw": false
              },
              "mode": "immediate",
              "transition": {
               "duration": 800
              }
             }
            ],
            "label": "1956",
            "method": "animate"
           },
           {
            "args": [
             [
              "1957"
             ],
             {
              "frame": {
               "duration": 800,
               "redraw": false
              },
              "mode": "immediate",
              "transition": {
               "duration": 800
              }
             }
            ],
            "label": "1957",
            "method": "animate"
           },
           {
            "args": [
             [
              "1958"
             ],
             {
              "frame": {
               "duration": 800,
               "redraw": false
              },
              "mode": "immediate",
              "transition": {
               "duration": 800
              }
             }
            ],
            "label": "1958",
            "method": "animate"
           },
           {
            "args": [
             [
              "1959"
             ],
             {
              "frame": {
               "duration": 800,
               "redraw": false
              },
              "mode": "immediate",
              "transition": {
               "duration": 800
              }
             }
            ],
            "label": "1959",
            "method": "animate"
           },
           {
            "args": [
             [
              "1960"
             ],
             {
              "frame": {
               "duration": 800,
               "redraw": false
              },
              "mode": "immediate",
              "transition": {
               "duration": 800
              }
             }
            ],
            "label": "1960",
            "method": "animate"
           },
           {
            "args": [
             [
              "1961"
             ],
             {
              "frame": {
               "duration": 800,
               "redraw": false
              },
              "mode": "immediate",
              "transition": {
               "duration": 800
              }
             }
            ],
            "label": "1961",
            "method": "animate"
           },
           {
            "args": [
             [
              "1962"
             ],
             {
              "frame": {
               "duration": 800,
               "redraw": false
              },
              "mode": "immediate",
              "transition": {
               "duration": 800
              }
             }
            ],
            "label": "1962",
            "method": "animate"
           },
           {
            "args": [
             [
              "1963"
             ],
             {
              "frame": {
               "duration": 800,
               "redraw": false
              },
              "mode": "immediate",
              "transition": {
               "duration": 800
              }
             }
            ],
            "label": "1963",
            "method": "animate"
           },
           {
            "args": [
             [
              "1964"
             ],
             {
              "frame": {
               "duration": 800,
               "redraw": false
              },
              "mode": "immediate",
              "transition": {
               "duration": 800
              }
             }
            ],
            "label": "1964",
            "method": "animate"
           },
           {
            "args": [
             [
              "1965"
             ],
             {
              "frame": {
               "duration": 800,
               "redraw": false
              },
              "mode": "immediate",
              "transition": {
               "duration": 800
              }
             }
            ],
            "label": "1965",
            "method": "animate"
           },
           {
            "args": [
             [
              "1966"
             ],
             {
              "frame": {
               "duration": 800,
               "redraw": false
              },
              "mode": "immediate",
              "transition": {
               "duration": 800
              }
             }
            ],
            "label": "1966",
            "method": "animate"
           },
           {
            "args": [
             [
              "1967"
             ],
             {
              "frame": {
               "duration": 800,
               "redraw": false
              },
              "mode": "immediate",
              "transition": {
               "duration": 800
              }
             }
            ],
            "label": "1967",
            "method": "animate"
           },
           {
            "args": [
             [
              "1968"
             ],
             {
              "frame": {
               "duration": 800,
               "redraw": false
              },
              "mode": "immediate",
              "transition": {
               "duration": 800
              }
             }
            ],
            "label": "1968",
            "method": "animate"
           },
           {
            "args": [
             [
              "1969"
             ],
             {
              "frame": {
               "duration": 800,
               "redraw": false
              },
              "mode": "immediate",
              "transition": {
               "duration": 800
              }
             }
            ],
            "label": "1969",
            "method": "animate"
           },
           {
            "args": [
             [
              "1970"
             ],
             {
              "frame": {
               "duration": 800,
               "redraw": false
              },
              "mode": "immediate",
              "transition": {
               "duration": 800
              }
             }
            ],
            "label": "1970",
            "method": "animate"
           },
           {
            "args": [
             [
              "1971"
             ],
             {
              "frame": {
               "duration": 800,
               "redraw": false
              },
              "mode": "immediate",
              "transition": {
               "duration": 800
              }
             }
            ],
            "label": "1971",
            "method": "animate"
           },
           {
            "args": [
             [
              "1972"
             ],
             {
              "frame": {
               "duration": 800,
               "redraw": false
              },
              "mode": "immediate",
              "transition": {
               "duration": 800
              }
             }
            ],
            "label": "1972",
            "method": "animate"
           },
           {
            "args": [
             [
              "1973"
             ],
             {
              "frame": {
               "duration": 800,
               "redraw": false
              },
              "mode": "immediate",
              "transition": {
               "duration": 800
              }
             }
            ],
            "label": "1973",
            "method": "animate"
           },
           {
            "args": [
             [
              "1974"
             ],
             {
              "frame": {
               "duration": 800,
               "redraw": false
              },
              "mode": "immediate",
              "transition": {
               "duration": 800
              }
             }
            ],
            "label": "1974",
            "method": "animate"
           },
           {
            "args": [
             [
              "1975"
             ],
             {
              "frame": {
               "duration": 800,
               "redraw": false
              },
              "mode": "immediate",
              "transition": {
               "duration": 800
              }
             }
            ],
            "label": "1975",
            "method": "animate"
           },
           {
            "args": [
             [
              "1976"
             ],
             {
              "frame": {
               "duration": 800,
               "redraw": false
              },
              "mode": "immediate",
              "transition": {
               "duration": 800
              }
             }
            ],
            "label": "1976",
            "method": "animate"
           },
           {
            "args": [
             [
              "1977"
             ],
             {
              "frame": {
               "duration": 800,
               "redraw": false
              },
              "mode": "immediate",
              "transition": {
               "duration": 800
              }
             }
            ],
            "label": "1977",
            "method": "animate"
           },
           {
            "args": [
             [
              "1978"
             ],
             {
              "frame": {
               "duration": 800,
               "redraw": false
              },
              "mode": "immediate",
              "transition": {
               "duration": 800
              }
             }
            ],
            "label": "1978",
            "method": "animate"
           },
           {
            "args": [
             [
              "1979"
             ],
             {
              "frame": {
               "duration": 800,
               "redraw": false
              },
              "mode": "immediate",
              "transition": {
               "duration": 800
              }
             }
            ],
            "label": "1979",
            "method": "animate"
           },
           {
            "args": [
             [
              "1980"
             ],
             {
              "frame": {
               "duration": 800,
               "redraw": false
              },
              "mode": "immediate",
              "transition": {
               "duration": 800
              }
             }
            ],
            "label": "1980",
            "method": "animate"
           },
           {
            "args": [
             [
              "1981"
             ],
             {
              "frame": {
               "duration": 800,
               "redraw": false
              },
              "mode": "immediate",
              "transition": {
               "duration": 800
              }
             }
            ],
            "label": "1981",
            "method": "animate"
           },
           {
            "args": [
             [
              "1982"
             ],
             {
              "frame": {
               "duration": 800,
               "redraw": false
              },
              "mode": "immediate",
              "transition": {
               "duration": 800
              }
             }
            ],
            "label": "1982",
            "method": "animate"
           },
           {
            "args": [
             [
              "1983"
             ],
             {
              "frame": {
               "duration": 800,
               "redraw": false
              },
              "mode": "immediate",
              "transition": {
               "duration": 800
              }
             }
            ],
            "label": "1983",
            "method": "animate"
           },
           {
            "args": [
             [
              "1984"
             ],
             {
              "frame": {
               "duration": 800,
               "redraw": false
              },
              "mode": "immediate",
              "transition": {
               "duration": 800
              }
             }
            ],
            "label": "1984",
            "method": "animate"
           },
           {
            "args": [
             [
              "1985"
             ],
             {
              "frame": {
               "duration": 800,
               "redraw": false
              },
              "mode": "immediate",
              "transition": {
               "duration": 800
              }
             }
            ],
            "label": "1985",
            "method": "animate"
           },
           {
            "args": [
             [
              "1986"
             ],
             {
              "frame": {
               "duration": 800,
               "redraw": false
              },
              "mode": "immediate",
              "transition": {
               "duration": 800
              }
             }
            ],
            "label": "1986",
            "method": "animate"
           },
           {
            "args": [
             [
              "1987"
             ],
             {
              "frame": {
               "duration": 800,
               "redraw": false
              },
              "mode": "immediate",
              "transition": {
               "duration": 800
              }
             }
            ],
            "label": "1987",
            "method": "animate"
           },
           {
            "args": [
             [
              "1988"
             ],
             {
              "frame": {
               "duration": 800,
               "redraw": false
              },
              "mode": "immediate",
              "transition": {
               "duration": 800
              }
             }
            ],
            "label": "1988",
            "method": "animate"
           },
           {
            "args": [
             [
              "1989"
             ],
             {
              "frame": {
               "duration": 800,
               "redraw": false
              },
              "mode": "immediate",
              "transition": {
               "duration": 800
              }
             }
            ],
            "label": "1989",
            "method": "animate"
           },
           {
            "args": [
             [
              "1990"
             ],
             {
              "frame": {
               "duration": 800,
               "redraw": false
              },
              "mode": "immediate",
              "transition": {
               "duration": 800
              }
             }
            ],
            "label": "1990",
            "method": "animate"
           },
           {
            "args": [
             [
              "1991"
             ],
             {
              "frame": {
               "duration": 800,
               "redraw": false
              },
              "mode": "immediate",
              "transition": {
               "duration": 800
              }
             }
            ],
            "label": "1991",
            "method": "animate"
           },
           {
            "args": [
             [
              "1992"
             ],
             {
              "frame": {
               "duration": 800,
               "redraw": false
              },
              "mode": "immediate",
              "transition": {
               "duration": 800
              }
             }
            ],
            "label": "1992",
            "method": "animate"
           },
           {
            "args": [
             [
              "1993"
             ],
             {
              "frame": {
               "duration": 800,
               "redraw": false
              },
              "mode": "immediate",
              "transition": {
               "duration": 800
              }
             }
            ],
            "label": "1993",
            "method": "animate"
           },
           {
            "args": [
             [
              "1994"
             ],
             {
              "frame": {
               "duration": 800,
               "redraw": false
              },
              "mode": "immediate",
              "transition": {
               "duration": 800
              }
             }
            ],
            "label": "1994",
            "method": "animate"
           },
           {
            "args": [
             [
              "1995"
             ],
             {
              "frame": {
               "duration": 800,
               "redraw": false
              },
              "mode": "immediate",
              "transition": {
               "duration": 800
              }
             }
            ],
            "label": "1995",
            "method": "animate"
           },
           {
            "args": [
             [
              "1996"
             ],
             {
              "frame": {
               "duration": 800,
               "redraw": false
              },
              "mode": "immediate",
              "transition": {
               "duration": 800
              }
             }
            ],
            "label": "1996",
            "method": "animate"
           },
           {
            "args": [
             [
              "1997"
             ],
             {
              "frame": {
               "duration": 800,
               "redraw": false
              },
              "mode": "immediate",
              "transition": {
               "duration": 800
              }
             }
            ],
            "label": "1997",
            "method": "animate"
           },
           {
            "args": [
             [
              "1998"
             ],
             {
              "frame": {
               "duration": 800,
               "redraw": false
              },
              "mode": "immediate",
              "transition": {
               "duration": 800
              }
             }
            ],
            "label": "1998",
            "method": "animate"
           },
           {
            "args": [
             [
              "1999"
             ],
             {
              "frame": {
               "duration": 800,
               "redraw": false
              },
              "mode": "immediate",
              "transition": {
               "duration": 800
              }
             }
            ],
            "label": "1999",
            "method": "animate"
           },
           {
            "args": [
             [
              "2000"
             ],
             {
              "frame": {
               "duration": 800,
               "redraw": false
              },
              "mode": "immediate",
              "transition": {
               "duration": 800
              }
             }
            ],
            "label": "2000",
            "method": "animate"
           },
           {
            "args": [
             [
              "2001"
             ],
             {
              "frame": {
               "duration": 800,
               "redraw": false
              },
              "mode": "immediate",
              "transition": {
               "duration": 800
              }
             }
            ],
            "label": "2001",
            "method": "animate"
           },
           {
            "args": [
             [
              "2002"
             ],
             {
              "frame": {
               "duration": 800,
               "redraw": false
              },
              "mode": "immediate",
              "transition": {
               "duration": 800
              }
             }
            ],
            "label": "2002",
            "method": "animate"
           },
           {
            "args": [
             [
              "2003"
             ],
             {
              "frame": {
               "duration": 800,
               "redraw": false
              },
              "mode": "immediate",
              "transition": {
               "duration": 800
              }
             }
            ],
            "label": "2003",
            "method": "animate"
           },
           {
            "args": [
             [
              "2004"
             ],
             {
              "frame": {
               "duration": 800,
               "redraw": false
              },
              "mode": "immediate",
              "transition": {
               "duration": 800
              }
             }
            ],
            "label": "2004",
            "method": "animate"
           },
           {
            "args": [
             [
              "2005"
             ],
             {
              "frame": {
               "duration": 800,
               "redraw": false
              },
              "mode": "immediate",
              "transition": {
               "duration": 800
              }
             }
            ],
            "label": "2005",
            "method": "animate"
           },
           {
            "args": [
             [
              "2006"
             ],
             {
              "frame": {
               "duration": 800,
               "redraw": false
              },
              "mode": "immediate",
              "transition": {
               "duration": 800
              }
             }
            ],
            "label": "2006",
            "method": "animate"
           },
           {
            "args": [
             [
              "2007"
             ],
             {
              "frame": {
               "duration": 800,
               "redraw": false
              },
              "mode": "immediate",
              "transition": {
               "duration": 800
              }
             }
            ],
            "label": "2007",
            "method": "animate"
           },
           {
            "args": [
             [
              "2008"
             ],
             {
              "frame": {
               "duration": 800,
               "redraw": false
              },
              "mode": "immediate",
              "transition": {
               "duration": 800
              }
             }
            ],
            "label": "2008",
            "method": "animate"
           },
           {
            "args": [
             [
              "2009"
             ],
             {
              "frame": {
               "duration": 800,
               "redraw": false
              },
              "mode": "immediate",
              "transition": {
               "duration": 800
              }
             }
            ],
            "label": "2009",
            "method": "animate"
           },
           {
            "args": [
             [
              "2010"
             ],
             {
              "frame": {
               "duration": 800,
               "redraw": false
              },
              "mode": "immediate",
              "transition": {
               "duration": 800
              }
             }
            ],
            "label": "2010",
            "method": "animate"
           },
           {
            "args": [
             [
              "2011"
             ],
             {
              "frame": {
               "duration": 800,
               "redraw": false
              },
              "mode": "immediate",
              "transition": {
               "duration": 800
              }
             }
            ],
            "label": "2011",
            "method": "animate"
           },
           {
            "args": [
             [
              "2012"
             ],
             {
              "frame": {
               "duration": 800,
               "redraw": false
              },
              "mode": "immediate",
              "transition": {
               "duration": 800
              }
             }
            ],
            "label": "2012",
            "method": "animate"
           },
           {
            "args": [
             [
              "2013"
             ],
             {
              "frame": {
               "duration": 800,
               "redraw": false
              },
              "mode": "immediate",
              "transition": {
               "duration": 800
              }
             }
            ],
            "label": "2013",
            "method": "animate"
           },
           {
            "args": [
             [
              "2014"
             ],
             {
              "frame": {
               "duration": 800,
               "redraw": false
              },
              "mode": "immediate",
              "transition": {
               "duration": 800
              }
             }
            ],
            "label": "2014",
            "method": "animate"
           },
           {
            "args": [
             [
              "2015"
             ],
             {
              "frame": {
               "duration": 800,
               "redraw": false
              },
              "mode": "immediate",
              "transition": {
               "duration": 800
              }
             }
            ],
            "label": "2015",
            "method": "animate"
           },
           {
            "args": [
             [
              "2016"
             ],
             {
              "frame": {
               "duration": 800,
               "redraw": false
              },
              "mode": "immediate",
              "transition": {
               "duration": 800
              }
             }
            ],
            "label": "2016",
            "method": "animate"
           },
           {
            "args": [
             [
              "2017"
             ],
             {
              "frame": {
               "duration": 800,
               "redraw": false
              },
              "mode": "immediate",
              "transition": {
               "duration": 800
              }
             }
            ],
            "label": "2017",
            "method": "animate"
           },
           {
            "args": [
             [
              "2018"
             ],
             {
              "frame": {
               "duration": 800,
               "redraw": false
              },
              "mode": "immediate",
              "transition": {
               "duration": 800
              }
             }
            ],
            "label": "2018",
            "method": "animate"
           },
           {
            "args": [
             [
              "2019"
             ],
             {
              "frame": {
               "duration": 800,
               "redraw": false
              },
              "mode": "immediate",
              "transition": {
               "duration": 800
              }
             }
            ],
            "label": "2019",
            "method": "animate"
           },
           {
            "args": [
             [
              "2020"
             ],
             {
              "frame": {
               "duration": 800,
               "redraw": false
              },
              "mode": "immediate",
              "transition": {
               "duration": 800
              }
             }
            ],
            "label": "2020",
            "method": "animate"
           }
          ],
          "transition": {
           "duration": 300,
           "easing": "cubic-in-out"
          },
          "x": 0.1,
          "xanchor": "left",
          "y": 0,
          "yanchor": "top"
         }
        ],
        "template": {
         "data": {
          "bar": [
           {
            "error_x": {
             "color": "#2a3f5f"
            },
            "error_y": {
             "color": "#2a3f5f"
            },
            "marker": {
             "line": {
              "color": "#E5ECF6",
              "width": 0.5
             },
             "pattern": {
              "fillmode": "overlay",
              "size": 10,
              "solidity": 0.2
             }
            },
            "type": "bar"
           }
          ],
          "barpolar": [
           {
            "marker": {
             "line": {
              "color": "#E5ECF6",
              "width": 0.5
             },
             "pattern": {
              "fillmode": "overlay",
              "size": 10,
              "solidity": 0.2
             }
            },
            "type": "barpolar"
           }
          ],
          "carpet": [
           {
            "aaxis": {
             "endlinecolor": "#2a3f5f",
             "gridcolor": "white",
             "linecolor": "white",
             "minorgridcolor": "white",
             "startlinecolor": "#2a3f5f"
            },
            "baxis": {
             "endlinecolor": "#2a3f5f",
             "gridcolor": "white",
             "linecolor": "white",
             "minorgridcolor": "white",
             "startlinecolor": "#2a3f5f"
            },
            "type": "carpet"
           }
          ],
          "choropleth": [
           {
            "colorbar": {
             "outlinewidth": 0,
             "ticks": ""
            },
            "type": "choropleth"
           }
          ],
          "contour": [
           {
            "colorbar": {
             "outlinewidth": 0,
             "ticks": ""
            },
            "colorscale": [
             [
              0,
              "#0d0887"
             ],
             [
              0.1111111111111111,
              "#46039f"
             ],
             [
              0.2222222222222222,
              "#7201a8"
             ],
             [
              0.3333333333333333,
              "#9c179e"
             ],
             [
              0.4444444444444444,
              "#bd3786"
             ],
             [
              0.5555555555555556,
              "#d8576b"
             ],
             [
              0.6666666666666666,
              "#ed7953"
             ],
             [
              0.7777777777777778,
              "#fb9f3a"
             ],
             [
              0.8888888888888888,
              "#fdca26"
             ],
             [
              1,
              "#f0f921"
             ]
            ],
            "type": "contour"
           }
          ],
          "contourcarpet": [
           {
            "colorbar": {
             "outlinewidth": 0,
             "ticks": ""
            },
            "type": "contourcarpet"
           }
          ],
          "heatmap": [
           {
            "colorbar": {
             "outlinewidth": 0,
             "ticks": ""
            },
            "colorscale": [
             [
              0,
              "#0d0887"
             ],
             [
              0.1111111111111111,
              "#46039f"
             ],
             [
              0.2222222222222222,
              "#7201a8"
             ],
             [
              0.3333333333333333,
              "#9c179e"
             ],
             [
              0.4444444444444444,
              "#bd3786"
             ],
             [
              0.5555555555555556,
              "#d8576b"
             ],
             [
              0.6666666666666666,
              "#ed7953"
             ],
             [
              0.7777777777777778,
              "#fb9f3a"
             ],
             [
              0.8888888888888888,
              "#fdca26"
             ],
             [
              1,
              "#f0f921"
             ]
            ],
            "type": "heatmap"
           }
          ],
          "heatmapgl": [
           {
            "colorbar": {
             "outlinewidth": 0,
             "ticks": ""
            },
            "colorscale": [
             [
              0,
              "#0d0887"
             ],
             [
              0.1111111111111111,
              "#46039f"
             ],
             [
              0.2222222222222222,
              "#7201a8"
             ],
             [
              0.3333333333333333,
              "#9c179e"
             ],
             [
              0.4444444444444444,
              "#bd3786"
             ],
             [
              0.5555555555555556,
              "#d8576b"
             ],
             [
              0.6666666666666666,
              "#ed7953"
             ],
             [
              0.7777777777777778,
              "#fb9f3a"
             ],
             [
              0.8888888888888888,
              "#fdca26"
             ],
             [
              1,
              "#f0f921"
             ]
            ],
            "type": "heatmapgl"
           }
          ],
          "histogram": [
           {
            "marker": {
             "pattern": {
              "fillmode": "overlay",
              "size": 10,
              "solidity": 0.2
             }
            },
            "type": "histogram"
           }
          ],
          "histogram2d": [
           {
            "colorbar": {
             "outlinewidth": 0,
             "ticks": ""
            },
            "colorscale": [
             [
              0,
              "#0d0887"
             ],
             [
              0.1111111111111111,
              "#46039f"
             ],
             [
              0.2222222222222222,
              "#7201a8"
             ],
             [
              0.3333333333333333,
              "#9c179e"
             ],
             [
              0.4444444444444444,
              "#bd3786"
             ],
             [
              0.5555555555555556,
              "#d8576b"
             ],
             [
              0.6666666666666666,
              "#ed7953"
             ],
             [
              0.7777777777777778,
              "#fb9f3a"
             ],
             [
              0.8888888888888888,
              "#fdca26"
             ],
             [
              1,
              "#f0f921"
             ]
            ],
            "type": "histogram2d"
           }
          ],
          "histogram2dcontour": [
           {
            "colorbar": {
             "outlinewidth": 0,
             "ticks": ""
            },
            "colorscale": [
             [
              0,
              "#0d0887"
             ],
             [
              0.1111111111111111,
              "#46039f"
             ],
             [
              0.2222222222222222,
              "#7201a8"
             ],
             [
              0.3333333333333333,
              "#9c179e"
             ],
             [
              0.4444444444444444,
              "#bd3786"
             ],
             [
              0.5555555555555556,
              "#d8576b"
             ],
             [
              0.6666666666666666,
              "#ed7953"
             ],
             [
              0.7777777777777778,
              "#fb9f3a"
             ],
             [
              0.8888888888888888,
              "#fdca26"
             ],
             [
              1,
              "#f0f921"
             ]
            ],
            "type": "histogram2dcontour"
           }
          ],
          "mesh3d": [
           {
            "colorbar": {
             "outlinewidth": 0,
             "ticks": ""
            },
            "type": "mesh3d"
           }
          ],
          "parcoords": [
           {
            "line": {
             "colorbar": {
              "outlinewidth": 0,
              "ticks": ""
             }
            },
            "type": "parcoords"
           }
          ],
          "pie": [
           {
            "automargin": true,
            "type": "pie"
           }
          ],
          "scatter": [
           {
            "fillpattern": {
             "fillmode": "overlay",
             "size": 10,
             "solidity": 0.2
            },
            "type": "scatter"
           }
          ],
          "scatter3d": [
           {
            "line": {
             "colorbar": {
              "outlinewidth": 0,
              "ticks": ""
             }
            },
            "marker": {
             "colorbar": {
              "outlinewidth": 0,
              "ticks": ""
             }
            },
            "type": "scatter3d"
           }
          ],
          "scattercarpet": [
           {
            "marker": {
             "colorbar": {
              "outlinewidth": 0,
              "ticks": ""
             }
            },
            "type": "scattercarpet"
           }
          ],
          "scattergeo": [
           {
            "marker": {
             "colorbar": {
              "outlinewidth": 0,
              "ticks": ""
             }
            },
            "type": "scattergeo"
           }
          ],
          "scattergl": [
           {
            "marker": {
             "colorbar": {
              "outlinewidth": 0,
              "ticks": ""
             }
            },
            "type": "scattergl"
           }
          ],
          "scattermapbox": [
           {
            "marker": {
             "colorbar": {
              "outlinewidth": 0,
              "ticks": ""
             }
            },
            "type": "scattermapbox"
           }
          ],
          "scatterpolar": [
           {
            "marker": {
             "colorbar": {
              "outlinewidth": 0,
              "ticks": ""
             }
            },
            "type": "scatterpolar"
           }
          ],
          "scatterpolargl": [
           {
            "marker": {
             "colorbar": {
              "outlinewidth": 0,
              "ticks": ""
             }
            },
            "type": "scatterpolargl"
           }
          ],
          "scatterternary": [
           {
            "marker": {
             "colorbar": {
              "outlinewidth": 0,
              "ticks": ""
             }
            },
            "type": "scatterternary"
           }
          ],
          "surface": [
           {
            "colorbar": {
             "outlinewidth": 0,
             "ticks": ""
            },
            "colorscale": [
             [
              0,
              "#0d0887"
             ],
             [
              0.1111111111111111,
              "#46039f"
             ],
             [
              0.2222222222222222,
              "#7201a8"
             ],
             [
              0.3333333333333333,
              "#9c179e"
             ],
             [
              0.4444444444444444,
              "#bd3786"
             ],
             [
              0.5555555555555556,
              "#d8576b"
             ],
             [
              0.6666666666666666,
              "#ed7953"
             ],
             [
              0.7777777777777778,
              "#fb9f3a"
             ],
             [
              0.8888888888888888,
              "#fdca26"
             ],
             [
              1,
              "#f0f921"
             ]
            ],
            "type": "surface"
           }
          ],
          "table": [
           {
            "cells": {
             "fill": {
              "color": "#EBF0F8"
             },
             "line": {
              "color": "white"
             }
            },
            "header": {
             "fill": {
              "color": "#C8D4E3"
             },
             "line": {
              "color": "white"
             }
            },
            "type": "table"
           }
          ]
         },
         "layout": {
          "annotationdefaults": {
           "arrowcolor": "#2a3f5f",
           "arrowhead": 0,
           "arrowwidth": 1
          },
          "autotypenumbers": "strict",
          "coloraxis": {
           "colorbar": {
            "outlinewidth": 0,
            "ticks": ""
           }
          },
          "colorscale": {
           "diverging": [
            [
             0,
             "#8e0152"
            ],
            [
             0.1,
             "#c51b7d"
            ],
            [
             0.2,
             "#de77ae"
            ],
            [
             0.3,
             "#f1b6da"
            ],
            [
             0.4,
             "#fde0ef"
            ],
            [
             0.5,
             "#f7f7f7"
            ],
            [
             0.6,
             "#e6f5d0"
            ],
            [
             0.7,
             "#b8e186"
            ],
            [
             0.8,
             "#7fbc41"
            ],
            [
             0.9,
             "#4d9221"
            ],
            [
             1,
             "#276419"
            ]
           ],
           "sequential": [
            [
             0,
             "#0d0887"
            ],
            [
             0.1111111111111111,
             "#46039f"
            ],
            [
             0.2222222222222222,
             "#7201a8"
            ],
            [
             0.3333333333333333,
             "#9c179e"
            ],
            [
             0.4444444444444444,
             "#bd3786"
            ],
            [
             0.5555555555555556,
             "#d8576b"
            ],
            [
             0.6666666666666666,
             "#ed7953"
            ],
            [
             0.7777777777777778,
             "#fb9f3a"
            ],
            [
             0.8888888888888888,
             "#fdca26"
            ],
            [
             1,
             "#f0f921"
            ]
           ],
           "sequentialminus": [
            [
             0,
             "#0d0887"
            ],
            [
             0.1111111111111111,
             "#46039f"
            ],
            [
             0.2222222222222222,
             "#7201a8"
            ],
            [
             0.3333333333333333,
             "#9c179e"
            ],
            [
             0.4444444444444444,
             "#bd3786"
            ],
            [
             0.5555555555555556,
             "#d8576b"
            ],
            [
             0.6666666666666666,
             "#ed7953"
            ],
            [
             0.7777777777777778,
             "#fb9f3a"
            ],
            [
             0.8888888888888888,
             "#fdca26"
            ],
            [
             1,
             "#f0f921"
            ]
           ]
          },
          "colorway": [
           "#636efa",
           "#EF553B",
           "#00cc96",
           "#ab63fa",
           "#FFA15A",
           "#19d3f3",
           "#FF6692",
           "#B6E880",
           "#FF97FF",
           "#FECB52"
          ],
          "font": {
           "color": "#2a3f5f"
          },
          "geo": {
           "bgcolor": "white",
           "lakecolor": "white",
           "landcolor": "#E5ECF6",
           "showlakes": true,
           "showland": true,
           "subunitcolor": "white"
          },
          "hoverlabel": {
           "align": "left"
          },
          "hovermode": "closest",
          "mapbox": {
           "style": "light"
          },
          "paper_bgcolor": "white",
          "plot_bgcolor": "#E5ECF6",
          "polar": {
           "angularaxis": {
            "gridcolor": "white",
            "linecolor": "white",
            "ticks": ""
           },
           "bgcolor": "#E5ECF6",
           "radialaxis": {
            "gridcolor": "white",
            "linecolor": "white",
            "ticks": ""
           }
          },
          "scene": {
           "xaxis": {
            "backgroundcolor": "#E5ECF6",
            "gridcolor": "white",
            "gridwidth": 2,
            "linecolor": "white",
            "showbackground": true,
            "ticks": "",
            "zerolinecolor": "white"
           },
           "yaxis": {
            "backgroundcolor": "#E5ECF6",
            "gridcolor": "white",
            "gridwidth": 2,
            "linecolor": "white",
            "showbackground": true,
            "ticks": "",
            "zerolinecolor": "white"
           },
           "zaxis": {
            "backgroundcolor": "#E5ECF6",
            "gridcolor": "white",
            "gridwidth": 2,
            "linecolor": "white",
            "showbackground": true,
            "ticks": "",
            "zerolinecolor": "white"
           }
          },
          "shapedefaults": {
           "line": {
            "color": "#2a3f5f"
           }
          },
          "ternary": {
           "aaxis": {
            "gridcolor": "white",
            "linecolor": "white",
            "ticks": ""
           },
           "baxis": {
            "gridcolor": "white",
            "linecolor": "white",
            "ticks": ""
           },
           "bgcolor": "#E5ECF6",
           "caxis": {
            "gridcolor": "white",
            "linecolor": "white",
            "ticks": ""
           }
          },
          "title": {
           "x": 0.05
          },
          "xaxis": {
           "automargin": true,
           "gridcolor": "white",
           "linecolor": "white",
           "ticks": "",
           "title": {
            "standoff": 15
           },
           "zerolinecolor": "white",
           "zerolinewidth": 2
          },
          "yaxis": {
           "automargin": true,
           "gridcolor": "white",
           "linecolor": "white",
           "ticks": "",
           "title": {
            "standoff": 15
           },
           "zerolinecolor": "white",
           "zerolinewidth": 2
          }
         }
        },
        "title": {
         "text": "Top 10 prenoms"
        },
        "updatemenus": [
         {
          "buttons": [
           {
            "args": [
             null,
             {
              "frame": {
               "duration": 800,
               "redraw": false
              },
              "fromcurrent": true,
              "transition": {
               "duration": 800,
               "easing": "quadratic-in-out"
              }
             }
            ],
            "label": "Play",
            "method": "animate"
           },
           {
            "args": [
             [
              null
             ],
             {
              "frame": {
               "duration": 0,
               "redraw": false
              },
              "mode": "immediate",
              "transition": {
               "duration": 0
              }
             }
            ],
            "label": "Pause",
            "method": "animate"
           }
          ],
          "direction": "left",
          "pad": {
           "r": 10,
           "t": 87
          },
          "showactive": true,
          "type": "buttons",
          "x": 0.1,
          "xanchor": "right",
          "y": 0,
          "yanchor": "top"
         }
        ],
        "xaxis": {
         "range": [
          0,
          53596
         ],
         "showline": true,
         "showticklabels": true,
         "title": {
          "text": "nombre"
         },
         "visible": true
        },
        "yaxis": {
         "showline": false,
         "showticklabels": false,
         "title": {
          "text": "Top 10 prenoms"
         },
         "visible": true
        }
       }
      }
     },
     "metadata": {},
     "output_type": "display_data"
    }
   ],
   "source": [
    "data = pd.read_csv('data/dpt2020.csv', sep=';')\n",
    "data.head()\n",
    "# concatenate duplicates prenoms\n",
    "grouped_df = data.groupby(['prenoms', 'annee'], as_index=False).sum()\n",
    "\n",
    "my_raceplot = barplot(grouped_df,\n",
    "                      item_column='prenoms',\n",
    "                      value_column='nombre',\n",
    "                      time_column='annee')\n",
    "\n",
    "my_raceplot.plot(title = 'Top 10 prenoms',\n",
    "                 item_label = 'Top 10 prenoms',\n",
    "                 value_label = 'nombre',\n",
    "                 frame_duration = 800)"
   ]
  },
  {
   "cell_type": "code",
   "execution_count": null,
   "metadata": {},
   "outputs": [],
   "source": []
  }
 ],
 "metadata": {
  "kernelspec": {
   "display_name": "Dataviz",
   "language": "python",
   "name": "python3"
  },
  "language_info": {
   "codemirror_mode": {
    "name": "ipython",
    "version": 3
   },
   "file_extension": ".py",
   "mimetype": "text/x-python",
   "name": "python",
   "nbconvert_exporter": "python",
   "pygments_lexer": "ipython3",
   "version": "3.8.19"
  }
 },
 "nbformat": 4,
 "nbformat_minor": 2
}
